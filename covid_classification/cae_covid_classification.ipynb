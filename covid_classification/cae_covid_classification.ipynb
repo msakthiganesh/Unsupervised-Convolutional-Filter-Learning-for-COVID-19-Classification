{
  "nbformat": 4,
  "nbformat_minor": 0,
  "metadata": {
    "colab": {
      "name": "cae_covid_classification.ipynb",
      "provenance": [],
      "collapsed_sections": []
    },
    "kernelspec": {
      "name": "python3",
      "display_name": "Python 3"
    },
    "language_info": {
      "name": "python"
    },
    "accelerator": "GPU"
  },
  "cells": [
    {
      "cell_type": "code",
      "metadata": {
        "id": "mk2kb2kjzNZU"
      },
      "source": [
        "from tqdm.notebook import tqdm_notebook\n",
        "import tensorflow as tf\n",
        "import zipfile\n",
        "import glob\n",
        "import numpy as np\n",
        "import pandas as pd\n",
        "from sklearn.model_selection import train_test_split\n",
        "from sklearn import metrics\n",
        "import matplotlib\n",
        "import matplotlib.pyplot as plt\n",
        "import seaborn as sns\n",
        "import os\n",
        "import random\n",
        "import shutil"
      ],
      "execution_count": null,
      "outputs": []
    },
    {
      "cell_type": "code",
      "metadata": {
        "id": "OQ4ggzE4zUKN"
      },
      "source": [
        "tf.random.set_seed(1)\n",
        "random.seed(1)\n",
        "np.random.seed(1)"
      ],
      "execution_count": null,
      "outputs": []
    },
    {
      "cell_type": "code",
      "metadata": {
        "colab": {
          "base_uri": "https://localhost:8080/"
        },
        "id": "GtSBTgCVzmpA",
        "outputId": "3cef9b78-2cbf-4551-d10b-15202c7d2fa5"
      },
      "source": [
        "!wget \"https://storage.googleapis.com/cae_covid_classification/covid_normal_pneumonia.zip\""
      ],
      "execution_count": null,
      "outputs": [
        {
          "output_type": "stream",
          "text": [
            "--2021-07-31 11:29:31--  https://storage.googleapis.com/cae_covid_classification/covid_normal_pneumonia.zip\n",
            "Resolving storage.googleapis.com (storage.googleapis.com)... 142.251.2.128, 74.125.137.128, 142.250.141.128, ...\n",
            "Connecting to storage.googleapis.com (storage.googleapis.com)|142.251.2.128|:443... connected.\n",
            "HTTP request sent, awaiting response... 200 OK\n",
            "Length: 815753304 (778M) [application/x-zip-compressed]\n",
            "Saving to: ‘covid_normal_pneumonia.zip’\n",
            "\n",
            "covid_normal_pneumo 100%[===================>] 777.96M   151MB/s    in 5.1s    \n",
            "\n",
            "2021-07-31 11:29:37 (153 MB/s) - ‘covid_normal_pneumonia.zip’ saved [815753304/815753304]\n",
            "\n"
          ],
          "name": "stdout"
        }
      ]
    },
    {
      "cell_type": "code",
      "metadata": {
        "id": "PzLluOqhz5So"
      },
      "source": [
        "!unzip -q covid_normal_pneumonia.zip"
      ],
      "execution_count": null,
      "outputs": []
    },
    {
      "cell_type": "code",
      "metadata": {
        "colab": {
          "base_uri": "https://localhost:8080/"
        },
        "id": "k9Ggr3Hhzmm8",
        "outputId": "91be0960-cd78-47ee-db9a-4633ec2d6d88"
      },
      "source": [
        "total_covid = len(os.listdir('covid_normal_pneumonia/COVID/'))\n",
        "total_normal = len(os.listdir('covid_normal_pneumonia/NORMAL/'))\n",
        "total_pneumonia = len(os.listdir('covid_normal_pneumonia/PNEUMONIA/'))\n",
        "print('covid_count : {} | normal_count : {} | pneumonia_count : {}'.format( str(total_covid),str(total_normal),str(total_pneumonia)) )"
      ],
      "execution_count": null,
      "outputs": [
        {
          "output_type": "stream",
          "text": [
            "covid_count : 3709 | normal_count : 3700 | pneumonia_count : 3700\n"
          ],
          "name": "stdout"
        }
      ]
    },
    {
      "cell_type": "code",
      "metadata": {
        "colab": {
          "base_uri": "https://localhost:8080/"
        },
        "id": "2iNe44wjzmj_",
        "outputId": "2fcb4765-cd5b-4e7a-f45e-bf8023e060c5"
      },
      "source": [
        "try:\n",
        "    os.system(\"rm -rf ./split_data\")\n",
        "    os.mkdir('split_data')\n",
        "    os.mkdir('split_data/train')\n",
        "    os.mkdir('split_data/valid_test')\n",
        "    os.mkdir('split_data/valid')\n",
        "    os.mkdir('split_data/test')\n",
        "\n",
        "    os.mkdir('split_data/train/COVID')\n",
        "    os.mkdir('split_data/train/NORMAL')\n",
        "    os.mkdir('split_data/train/PNEUMONIA')\n",
        "\n",
        "    os.mkdir('split_data/valid_test/COVID')\n",
        "    os.mkdir('split_data/valid_test/NORMAL')\n",
        "    os.mkdir('split_data/valid_test/PNEUMONIA')\n",
        "\n",
        "    os.mkdir('split_data/valid/COVID')\n",
        "    os.mkdir('split_data/valid/NORMAL')\n",
        "    os.mkdir('split_data/valid/PNEUMONIA')\n",
        "\n",
        "    os.mkdir('split_data/test/COVID')\n",
        "    os.mkdir('split_data/test/NORMAL')\n",
        "    os.mkdir('split_data/test/PNEUMONIA')\n",
        "    print('created directories')\n",
        "except OSError as e:\n",
        "    print('OS error occurred', e)"
      ],
      "execution_count": null,
      "outputs": [
        {
          "output_type": "stream",
          "text": [
            "created directories\n"
          ],
          "name": "stdout"
        }
      ]
    },
    {
      "cell_type": "code",
      "metadata": {
        "id": "7yuMNj3wzmhW"
      },
      "source": [
        "def split_data(source, training, testing, split_ratio):\n",
        "  threshold = len(os.listdir(source)) * split_ratio\n",
        "  flag = 0\n",
        "  for i in random.sample(os.listdir(source), len(os.listdir(source))):\n",
        "    flag += 1\n",
        "    if flag <= threshold:\n",
        "      if os.path.getsize(source + i) > 0:\n",
        "        shutil.copyfile(source + i, training + i)\n",
        "      else:\n",
        "        print(source + i + \" is zero length, so ignoring\")\n",
        "    else:\n",
        "      if os.path.getsize(source + i) > 0:\n",
        "        shutil.copyfile(source + i, testing + i)\n",
        "      else:\n",
        "        print(source + i + \" is zero length, so ignoring\")"
      ],
      "execution_count": null,
      "outputs": []
    },
    {
      "cell_type": "code",
      "metadata": {
        "id": "34mgbtJ20G7D"
      },
      "source": [
        "COVID_SOURCE_DIR = 'covid_normal_pneumonia/COVID/'\n",
        "NORMAL_SOURCE_DIR = 'covid_normal_pneumonia/NORMAL/'\n",
        "PNEUMONIA_SOURCE_DIR = 'covid_normal_pneumonia/PNEUMONIA/'\n",
        "\n",
        "TRAINING_COVID_DIR = 'split_data/train/COVID/'\n",
        "VALID_TEST_COVID_DIR = 'split_data/valid_test/COVID/'\n",
        "VALIDATING_COVID_DIR = 'split_data/valid/COVID/'\n",
        "TESTING_COVID_DIR = 'split_data/test/COVID/'\n",
        "\n",
        "TRAINING_NORMAL_DIR = 'split_data/train/NORMAL/'\n",
        "VALID_TEST_NORMAL_DIR = 'split_data/valid_test/NORMAL/'\n",
        "VALIDATING_NORMAL_DIR = 'split_data/valid/NORMAL/'\n",
        "TESTING_NORMAL_DIR = 'split_data/test/NORMAL/'\n",
        "\n",
        "TRAINING_PNEUMONIA_DIR = 'split_data/train/PNEUMONIA/'\n",
        "VALID_TEST_PNEUMONIA_DIR = 'split_data/valid_test/PNEUMONIA/'\n",
        "VALIDATING_PNEUMONIA_DIR = 'split_data/valid/PNEUMONIA/'\n",
        "TESTING_PNEUMONIA_DIR = 'split_data/test/PNEUMONIA/'"
      ],
      "execution_count": null,
      "outputs": []
    },
    {
      "cell_type": "code",
      "metadata": {
        "id": "KWElpnl80G4i"
      },
      "source": [
        "split_data(COVID_SOURCE_DIR, TRAINING_COVID_DIR, VALID_TEST_COVID_DIR, 0.729)\n",
        "split_data(VALID_TEST_COVID_DIR, VALIDATING_COVID_DIR, TESTING_COVID_DIR, 0.5)"
      ],
      "execution_count": null,
      "outputs": []
    },
    {
      "cell_type": "code",
      "metadata": {
        "id": "qDL4S89y0G2y"
      },
      "source": [
        "tr_c = len(os.listdir(TRAINING_COVID_DIR))\n",
        "vl_c = len(os.listdir(VALIDATING_COVID_DIR))\n",
        "tst_c = len(os.listdir(TESTING_COVID_DIR))\n",
        "print('covid_train count : {} | covid_valid count : {} | covid_test count : {}'.format( str(tr_c),str(vl_c),str(tst_c)) )"
      ],
      "execution_count": null,
      "outputs": []
    },
    {
      "cell_type": "code",
      "metadata": {
        "id": "ZBWX53hx0G0d"
      },
      "source": [
        "split_data(NORMAL_SOURCE_DIR, TRAINING_NORMAL_DIR, VALID_TEST_NORMAL_DIR, 0.729)\n",
        "split_data(VALID_TEST_NORMAL_DIR, VALIDATING_NORMAL_DIR, TESTING_NORMAL_DIR, 0.5)"
      ],
      "execution_count": null,
      "outputs": []
    },
    {
      "cell_type": "code",
      "metadata": {
        "id": "lk7H4G9B3uFo"
      },
      "source": [
        "tr_n = len(os.listdir(TRAINING_NORMAL_DIR))\n",
        "vl_n = len(os.listdir(VALIDATING_NORMAL_DIR))\n",
        "tst_n = len(os.listdir(TESTING_NORMAL_DIR))\n",
        "print('normal_train count : {} | normal_valid count : {} | normal_test count : {}'.format( str(tr_n),str(vl_n),str(tst_n)) )"
      ],
      "execution_count": null,
      "outputs": []
    },
    {
      "cell_type": "code",
      "metadata": {
        "id": "StIQ2L1Z3EaX"
      },
      "source": [
        "split_data(PNEUMONIA_SOURCE_DIR, TRAINING_PNEUMONIA_DIR, VALID_TEST_PNEUMONIA_DIR, 0.729)\n",
        "split_data(VALID_TEST_PNEUMONIA_DIR, VALIDATING_PNEUMONIA_DIR, TESTING_PNEUMONIA_DIR, 0.5)"
      ],
      "execution_count": null,
      "outputs": []
    },
    {
      "cell_type": "code",
      "metadata": {
        "id": "8krPm1oo37Np"
      },
      "source": [
        "tr_p = len(os.listdir(TRAINING_PNEUMONIA_DIR))\n",
        "vl_p = len(os.listdir(VALIDATING_PNEUMONIA_DIR))\n",
        "tst_p = len(os.listdir(TESTING_PNEUMONIA_DIR))\n",
        "print('pneumonia_train count : {} | pneumonia_valid count : {} | pneumonia_test count : {}'.format( str(tr_p),str(vl_p),str(tst_p)) )"
      ],
      "execution_count": null,
      "outputs": []
    },
    {
      "cell_type": "code",
      "metadata": {
        "id": "AExseRUADkUf"
      },
      "source": [
        "TRAINING_DIR = 'split_data/train/'\n",
        "train_datagen = tf.keras.preprocessing.image.ImageDataGenerator(rescale=1 / 255.0)\n",
        "train_generator = train_datagen.flow_from_directory(TRAINING_DIR,\n",
        "                                                    target_size=(224, 224),\n",
        "                                                    class_mode='categorical',\n",
        "                                                    shuffle=True,\n",
        "                                                    batch_size=16)\n",
        "\n",
        "VALIDATING_DIR = 'split_data/valid/'\n",
        "valid_datagen = tf.keras.preprocessing.image.ImageDataGenerator(rescale=1 / 255.0)\n",
        "valid_generator = valid_datagen.flow_from_directory(VALIDATING_DIR,\n",
        "                                                    target_size=(224, 224),\n",
        "                                                    class_mode='categorical',\n",
        "                                                    shuffle=False,\n",
        "                                                    batch_size=16)"
      ],
      "execution_count": null,
      "outputs": []
    },
    {
      "cell_type": "code",
      "metadata": {
        "id": "u5K7mJ374i5E"
      },
      "source": [
        "cae_model = tf.keras.models.load_model('pretrain_cae/cae.h5')"
      ],
      "execution_count": null,
      "outputs": []
    },
    {
      "cell_type": "code",
      "metadata": {
        "id": "5_p6Him844fq"
      },
      "source": [
        "for layer in cae_model.layers[0].layers:\n",
        "  layer.trainable = False"
      ],
      "execution_count": null,
      "outputs": []
    },
    {
      "cell_type": "code",
      "metadata": {
        "id": "8FbNwUrH_sLL"
      },
      "source": [
        "for batch, label in train_generator:\n",
        "  print(batch.shape)\n",
        "   # values should be in `[0,1]`.\n",
        "  print(np.min(batch[0]), np.max(batch[0]))\n",
        "  break\n"
      ],
      "execution_count": null,
      "outputs": []
    },
    {
      "cell_type": "code",
      "metadata": {
        "id": "ynAEb6au48An"
      },
      "source": [
        "enc_out = cae_model.layers[0].output"
      ],
      "execution_count": null,
      "outputs": []
    },
    {
      "cell_type": "code",
      "metadata": {
        "id": "ZKXspdhp4938"
      },
      "source": [
        "y = tf.keras.layers.Reshape((49,512))(enc_out)\n",
        "y = tf.keras.layers.LSTM(512, return_sequences=True)(y)\n",
        "y = tf.keras.layers.Flatten()(y)\n",
        "y = tf.keras.layers.Dense(64, activation='relu')(y)\n",
        "y = tf.keras.layers.Dense(3, activation='softmax')(y)"
      ],
      "execution_count": null,
      "outputs": []
    },
    {
      "cell_type": "code",
      "metadata": {
        "id": "FM2kzTnC5DF8"
      },
      "source": [
        "classification = tf.keras.Model(cae_model.layers[0].input, y)"
      ],
      "execution_count": null,
      "outputs": []
    },
    {
      "cell_type": "code",
      "metadata": {
        "colab": {
          "base_uri": "https://localhost:8080/"
        },
        "id": "Q0bVhvOU5N5t",
        "outputId": "e2398760-f3bc-4403-a3f4-15ca7bd5d23c"
      },
      "source": [
        "classification.summary()"
      ],
      "execution_count": null,
      "outputs": [
        {
          "output_type": "stream",
          "text": [
            "Model: \"model\"\n",
            "_________________________________________________________________\n",
            "Layer (type)                 Output Shape              Param #   \n",
            "=================================================================\n",
            "input_1 (InputLayer)         [(None, 224, 224, 3)]     0         \n",
            "_________________________________________________________________\n",
            "conv2d (Conv2D)              (None, 224, 224, 64)      1792      \n",
            "_________________________________________________________________\n",
            "conv2d_1 (Conv2D)            (None, 224, 224, 64)      36928     \n",
            "_________________________________________________________________\n",
            "max_pooling2d (MaxPooling2D) (None, 112, 112, 64)      0         \n",
            "_________________________________________________________________\n",
            "conv2d_2 (Conv2D)            (None, 112, 112, 128)     73856     \n",
            "_________________________________________________________________\n",
            "max_pooling2d_1 (MaxPooling2 (None, 56, 56, 128)       0         \n",
            "_________________________________________________________________\n",
            "conv2d_3 (Conv2D)            (None, 56, 56, 256)       295168    \n",
            "_________________________________________________________________\n",
            "max_pooling2d_2 (MaxPooling2 (None, 28, 28, 256)       0         \n",
            "_________________________________________________________________\n",
            "conv2d_4 (Conv2D)            (None, 28, 28, 512)       1180160   \n",
            "_________________________________________________________________\n",
            "max_pooling2d_3 (MaxPooling2 (None, 14, 14, 512)       0         \n",
            "_________________________________________________________________\n",
            "conv2d_5 (Conv2D)            (None, 14, 14, 512)       2359808   \n",
            "_________________________________________________________________\n",
            "max_pooling2d_4 (MaxPooling2 (None, 7, 7, 512)         0         \n",
            "_________________________________________________________________\n",
            "reshape (Reshape)            (None, 49, 512)           0         \n",
            "_________________________________________________________________\n",
            "lstm (LSTM)                  (None, 49, 512)           2099200   \n",
            "_________________________________________________________________\n",
            "flatten (Flatten)            (None, 25088)             0         \n",
            "_________________________________________________________________\n",
            "dense (Dense)                (None, 64)                1605696   \n",
            "_________________________________________________________________\n",
            "dense_1 (Dense)              (None, 3)                 195       \n",
            "=================================================================\n",
            "Total params: 7,652,803\n",
            "Trainable params: 3,705,091\n",
            "Non-trainable params: 3,947,712\n",
            "_________________________________________________________________\n"
          ],
          "name": "stdout"
        }
      ]
    },
    {
      "cell_type": "code",
      "metadata": {
        "id": "vHAduELH5OrA"
      },
      "source": [
        "classification.compile(optimizer='adam', loss='categorical_crossentropy', metrics=['accuracy'])"
      ],
      "execution_count": null,
      "outputs": []
    },
    {
      "cell_type": "code",
      "metadata": {
        "id": "10R1ALmY5OoQ"
      },
      "source": [
        "early_stopping_cb = tf.keras.callbacks.EarlyStopping(monitor='val_loss', patience=5, mode='auto')"
      ],
      "execution_count": null,
      "outputs": []
    },
    {
      "cell_type": "code",
      "metadata": {
        "id": "BiP5smLC5Omi"
      },
      "source": [
        "checkpoint_cb = tf.keras.callbacks.ModelCheckpoint('covid_classification.h5', save_best_only=True)"
      ],
      "execution_count": null,
      "outputs": []
    },
    {
      "cell_type": "code",
      "metadata": {
        "id": "rJATMZrpaQBb"
      },
      "source": [
        "epochs = 20"
      ],
      "execution_count": null,
      "outputs": []
    },
    {
      "cell_type": "code",
      "metadata": {
        "colab": {
          "base_uri": "https://localhost:8080/"
        },
        "id": "xpDd0gYs5Ojd",
        "outputId": "b80cf001-2d89-445d-c9d2-d46863959440"
      },
      "source": [
        "history = classification.fit(train_generator,\n",
        "                             epochs=epochs,\n",
        "                             validation_data=valid_generator,\n",
        "                             callbacks=[early_stopping_cb, checkpoint_cb])"
      ],
      "execution_count": null,
      "outputs": [
        {
          "output_type": "stream",
          "text": [
            "Epoch 1/20\n",
            "507/507 [==============================] - 96s 124ms/step - loss: 0.3463 - accuracy: 0.8539 - val_loss: 0.2020 - val_accuracy: 0.9316\n",
            "Epoch 2/20\n",
            "507/507 [==============================] - 62s 122ms/step - loss: 0.1601 - accuracy: 0.9402 - val_loss: 0.1361 - val_accuracy: 0.9535\n",
            "Epoch 3/20\n",
            "507/507 [==============================] - 62s 123ms/step - loss: 0.1101 - accuracy: 0.9616 - val_loss: 0.1081 - val_accuracy: 0.9628\n",
            "Epoch 4/20\n",
            "507/507 [==============================] - 63s 124ms/step - loss: 0.0928 - accuracy: 0.9667 - val_loss: 0.1276 - val_accuracy: 0.9502\n",
            "Epoch 5/20\n",
            "507/507 [==============================] - 62s 123ms/step - loss: 0.0659 - accuracy: 0.9774 - val_loss: 0.1217 - val_accuracy: 0.9581\n",
            "Epoch 6/20\n",
            "507/507 [==============================] - 62s 122ms/step - loss: 0.0556 - accuracy: 0.9810 - val_loss: 0.1283 - val_accuracy: 0.9588\n",
            "Epoch 7/20\n",
            "507/507 [==============================] - 62s 122ms/step - loss: 0.0446 - accuracy: 0.9843 - val_loss: 0.0935 - val_accuracy: 0.9674\n",
            "Epoch 8/20\n",
            "507/507 [==============================] - 62s 123ms/step - loss: 0.0293 - accuracy: 0.9907 - val_loss: 0.1044 - val_accuracy: 0.9668\n",
            "Epoch 9/20\n",
            "507/507 [==============================] - 63s 124ms/step - loss: 0.0303 - accuracy: 0.9879 - val_loss: 0.1041 - val_accuracy: 0.9641\n",
            "Epoch 10/20\n",
            "507/507 [==============================] - 63s 124ms/step - loss: 0.0255 - accuracy: 0.9905 - val_loss: 0.1234 - val_accuracy: 0.9648\n",
            "Epoch 11/20\n",
            "507/507 [==============================] - 62s 122ms/step - loss: 0.0162 - accuracy: 0.9946 - val_loss: 0.1346 - val_accuracy: 0.9641\n",
            "Epoch 12/20\n",
            "507/507 [==============================] - 62s 122ms/step - loss: 0.0144 - accuracy: 0.9948 - val_loss: 0.1297 - val_accuracy: 0.9668\n"
          ],
          "name": "stdout"
        }
      ]
    },
    {
      "cell_type": "code",
      "metadata": {
        "id": "h77O_EreJsTJ",
        "colab": {
          "base_uri": "https://localhost:8080/"
        },
        "outputId": "dd34514a-3522-46cd-f93c-5df693e5bb95"
      },
      "source": [
        "history.history"
      ],
      "execution_count": null,
      "outputs": [
        {
          "output_type": "execute_result",
          "data": {
            "text/plain": [
              "{'accuracy': [0.8538964986801147,\n",
              "  0.9402247667312622,\n",
              "  0.9615907073020935,\n",
              "  0.9666543006896973,\n",
              "  0.9773990511894226,\n",
              "  0.980980634689331,\n",
              "  0.9843151569366455,\n",
              "  0.9907373189926147,\n",
              "  0.987896740436554,\n",
              "  0.9904903173446655,\n",
              "  0.9945659041404724,\n",
              "  0.9948129057884216],\n",
              " 'loss': [0.3463418185710907,\n",
              "  0.16013020277023315,\n",
              "  0.11011523753404617,\n",
              "  0.09283505380153656,\n",
              "  0.06586086750030518,\n",
              "  0.05556926876306534,\n",
              "  0.04464702308177948,\n",
              "  0.02927277982234955,\n",
              "  0.03030536137521267,\n",
              "  0.02553548663854599,\n",
              "  0.016210051253437996,\n",
              "  0.014410680159926414],\n",
              " 'val_accuracy': [0.9315614700317383,\n",
              "  0.9534883499145508,\n",
              "  0.9627906680107117,\n",
              "  0.9501661062240601,\n",
              "  0.9581395387649536,\n",
              "  0.9588040113449097,\n",
              "  0.9674418568611145,\n",
              "  0.9667773842811584,\n",
              "  0.9641196131706238,\n",
              "  0.9647840261459351,\n",
              "  0.9641196131706238,\n",
              "  0.9667773842811584],\n",
              " 'val_loss': [0.20199859142303467,\n",
              "  0.13606096804141998,\n",
              "  0.10811160504817963,\n",
              "  0.12756815552711487,\n",
              "  0.12167493999004364,\n",
              "  0.12825720012187958,\n",
              "  0.09345319867134094,\n",
              "  0.10443942248821259,\n",
              "  0.10405254364013672,\n",
              "  0.12340038269758224,\n",
              "  0.13456220924854279,\n",
              "  0.1296951174736023]}"
            ]
          },
          "metadata": {
            "tags": []
          },
          "execution_count": 30
        }
      ]
    },
    {
      "cell_type": "code",
      "metadata": {
        "id": "OzFahzRqg4zy"
      },
      "source": [
        "classification = tf.keras.models.load_model('covid_classification.h5')  ## load best model"
      ],
      "execution_count": null,
      "outputs": []
    },
    {
      "cell_type": "code",
      "metadata": {
        "id": "LXzMWEmPJzg5",
        "colab": {
          "base_uri": "https://localhost:8080/",
          "height": 497
        },
        "outputId": "62758326-4de8-44ba-a414-e00339e19baf"
      },
      "source": [
        "acc = history.history['accuracy']\n",
        "val_acc = history.history['val_accuracy']\n",
        "\n",
        "loss = history.history['loss']\n",
        "val_loss = history.history['val_loss']\n",
        "\n",
        "epochs_range = range(len(acc))\n",
        "\n",
        "plt.figure(figsize=(8, 8))\n",
        "# plt.subplot(1, 2, 1)\n",
        "plt.plot(epochs_range, acc, label='Training')\n",
        "plt.plot(epochs_range, val_acc, label='Validation')\n",
        "plt.legend(loc='best')\n",
        "plt.xlabel('Number of epochs')\n",
        "plt.ylabel('Accuracy')\n",
        "plt.savefig('accuracy.png', dpi=300)\n",
        "plt.show()\n",
        "\n",
        "# plt.subplot(1, 2, 2)"
      ],
      "execution_count": null,
      "outputs": [
        {
          "output_type": "display_data",
          "data": {
            "image/png": "[encoded data removed]",
            "text/plain": [
              "<Figure size 576x576 with 1 Axes>"
            ]
          },
          "metadata": {
            "tags": [],
            "needs_background": "light"
          }
        }
      ]
    },
    {
      "cell_type": "code",
      "metadata": {
        "colab": {
          "base_uri": "https://localhost:8080/",
          "height": 497
        },
        "id": "vvkQDH0SZVA_",
        "outputId": "635e1551-801d-4c67-d1cf-a30646ee5b51"
      },
      "source": [
        "plt.figure(figsize=(8, 8))\n",
        "plt.plot(epochs_range, loss, label='Training')\n",
        "plt.plot(epochs_range, val_loss, label='Validation')\n",
        "plt.legend(loc='best')\n",
        "plt.xlabel('Number of epochs')\n",
        "plt.ylabel('Loss')\n",
        "plt.savefig('loss.png', dpi=300)\n",
        "plt.show()"
      ],
      "execution_count": null,
      "outputs": [
        {
          "output_type": "display_data",
          "data": {
            "image/png": "[encoded data removed]",
            "text/plain": [
              "<Figure size 576x576 with 1 Axes>"
            ]
          },
          "metadata": {
            "tags": [],
            "needs_background": "light"
          }
        }
      ]
    },
    {
      "cell_type": "code",
      "metadata": {
        "id": "sOtTNAltg2lK"
      },
      "source": [
        "for i in classification.layers:\n",
        "  i.trainable=True"
      ],
      "execution_count": null,
      "outputs": []
    },
    {
      "cell_type": "code",
      "metadata": {
        "id": "70YkX35giHs_"
      },
      "source": [
        "classification.compile(optimizer=tf.keras.optimizers.Adam(learning_rate=1e-5), loss='categorical_crossentropy', metrics=['accuracy'])"
      ],
      "execution_count": null,
      "outputs": []
    },
    {
      "cell_type": "code",
      "metadata": {
        "colab": {
          "base_uri": "https://localhost:8080/"
        },
        "id": "O4D4AkHahHOU",
        "outputId": "3ef53660-f7af-4d3c-faca-b3d1b35eea7a"
      },
      "source": [
        "history_unfreeze = classification.fit(train_generator,\n",
        "                              epochs=epochs,\n",
        "                              validation_data=valid_generator,\n",
        "                              callbacks=[early_stopping_cb, checkpoint_cb])"
      ],
      "execution_count": null,
      "outputs": [
        {
          "output_type": "stream",
          "text": [
            "Epoch 1/20\n",
            "507/507 [==============================] - 131s 248ms/step - loss: 0.0146 - accuracy: 0.9959 - val_loss: 0.0836 - val_accuracy: 0.9754\n",
            "Epoch 2/20\n",
            "507/507 [==============================] - 125s 247ms/step - loss: 0.0077 - accuracy: 0.9988 - val_loss: 0.0876 - val_accuracy: 0.9748\n",
            "Epoch 3/20\n",
            "507/507 [==============================] - 125s 246ms/step - loss: 0.0051 - accuracy: 0.9990 - val_loss: 0.0914 - val_accuracy: 0.9748\n",
            "Epoch 4/20\n",
            "507/507 [==============================] - 125s 246ms/step - loss: 0.0029 - accuracy: 0.9999 - val_loss: 0.0976 - val_accuracy: 0.9741\n",
            "Epoch 5/20\n",
            "507/507 [==============================] - 125s 246ms/step - loss: 0.0018 - accuracy: 0.9999 - val_loss: 0.1086 - val_accuracy: 0.9734\n",
            "Epoch 6/20\n",
            "507/507 [==============================] - 125s 246ms/step - loss: 0.0012 - accuracy: 1.0000 - val_loss: 0.1084 - val_accuracy: 0.9741\n"
          ],
          "name": "stdout"
        }
      ]
    },
    {
      "cell_type": "code",
      "metadata": {
        "colab": {
          "base_uri": "https://localhost:8080/"
        },
        "id": "bALcJ9x3hOyp",
        "outputId": "b6516caa-71b7-490f-aa33-39c7eff9986e"
      },
      "source": [
        "history_unfreeze.history"
      ],
      "execution_count": null,
      "outputs": [
        {
          "output_type": "execute_result",
          "data": {
            "text/plain": [
              "{'accuracy': [0.9959244132041931,\n",
              "  0.9987649917602539,\n",
              "  0.9990119934082031,\n",
              "  0.9998764991760254,\n",
              "  0.9998764991760254,\n",
              "  1.0],\n",
              " 'loss': [0.014621119946241379,\n",
              "  0.007722055073827505,\n",
              "  0.005074790678918362,\n",
              "  0.0029331627301871777,\n",
              "  0.0018061388982459903,\n",
              "  0.0011915949871763587],\n",
              " 'val_accuracy': [0.9754152894020081,\n",
              "  0.974750816822052,\n",
              "  0.974750816822052,\n",
              "  0.9740864038467407,\n",
              "  0.9734219312667847,\n",
              "  0.9740864038467407],\n",
              " 'val_loss': [0.08355965465307236,\n",
              "  0.08761017769575119,\n",
              "  0.09140530973672867,\n",
              "  0.09757844358682632,\n",
              "  0.1085851863026619,\n",
              "  0.10841714590787888]}"
            ]
          },
          "metadata": {
            "tags": []
          },
          "execution_count": 40
        }
      ]
    },
    {
      "cell_type": "code",
      "metadata": {
        "colab": {
          "base_uri": "https://localhost:8080/",
          "height": 497
        },
        "id": "rk1bbn8zhj3c",
        "outputId": "4c3f1cc7-7517-47f2-becf-4f614d8c9ded"
      },
      "source": [
        "acc = history_unfreeze.history['accuracy']\n",
        "val_acc = history_unfreeze.history['val_accuracy']\n",
        "\n",
        "loss = history_unfreeze.history['loss']\n",
        "val_loss = history_unfreeze.history['val_loss']\n",
        "\n",
        "epochs_range = range(len(acc))\n",
        "\n",
        "plt.figure(figsize=(8, 8))\n",
        "# plt.subplot(1, 2, 1)\n",
        "plt.plot(epochs_range, acc, label='Training')\n",
        "plt.plot(epochs_range, val_acc, label='Validation')\n",
        "plt.legend(loc='best')\n",
        "plt.xlabel('Number of epochs')\n",
        "plt.ylabel('Accuracy')\n",
        "plt.savefig('accuracy_unfreeze.png', dpi=300)\n",
        "plt.show()\n",
        "\n",
        "# plt.subplot(1, 2, 2)"
      ],
      "execution_count": null,
      "outputs": [
        {
          "output_type": "display_data",
          "data": {
            "image/png": "[encoded data removed]",
            "text/plain": [
              "<Figure size 576x576 with 1 Axes>"
            ]
          },
          "metadata": {
            "tags": [],
            "needs_background": "light"
          }
        }
      ]
    },
    {
      "cell_type": "code",
      "metadata": {
        "colab": {
          "base_uri": "https://localhost:8080/",
          "height": 497
        },
        "id": "uBvmRDjahveF",
        "outputId": "9d3026a7-b95c-4125-9cf4-95e34ece38c3"
      },
      "source": [
        "plt.figure(figsize=(8, 8))\n",
        "plt.plot(epochs_range, loss, label='Training')\n",
        "plt.plot(epochs_range, val_loss, label='Validation')\n",
        "plt.legend(loc='best')\n",
        "plt.xlabel('Number of epochs')\n",
        "plt.ylabel('Loss')\n",
        "plt.savefig('loss_unfreeze.png', dpi=300)\n",
        "plt.show()"
      ],
      "execution_count": null,
      "outputs": [
        {
          "output_type": "display_data",
          "data": {
            "image/png": "[encoded data removed]",
            "text/plain": [
              "<Figure size 576x576 with 1 Axes>"
            ]
          },
          "metadata": {
            "tags": [],
            "needs_background": "light"
          }
        }
      ]
    },
    {
      "cell_type": "code",
      "metadata": {
        "id": "s3ymWt4dhz4s"
      },
      "source": [
        "train_loss = history.history['loss']+history_unfreeze.history['loss']"
      ],
      "execution_count": null,
      "outputs": []
    },
    {
      "cell_type": "code",
      "metadata": {
        "id": "aYEaTf1mhzw3"
      },
      "source": [
        "train_acc = history.history['accuracy']+history_unfreeze.history['accuracy']"
      ],
      "execution_count": null,
      "outputs": []
    },
    {
      "cell_type": "code",
      "metadata": {
        "id": "Kh9A8jm-hziy"
      },
      "source": [
        "val_loss = history.history['val_loss']+history_unfreeze.history['val_loss']"
      ],
      "execution_count": null,
      "outputs": []
    },
    {
      "cell_type": "code",
      "metadata": {
        "id": "E5QelmLsiWRs"
      },
      "source": [
        "val_acc = history.history['val_accuracy']+history_unfreeze.history['val_accuracy']"
      ],
      "execution_count": null,
      "outputs": []
    },
    {
      "cell_type": "code",
      "metadata": {
        "colab": {
          "base_uri": "https://localhost:8080/",
          "height": 497
        },
        "id": "Vgl-v-ToihCB",
        "outputId": "a23c79df-db2f-4bd8-dac9-1f3039e2b0b9"
      },
      "source": [
        "epochs_range = range(len(train_loss))\n",
        "\n",
        "plt.figure(figsize=(8, 8))\n",
        "# plt.subplot(1, 2, 1)\n",
        "plt.plot(epochs_range, train_acc, label='Training')\n",
        "plt.plot(epochs_range, val_acc, label='Validation')\n",
        "plt.legend(loc='best')\n",
        "plt.xlabel('Number of epochs')\n",
        "plt.ylabel('Accuracy')\n",
        "plt.savefig('accuracy_overall.png', dpi=300)\n",
        "plt.show()"
      ],
      "execution_count": null,
      "outputs": [
        {
          "output_type": "display_data",
          "data": {
            "image/png": "[encoded data removed]",
            "text/plain": [
              "<Figure size 576x576 with 1 Axes>"
            ]
          },
          "metadata": {
            "tags": [],
            "needs_background": "light"
          }
        }
      ]
    },
    {
      "cell_type": "code",
      "metadata": {
        "colab": {
          "base_uri": "https://localhost:8080/",
          "height": 497
        },
        "id": "rtyVjzoei38M",
        "outputId": "d7511f0e-03ae-46a0-8ed3-87625ca0e8fa"
      },
      "source": [
        "plt.figure(figsize=(8, 8))\n",
        "plt.plot(epochs_range, train_loss, label='Training')\n",
        "plt.plot(epochs_range, val_loss, label='Validation')\n",
        "plt.legend(loc='best')\n",
        "plt.xlabel('Number of epochs')\n",
        "plt.ylabel('Loss')\n",
        "plt.savefig('loss_overall.png', dpi=300)\n",
        "plt.show()"
      ],
      "execution_count": null,
      "outputs": [
        {
          "output_type": "display_data",
          "data": {
            "image/png": "[encoded data removed]",
            "text/plain": [
              "<Figure size 576x576 with 1 Axes>"
            ]
          },
          "metadata": {
            "tags": [],
            "needs_background": "light"
          }
        }
      ]
    },
    {
      "cell_type": "code",
      "metadata": {
        "id": "GT7Swd_fGzjI"
      },
      "source": [
        "classification = tf.keras.models.load_model('covid_classification.h5')  ## load best model"
      ],
      "execution_count": null,
      "outputs": []
    },
    {
      "cell_type": "markdown",
      "metadata": {
        "id": "Fuq48LrKihkQ"
      },
      "source": [
        "# TESTING "
      ]
    },
    {
      "cell_type": "code",
      "metadata": {
        "id": "GgGreC6dGqK2"
      },
      "source": [
        "font = {'weight' : 'bold',\n",
        "        'size'   : 16}\n",
        "\n",
        "matplotlib.rc('font', **font)"
      ],
      "execution_count": null,
      "outputs": []
    },
    {
      "cell_type": "code",
      "metadata": {
        "id": "EEHtqflU5OfA",
        "colab": {
          "base_uri": "https://localhost:8080/"
        },
        "outputId": "02b208e7-3bf3-4366-fa0a-1de97c0c3d0d"
      },
      "source": [
        "TESING_DIR = 'split_data/test/'\n",
        "test_datagen = tf.keras.preprocessing.image.ImageDataGenerator(rescale=1 / 255.0)\n",
        "test_generator = test_datagen.flow_from_directory(TESING_DIR,\n",
        "                                                    target_size=(224, 224),\n",
        "                                                    class_mode='categorical',\n",
        "                                                    shuffle=False,\n",
        "                                                    batch_size=32)"
      ],
      "execution_count": null,
      "outputs": [
        {
          "output_type": "stream",
          "text": [
            "Found 1507 images belonging to 3 classes.\n"
          ],
          "name": "stdout"
        }
      ]
    },
    {
      "cell_type": "code",
      "metadata": {
        "id": "UgmQVpEQL2_r"
      },
      "source": [
        "predictions = classification.predict(test_generator)"
      ],
      "execution_count": null,
      "outputs": []
    },
    {
      "cell_type": "code",
      "metadata": {
        "colab": {
          "base_uri": "https://localhost:8080/"
        },
        "id": "bgQiwU9uMTbb",
        "outputId": "4e98060d-1cb7-41d3-e018-281ad7abaabe"
      },
      "source": [
        "predictions.shape"
      ],
      "execution_count": null,
      "outputs": [
        {
          "output_type": "execute_result",
          "data": {
            "text/plain": [
              "(1507, 3)"
            ]
          },
          "metadata": {
            "tags": []
          },
          "execution_count": 6
        }
      ]
    },
    {
      "cell_type": "code",
      "metadata": {
        "colab": {
          "base_uri": "https://localhost:8080/"
        },
        "id": "Gdn76SBCL23y",
        "outputId": "91050824-c7ef-4b7b-c386-b7afdccf5872"
      },
      "source": [
        "predicted_classes = np.argmax(predictions, axis=-1)\n",
        "min(predicted_classes),max(predicted_classes)  ## must be 0,2"
      ],
      "execution_count": null,
      "outputs": [
        {
          "output_type": "execute_result",
          "data": {
            "text/plain": [
              "(0, 2)"
            ]
          },
          "metadata": {
            "tags": []
          },
          "execution_count": 7
        }
      ]
    },
    {
      "cell_type": "code",
      "metadata": {
        "colab": {
          "base_uri": "https://localhost:8080/"
        },
        "id": "NMchV7tmL2hp",
        "outputId": "832fc7aa-3dbc-441d-ff81-814c661cb469"
      },
      "source": [
        "test_generator.class_indices"
      ],
      "execution_count": null,
      "outputs": [
        {
          "output_type": "execute_result",
          "data": {
            "text/plain": [
              "{'COVID': 0, 'NORMAL': 1, 'PNEUMONIA': 2}"
            ]
          },
          "metadata": {
            "tags": []
          },
          "execution_count": 8
        }
      ]
    },
    {
      "cell_type": "code",
      "metadata": {
        "colab": {
          "base_uri": "https://localhost:8080/"
        },
        "id": "vi46if6sM5uZ",
        "outputId": "e9e34c64-de54-4f32-f011-6d8631ffe153"
      },
      "source": [
        "test_generator.classes"
      ],
      "execution_count": null,
      "outputs": [
        {
          "output_type": "execute_result",
          "data": {
            "text/plain": [
              "array([0, 0, 0, ..., 2, 2, 2], dtype=int32)"
            ]
          },
          "metadata": {
            "tags": []
          },
          "execution_count": 9
        }
      ]
    },
    {
      "cell_type": "code",
      "metadata": {
        "id": "LpvOBZ5JL2w1"
      },
      "source": [
        "labels = test_generator.classes"
      ],
      "execution_count": null,
      "outputs": []
    },
    {
      "cell_type": "code",
      "metadata": {
        "colab": {
          "base_uri": "https://localhost:8080/"
        },
        "id": "-LVhXM1mK3nt",
        "outputId": "6cb6c371-6516-462d-c42a-1459084c7074"
      },
      "source": [
        "class_names = list(test_generator.class_indices.keys())\n",
        "class_names"
      ],
      "execution_count": null,
      "outputs": [
        {
          "output_type": "execute_result",
          "data": {
            "text/plain": [
              "['COVID', 'NORMAL', 'PNEUMONIA']"
            ]
          },
          "metadata": {
            "tags": []
          },
          "execution_count": 11
        }
      ]
    },
    {
      "cell_type": "code",
      "metadata": {
        "colab": {
          "base_uri": "https://localhost:8080/"
        },
        "id": "U4vQOFTAK3jk",
        "outputId": "6872aee4-7002-46df-cc1a-8498187cf29c"
      },
      "source": [
        "classification_report = metrics.classification_report(labels, predicted_classes, target_names=class_names)\n",
        "print(classification_report)"
      ],
      "execution_count": null,
      "outputs": [
        {
          "output_type": "stream",
          "text": [
            "              precision    recall  f1-score   support\n",
            "\n",
            "       COVID       0.99      1.00      0.99       503\n",
            "      NORMAL       1.00      0.99      1.00       502\n",
            "   PNEUMONIA       1.00      1.00      1.00       502\n",
            "\n",
            "    accuracy                           1.00      1507\n",
            "   macro avg       1.00      1.00      1.00      1507\n",
            "weighted avg       1.00      1.00      1.00      1507\n",
            "\n"
          ],
          "name": "stdout"
        }
      ]
    },
    {
      "cell_type": "code",
      "metadata": {
        "colab": {
          "base_uri": "https://localhost:8080/"
        },
        "id": "5dF8yqsh9mct",
        "outputId": "3b44225e-3d28-4e7b-99f4-0b937e7b4141"
      },
      "source": [
        "cm_test = metrics.confusion_matrix(labels, predicted_classes)\n",
        "cm_test"
      ],
      "execution_count": null,
      "outputs": [
        {
          "output_type": "execute_result",
          "data": {
            "text/plain": [
              "array([[501,   2,   0],\n",
              "       [  3, 499,   0],\n",
              "       [  1,   0, 501]])"
            ]
          },
          "metadata": {
            "tags": []
          },
          "execution_count": 13
        }
      ]
    },
    {
      "cell_type": "code",
      "metadata": {
        "id": "728Zs_S7d2vf"
      },
      "source": [
        "def make_confusion_matrix(cf,\n",
        "                          group_names=None,\n",
        "                          categories='auto',\n",
        "                          count=True,\n",
        "                          percent=True,\n",
        "                          cbar=True,\n",
        "                          xyticks=True,\n",
        "                          xyplotlabels=True,\n",
        "                          sum_stats=True,\n",
        "                          figsize=None,\n",
        "                          cmap='YlGnBu',\n",
        "                          title=None,\n",
        "                          save_dir=None):\n",
        "    \n",
        "    # CODE TO GENERATE TEXT INSIDE EACH SQUARE\n",
        "    blanks = ['' for i in range(cf.size)]\n",
        "\n",
        "    if group_names and len(group_names)==cf.size:\n",
        "        group_labels = [\"{}\\n\".format(value) for value in group_names]\n",
        "    else:\n",
        "        group_labels = blanks\n",
        "\n",
        "    if count:\n",
        "        group_counts = [\"{0:0.0f}\\n\".format(value) for value in cf.flatten()]\n",
        "    else:\n",
        "        group_counts = blanks\n",
        "\n",
        "    if percent:\n",
        "        group_percentages = [\"{0:.2%}\".format(value) for value in cf.flatten()/np.sum(cf)]\n",
        "    else:\n",
        "        group_percentages = blanks\n",
        "\n",
        "    box_labels = [f\"{v1}{v2}{v3}\".strip() for v1, v2, v3 in zip(group_labels,group_counts,group_percentages)]\n",
        "    box_labels = np.asarray(box_labels).reshape(cf.shape[0],cf.shape[1])\n",
        "\n",
        "\n",
        "    # CODE TO GENERATE SUMMARY STATISTICS & TEXT FOR SUMMARY STATS\n",
        "    if sum_stats:\n",
        "        #Accuracy is sum of diagonal divided by total observations\n",
        "        accuracy  = np.trace(cf) / float(np.sum(cf))\n",
        "\n",
        "        #if it is a binary confusion matrix, show some more stats\n",
        "        if len(cf)==2:\n",
        "            #Metrics for Binary Confusion Matrices\n",
        "            precision = cf[1,1] / sum(cf[:,1])\n",
        "            recall    = cf[1,1] / sum(cf[1,:])\n",
        "            f1_score  = 2*precision*recall / (precision + recall)\n",
        "            stats_text = \"\\n\\nAccuracy={:0.3f}\\nPrecision={:0.3f}\\nRecall={:0.3f}\\nF1 Score={:0.3f}\".format(\n",
        "                accuracy,precision,recall,f1_score)\n",
        "        else:\n",
        "            stats_text = \"\\n\\nAccuracy={:0.3f}\".format(accuracy)\n",
        "    else:\n",
        "        stats_text = \"\"\n",
        "\n",
        "\n",
        "    # SET FIGURE PARAMETERS ACCORDING TO OTHER ARGUMENTS\n",
        "    if figsize==None:\n",
        "        #Get default figure size if not set\n",
        "        figsize = plt.rcParams.get('figure.figsize')\n",
        "\n",
        "    if xyticks==False:\n",
        "        #Do not show categories if xyticks is False\n",
        "        categories=False\n",
        "\n",
        "\n",
        "    # MAKE THE HEATMAP VISUALIZATION\n",
        "    plt.figure(figsize=figsize,)\n",
        "    hmap = sns.heatmap(cf,annot=box_labels,fmt=\"\",cmap=cmap,cbar=cbar,xticklabels=categories,yticklabels=categories)\n",
        "    # hmap.yaxis.set_ticklabels(hmap.yaxis.get_ticklabels(), rotation=0, ha='right')\n",
        "    # hmap.xaxis.set_ticklabels(hmap.xaxis.get_ticklabels(), rotation=90, ha='right')\n",
        "\n",
        "    if xyplotlabels:\n",
        "        plt.ylabel('True label', fontdict=font)\n",
        "        plt.xlabel('Predicted label' + stats_text, fontdict=font)\n",
        "    else:\n",
        "        plt.xlabel(stats_text)\n",
        "    \n",
        "    if title:\n",
        "        plt.title(title)\n",
        "    if save_dir:\n",
        "      plt.savefig(save_dir)"
      ],
      "execution_count": null,
      "outputs": []
    },
    {
      "cell_type": "code",
      "metadata": {
        "colab": {
          "base_uri": "https://localhost:8080/",
          "height": 507
        },
        "id": "r77vfL7Q-HyE",
        "outputId": "694fc397-5236-4335-8516-09dacbb0866d"
      },
      "source": [
        "make_confusion_matrix(cm_test, figsize=(10,8), cbar=False, categories=class_names, save_dir='cm.png', sum_stats=False)"
      ],
      "execution_count": null,
      "outputs": [
        {
          "output_type": "display_data",
          "data": {
            "image/png": "[encoded data removed]",
            "text/plain": [
              "<Figure size 720x576 with 1 Axes>"
            ]
          },
          "metadata": {
            "tags": [],
            "needs_background": "light"
          }
        }
      ]
    },
    {
      "cell_type": "code",
      "metadata": {
        "id": "m8Dgjd5NH1kf"
      },
      "source": [
        "plt.style.use('ggplot')"
      ],
      "execution_count": null,
      "outputs": []
    },
    {
      "cell_type": "code",
      "metadata": {
        "colab": {
          "base_uri": "https://localhost:8080/",
          "height": 554
        },
        "id": "gcLm9Va8UPZH",
        "outputId": "73803c3c-f193-408e-ae57-604a5c385447"
      },
      "source": [
        "from sklearn.preprocessing import LabelBinarizer\n",
        "from sklearn.metrics import roc_curve, auc, roc_auc_score\n",
        "\n",
        "\n",
        "# set plot figure size\n",
        "fig, c_ax = plt.subplots(1,1, figsize = (12, 8))\n",
        "\n",
        "\n",
        "# function for scoring roc auc score for multi-class\n",
        "def multiclass_roc_auc_score(y_test, y_pred, average=\"macro\"):\n",
        "    lb = LabelBinarizer()\n",
        "    lb.fit(y_test)\n",
        "    y_test = lb.transform(y_test)\n",
        "    y_pred = lb.transform(y_pred)\n",
        "\n",
        "    for (idx, c_label) in enumerate(class_names):\n",
        "        fpr, tpr, thresholds = roc_curve(y_test[:,idx].astype(int), y_pred[:,idx])\n",
        "        c_ax.plot(fpr, tpr, label = '%s (AUC:%0.2f)'  % (c_label, auc(fpr, tpr)), linewidth=3.0)\n",
        "    c_ax.plot(fpr, fpr, '--', label = 'Random Guessing', linewidth=1.0)\n",
        "    return roc_auc_score(y_test, y_pred, average=average)\n",
        "\n",
        "\n",
        "print(f'ROC AUC score: {multiclass_roc_auc_score(labels, predicted_classes)} \\n')\n",
        "\n",
        "c_ax.legend()\n",
        "c_ax.set_title('ROC Analysis', fontdict=font)\n",
        "c_ax.set_xlabel('False Positive Rate', fontdict=font)\n",
        "c_ax.set_ylabel('True Positive Rate', fontdict=font)\n",
        "plt.savefig('roc.png')\n",
        "plt.show()\n"
      ],
      "execution_count": null,
      "outputs": [
        {
          "output_type": "stream",
          "text": [
            "ROC AUC score: 0.9970136026454238 \n",
            "\n"
          ],
          "name": "stdout"
        },
        {
          "output_type": "display_data",
          "data": {
            "image/png": "[encoded data removed]",
            "text/plain": [
              "<Figure size 864x576 with 1 Axes>"
            ]
          },
          "metadata": {
            "tags": []
          }
        }
      ]
    },
    {
      "cell_type": "code",
      "metadata": {
        "colab": {
          "base_uri": "https://localhost:8080/"
        },
        "id": "aAdA0zfPXe5S",
        "outputId": "9cd5b05e-c51b-44e7-8eff-84cacd114d75"
      },
      "source": [
        "print(f'metric name : [COVID, NORMAL, PNEUMONIA]')\n",
        "FP = cm_test.sum(axis=0) - np.diag(cm_test) \n",
        "FN = cm_test.sum(axis=1) - np.diag(cm_test)\n",
        "TP = np.diag(cm_test)\n",
        "TN = cm_test.sum() - (FP + FN + TP)\n",
        "FP = FP.astype(float)\n",
        "FN = FN.astype(float)\n",
        "TP = TP.astype(float)\n",
        "TN = TN.astype(float)\n",
        "print(f'False Positives: {FP}')\n",
        "print(f'False Negatives: {FN}')\n",
        "print(f'True Positives: {TP}')\n",
        "print(f'True Negatives: {TN}')\n",
        "\n",
        "# Sensitivity, hit rate, recall, or true positive rate\n",
        "TPR = TP/(TP+FN)\n",
        "print(f'Sensitivity, hit rate, recall, or true positive rate : {TPR}')\n",
        "# Specificity or true negative rate\n",
        "TNR = TN/(TN+FP) \n",
        "print(f'Specificity or true negative rate : {TNR}')\n",
        "# Precision or positive predictive value\n",
        "PPV = TP/(TP+FP)\n",
        "print(f'Precision or positive predictive value : {PPV}')\n",
        "# Negative predictive value\n",
        "NPV = TN/(TN+FN)\n",
        "print(f'Negative predictive value : {NPV}')\n",
        "# Fall out or false positive rate\n",
        "FPR = FP/(FP+TN)\n",
        "print(f'Fall out or false positive rate : {FPR}')\n",
        "# False negative rate\n",
        "FNR = FN/(TP+FN)\n",
        "print(f'False negative rate : {FNR}')\n",
        "# False discovery rate\n",
        "FDR = FP/(TP+FP)\n",
        "print(f'False discovery rate : {FDR}')\n",
        "# Overall accuracy for each class\n",
        "ACC = (TP+TN)/(TP+FP+FN+TN)\n",
        "print(f'Overall accuracy for each class : {ACC}')"
      ],
      "execution_count": null,
      "outputs": [
        {
          "output_type": "stream",
          "text": [
            "metric name : [COVID, NORMAL, PNEUMONIA]\n",
            "False Positives: [4. 2. 0.]\n",
            "False Negatives: [2. 3. 1.]\n",
            "True Positives: [501. 499. 501.]\n",
            "True Negatives: [1000. 1003. 1005.]\n",
            "Sensitivity, hit rate, recall, or true positive rate : [0.99602386 0.9940239  0.99800797]\n",
            "Specificity or true negative rate : [0.99601594 0.99800995 1.        ]\n",
            "Precision or positive predictive value : [0.99207921 0.99600798 1.        ]\n",
            "Negative predictive value : [0.99800399 0.99701789 0.99900596]\n",
            "Fall out or false positive rate : [0.00398406 0.00199005 0.        ]\n",
            "False negative rate : [0.00397614 0.0059761  0.00199203]\n",
            "False discovery rate : [0.00792079 0.00399202 0.        ]\n",
            "Overall accuracy for each class : [0.99601858 0.99668215 0.99933643]\n"
          ],
          "name": "stdout"
        }
      ]
    },
    {
      "cell_type": "code",
      "metadata": {
        "colab": {
          "base_uri": "https://localhost:8080/"
        },
        "id": "CvYAa43FXezg",
        "outputId": "b009b150-a1e0-4fb1-b82b-b83167a17150"
      },
      "source": [
        "print(f\"Avg Accuracy {sum(ACC)/3}\")"
      ],
      "execution_count": null,
      "outputs": [
        {
          "output_type": "stream",
          "text": [
            "Avg Accuracy 0.9973457199734573\n"
          ],
          "name": "stdout"
        }
      ]
    },
    {
      "cell_type": "code",
      "metadata": {
        "colab": {
          "base_uri": "https://localhost:8080/"
        },
        "id": "m3JLyzajSKes",
        "outputId": "b357ac39-b537-4605-fb3d-7d0353a15cba"
      },
      "source": [
        "print(f\"Avg Specificity {sum(TNR)/3}\")"
      ],
      "execution_count": null,
      "outputs": [
        {
          "output_type": "stream",
          "text": [
            "Avg Specificity 0.9980086288345787\n"
          ],
          "name": "stdout"
        }
      ]
    },
    {
      "cell_type": "code",
      "metadata": {
        "colab": {
          "base_uri": "https://localhost:8080/"
        },
        "id": "dRY-fOVGSfDI",
        "outputId": "2d9ea634-ee7b-4fd9-8588-e01d1a6b63e5"
      },
      "source": [
        "rec = sum(TPR)/3\n",
        "print(f\"Avg Sensitivity {rec}\")"
      ],
      "execution_count": null,
      "outputs": [
        {
          "output_type": "stream",
          "text": [
            "Avg Sensitivity 0.9960185764562691\n"
          ],
          "name": "stdout"
        }
      ]
    },
    {
      "cell_type": "code",
      "metadata": {
        "colab": {
          "base_uri": "https://localhost:8080/"
        },
        "id": "qPF2KbTzSq5e",
        "outputId": "e0d9ca53-c9ab-4cb4-d986-fbdb7c895071"
      },
      "source": [
        "pres = sum(PPV)/3\n",
        "print(f\"Avg Precision {pres}\")"
      ],
      "execution_count": null,
      "outputs": [
        {
          "output_type": "stream",
          "text": [
            "Avg Precision 0.9960290639842427\n"
          ],
          "name": "stdout"
        }
      ]
    },
    {
      "cell_type": "code",
      "metadata": {
        "colab": {
          "base_uri": "https://localhost:8080/"
        },
        "id": "zXFg0AjbU_Ht",
        "outputId": "423b979c-bc15-4f66-bba9-c1b39cb0b428"
      },
      "source": [
        "c_f = 2*(PPV[0]*TPR[0])/(PPV[0]+TPR[0])\n",
        "n_f = 2*(PPV[1]*TPR[1])/(PPV[1]+TPR[1])\n",
        "p_f = 2*(PPV[2]*TPR[2])/(PPV[2]+TPR[2])\n",
        "f1_score = [c_f, n_f, p_f]\n",
        "print(f\"COVID F1-score {c_f}\")\n",
        "print(f\"NORMAL F1-score {n_f}\")\n",
        "print(f\"PNEUMONIA F1-score {p_f}\")"
      ],
      "execution_count": null,
      "outputs": [
        {
          "output_type": "stream",
          "text": [
            "COVID F1-score 0.994047619047619\n",
            "NORMAL F1-score 0.9950149551345963\n",
            "PNEUMONIA F1-score 0.9990029910269193\n"
          ],
          "name": "stdout"
        }
      ]
    },
    {
      "cell_type": "code",
      "metadata": {
        "colab": {
          "base_uri": "https://localhost:8080/"
        },
        "id": "oAiu8o85Sqv_",
        "outputId": "b37bca88-a8fc-4a3b-f6f5-bada4ae9109f"
      },
      "source": [
        "f1 = 2*(pres*rec)/(pres+rec)\n",
        "print(f\"Avg F1-score {f1}\")"
      ],
      "execution_count": null,
      "outputs": [
        {
          "output_type": "stream",
          "text": [
            "Avg F1-score 0.9960238201926491\n"
          ],
          "name": "stdout"
        }
      ]
    },
    {
      "cell_type": "code",
      "metadata": {
        "id": "CR-g_TZeUQmQ"
      },
      "source": [
        "df = pd.DataFrame({\n",
        "    'Metric': ['Accuracy', 'Specificity', 'Sensitivity', 'F1-score'],\n",
        "    'COVID': [ACC[0], TNR[0], TPR[0], f1_score[0]],\n",
        "    'NORMAL': [ACC[1], TNR[1], TPR[1], f1_score[1]],\n",
        "    'PNEUMONIA': [ACC[2], TNR[2], TPR[2], f1_score[2]]\n",
        "})"
      ],
      "execution_count": null,
      "outputs": []
    },
    {
      "cell_type": "code",
      "metadata": {
        "colab": {
          "base_uri": "https://localhost:8080/",
          "height": 600
        },
        "id": "dRIgIqPAUQkD",
        "outputId": "d3815436-4ee1-48af-ec45-ad69cb1fc2e6"
      },
      "source": [
        "fig = df.plot(x=\"Metric\", y=['COVID', 'NORMAL', 'PNEUMONIA'], kind=\"barh\", figsize=(13,10), fontsize=18, color=['#ff471a', '#40bf40', '#ffb31a'], rot=0).legend(loc='upper center', ncol=3, prop={'size': 15}).get_figure()"
      ],
      "execution_count": null,
      "outputs": [
        {
          "output_type": "display_data",
          "data": {
            "image/png": "[encoded data removed]",
            "text/plain": [
              "<Figure size 936x720 with 1 Axes>"
            ]
          },
          "metadata": {
            "tags": []
          }
        }
      ]
    },
    {
      "cell_type": "code",
      "metadata": {
        "id": "WyF08HUgUQhg"
      },
      "source": [
        "fig.savefig('perf_metrics_h.png')"
      ],
      "execution_count": null,
      "outputs": []
    },
    {
      "cell_type": "code",
      "metadata": {
        "colab": {
          "base_uri": "https://localhost:8080/",
          "height": 618
        },
        "id": "PLedVbujVu7n",
        "outputId": "6496bfa4-769c-415e-dafb-f7fb5fcb9102"
      },
      "source": [
        "fig = df.plot(x=\"Metric\", y=['COVID', 'NORMAL', 'PNEUMONIA'], kind=\"bar\", figsize=(12,10), fontsize=20, color=['#ff471a', '#40bf40', '#ffb31a'], rot=0).legend(loc='lower center', ncol=3, prop={'size': 15}).get_figure()"
      ],
      "execution_count": null,
      "outputs": [
        {
          "output_type": "display_data",
          "data": {
            "image/png": "[encoded data removed]",
            "text/plain": [
              "<Figure size 864x720 with 1 Axes>"
            ]
          },
          "metadata": {
            "tags": []
          }
        }
      ]
    },
    {
      "cell_type": "code",
      "metadata": {
        "id": "TJMYL-aRn3XN"
      },
      "source": [
        "fig.savefig('perf_metrics_v.png')"
      ],
      "execution_count": null,
      "outputs": []
    },
    {
      "cell_type": "code",
      "metadata": {
        "id": "425pirsEXD8x"
      },
      "source": [
        ""
      ],
      "execution_count": null,
      "outputs": []
    }
  ]
}