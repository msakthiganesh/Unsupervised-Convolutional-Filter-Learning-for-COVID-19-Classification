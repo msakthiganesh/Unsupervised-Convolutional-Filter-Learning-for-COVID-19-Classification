{
  "nbformat": 4,
  "nbformat_minor": 0,
  "metadata": {
    "colab": {
      "name": "cae_covid_classification_2.ipynb",
      "provenance": [],
      "collapsed_sections": []
    },
    "kernelspec": {
      "name": "python3",
      "display_name": "Python 3"
    },
    "language_info": {
      "name": "python"
    },
    "accelerator": "GPU"
  },
  "cells": [
    {
      "cell_type": "code",
      "metadata": {
        "id": "mk2kb2kjzNZU"
      },
      "source": [
        "from tqdm.notebook import tqdm_notebook\n",
        "import tensorflow as tf\n",
        "import zipfile\n",
        "import glob\n",
        "import numpy as np\n",
        "import pandas as pd\n",
        "from sklearn.model_selection import train_test_split\n",
        "from sklearn import metrics\n",
        "import matplotlib.pyplot as plt\n",
        "import seaborn as sns\n",
        "import os\n",
        "import random\n",
        "import shutil"
      ],
      "execution_count": null,
      "outputs": []
    },
    {
      "cell_type": "code",
      "metadata": {
        "id": "OQ4ggzE4zUKN"
      },
      "source": [
        "tf.random.set_seed(1)\n",
        "random.seed(1)\n",
        "np.random.seed(1)"
      ],
      "execution_count": null,
      "outputs": []
    },
    {
      "cell_type": "code",
      "metadata": {
        "colab": {
          "base_uri": "https://localhost:8080/"
        },
        "id": "GtSBTgCVzmpA",
        "outputId": "711b1c7a-2ad1-42da-d286-fdcc37b94804"
      },
      "source": [
        "!wget \"https://storage.googleapis.com/cae_covid_classification/covid_normal_pneumonia.zip\""
      ],
      "execution_count": null,
      "outputs": [
        {
          "output_type": "stream",
          "text": [
            "--2021-07-30 01:31:41--  https://storage.googleapis.com/cae_covid_classification/covid_normal_pneumonia.zip\n",
            "Resolving storage.googleapis.com (storage.googleapis.com)... 108.177.15.128, 173.194.76.128, 66.102.1.128, ...\n",
            "Connecting to storage.googleapis.com (storage.googleapis.com)|108.177.15.128|:443... connected.\n",
            "HTTP request sent, awaiting response... 200 OK\n",
            "Length: 815753304 (778M) [application/x-zip-compressed]\n",
            "Saving to: ‘covid_normal_pneumonia.zip’\n",
            "\n",
            "covid_normal_pneumo 100%[===================>] 777.96M  46.3MB/s    in 19s     \n",
            "\n",
            "2021-07-30 01:32:01 (40.7 MB/s) - ‘covid_normal_pneumonia.zip’ saved [815753304/815753304]\n",
            "\n"
          ],
          "name": "stdout"
        }
      ]
    },
    {
      "cell_type": "code",
      "metadata": {
        "id": "PzLluOqhz5So"
      },
      "source": [
        "!unzip -q covid_normal_pneumonia.zip"
      ],
      "execution_count": null,
      "outputs": []
    },
    {
      "cell_type": "code",
      "metadata": {
        "colab": {
          "base_uri": "https://localhost:8080/"
        },
        "id": "k9Ggr3Hhzmm8",
        "outputId": "48e4ebcc-4465-45d3-cbb4-884dd88b25e0"
      },
      "source": [
        "total_covid = len(os.listdir('covid_normal_pneumonia/COVID/'))\n",
        "total_normal = len(os.listdir('covid_normal_pneumonia/NORMAL/'))\n",
        "total_pneumonia = len(os.listdir('covid_normal_pneumonia/PNEUMONIA/'))\n",
        "print('covid_count : {} | normal_count : {} | pneumonia_count : {}'.format( str(total_covid),str(total_normal),str(total_pneumonia)) )"
      ],
      "execution_count": null,
      "outputs": [
        {
          "output_type": "stream",
          "text": [
            "covid_count : 3709 | normal_count : 3700 | pneumonia_count : 3700\n"
          ],
          "name": "stdout"
        }
      ]
    },
    {
      "cell_type": "code",
      "metadata": {
        "colab": {
          "base_uri": "https://localhost:8080/"
        },
        "id": "2iNe44wjzmj_",
        "outputId": "53904b83-4060-4835-f595-fac0c434e05c"
      },
      "source": [
        "try:\n",
        "    os.system(\"rm -rf ./split_data\")\n",
        "    os.mkdir('split_data')\n",
        "    os.mkdir('split_data/train')\n",
        "    os.mkdir('split_data/valid_test')\n",
        "    os.mkdir('split_data/valid')\n",
        "    os.mkdir('split_data/test')\n",
        "\n",
        "    os.mkdir('split_data/train/COVID')\n",
        "    os.mkdir('split_data/train/NORMAL')\n",
        "    os.mkdir('split_data/train/PNEUMONIA')\n",
        "\n",
        "    os.mkdir('split_data/valid_test/COVID')\n",
        "    os.mkdir('split_data/valid_test/NORMAL')\n",
        "    os.mkdir('split_data/valid_test/PNEUMONIA')\n",
        "\n",
        "    os.mkdir('split_data/valid/COVID')\n",
        "    os.mkdir('split_data/valid/NORMAL')\n",
        "    os.mkdir('split_data/valid/PNEUMONIA')\n",
        "\n",
        "    os.mkdir('split_data/test/COVID')\n",
        "    os.mkdir('split_data/test/NORMAL')\n",
        "    os.mkdir('split_data/test/PNEUMONIA')\n",
        "    print('created directories')\n",
        "except OSError as e:\n",
        "    print('OS error occurred', e)"
      ],
      "execution_count": null,
      "outputs": [
        {
          "output_type": "stream",
          "text": [
            "created directories\n"
          ],
          "name": "stdout"
        }
      ]
    },
    {
      "cell_type": "code",
      "metadata": {
        "id": "7yuMNj3wzmhW"
      },
      "source": [
        "def split_data(source, training, testing, split_ratio):\n",
        "  threshold = len(os.listdir(source)) * split_ratio\n",
        "  flag = 0\n",
        "  for i in random.sample(os.listdir(source), len(os.listdir(source))):\n",
        "    flag += 1\n",
        "    if flag <= threshold:\n",
        "      if os.path.getsize(source + i) > 0:\n",
        "        shutil.copyfile(source + i, training + i)\n",
        "      else:\n",
        "        print(source + i + \" is zero length, so ignoring\")\n",
        "    else:\n",
        "      if os.path.getsize(source + i) > 0:\n",
        "        shutil.copyfile(source + i, testing + i)\n",
        "      else:\n",
        "        print(source + i + \" is zero length, so ignoring\")"
      ],
      "execution_count": null,
      "outputs": []
    },
    {
      "cell_type": "code",
      "metadata": {
        "id": "34mgbtJ20G7D"
      },
      "source": [
        "COVID_SOURCE_DIR = 'covid_normal_pneumonia/COVID/'\n",
        "NORMAL_SOURCE_DIR = 'covid_normal_pneumonia/NORMAL/'\n",
        "PNEUMONIA_SOURCE_DIR = 'covid_normal_pneumonia/PNEUMONIA/'\n",
        "\n",
        "TRAINING_COVID_DIR = 'split_data/train/COVID/'\n",
        "VALID_TEST_COVID_DIR = 'split_data/valid_test/COVID/'\n",
        "VALIDATING_COVID_DIR = 'split_data/valid/COVID/'\n",
        "TESTING_COVID_DIR = 'split_data/test/COVID/'\n",
        "\n",
        "TRAINING_NORMAL_DIR = 'split_data/train/NORMAL/'\n",
        "VALID_TEST_NORMAL_DIR = 'split_data/valid_test/NORMAL/'\n",
        "VALIDATING_NORMAL_DIR = 'split_data/valid/NORMAL/'\n",
        "TESTING_NORMAL_DIR = 'split_data/test/NORMAL/'\n",
        "\n",
        "TRAINING_PNEUMONIA_DIR = 'split_data/train/PNEUMONIA/'\n",
        "VALID_TEST_PNEUMONIA_DIR = 'split_data/valid_test/PNEUMONIA/'\n",
        "VALIDATING_PNEUMONIA_DIR = 'split_data/valid/PNEUMONIA/'\n",
        "TESTING_PNEUMONIA_DIR = 'split_data/test/PNEUMONIA/'"
      ],
      "execution_count": null,
      "outputs": []
    },
    {
      "cell_type": "code",
      "metadata": {
        "id": "KWElpnl80G4i"
      },
      "source": [
        "split_data(COVID_SOURCE_DIR, TRAINING_COVID_DIR, VALID_TEST_COVID_DIR, 0.729)\n",
        "split_data(VALID_TEST_COVID_DIR, VALIDATING_COVID_DIR, TESTING_COVID_DIR, 0.5)"
      ],
      "execution_count": null,
      "outputs": []
    },
    {
      "cell_type": "code",
      "metadata": {
        "colab": {
          "base_uri": "https://localhost:8080/"
        },
        "id": "qDL4S89y0G2y",
        "outputId": "41fbd969-6907-4a6b-96b7-5a35c56e92a4"
      },
      "source": [
        "tr_c = len(os.listdir(TRAINING_COVID_DIR))\n",
        "vl_c = len(os.listdir(VALIDATING_COVID_DIR))\n",
        "tst_c = len(os.listdir(TESTING_COVID_DIR))\n",
        "print('covid_train count : {} | covid_valid count : {} | covid_test count : {}'.format( str(tr_c),str(vl_c),str(tst_c)) )"
      ],
      "execution_count": null,
      "outputs": [
        {
          "output_type": "stream",
          "text": [
            "covid_train count : 2703 | covid_valid count : 503 | covid_test count : 503\n"
          ],
          "name": "stdout"
        }
      ]
    },
    {
      "cell_type": "code",
      "metadata": {
        "id": "ZBWX53hx0G0d"
      },
      "source": [
        "split_data(NORMAL_SOURCE_DIR, TRAINING_NORMAL_DIR, VALID_TEST_NORMAL_DIR, 0.729)\n",
        "split_data(VALID_TEST_NORMAL_DIR, VALIDATING_NORMAL_DIR, TESTING_NORMAL_DIR, 0.5)"
      ],
      "execution_count": null,
      "outputs": []
    },
    {
      "cell_type": "code",
      "metadata": {
        "colab": {
          "base_uri": "https://localhost:8080/"
        },
        "id": "lk7H4G9B3uFo",
        "outputId": "74980765-2d0f-4ba0-807b-f74db854efa5"
      },
      "source": [
        "tr_n = len(os.listdir(TRAINING_NORMAL_DIR))\n",
        "vl_n = len(os.listdir(VALIDATING_NORMAL_DIR))\n",
        "tst_n = len(os.listdir(TESTING_NORMAL_DIR))\n",
        "print('normal_train count : {} | normal_valid count : {} | normal_test count : {}'.format( str(tr_n),str(vl_n),str(tst_n)) )"
      ],
      "execution_count": null,
      "outputs": [
        {
          "output_type": "stream",
          "text": [
            "normal_train count : 2697 | normal_valid count : 501 | normal_test count : 502\n"
          ],
          "name": "stdout"
        }
      ]
    },
    {
      "cell_type": "code",
      "metadata": {
        "id": "StIQ2L1Z3EaX"
      },
      "source": [
        "split_data(PNEUMONIA_SOURCE_DIR, TRAINING_PNEUMONIA_DIR, VALID_TEST_PNEUMONIA_DIR, 0.729)\n",
        "split_data(VALID_TEST_PNEUMONIA_DIR, VALIDATING_PNEUMONIA_DIR, TESTING_PNEUMONIA_DIR, 0.5)"
      ],
      "execution_count": null,
      "outputs": []
    },
    {
      "cell_type": "code",
      "metadata": {
        "colab": {
          "base_uri": "https://localhost:8080/"
        },
        "id": "8krPm1oo37Np",
        "outputId": "4f0dad62-7be1-4ff1-d9e6-05f8feac85a5"
      },
      "source": [
        "tr_p = len(os.listdir(TRAINING_PNEUMONIA_DIR))\n",
        "vl_p = len(os.listdir(VALIDATING_PNEUMONIA_DIR))\n",
        "tst_p = len(os.listdir(TESTING_PNEUMONIA_DIR))\n",
        "print('pneumonia_train count : {} | pneumonia_valid count : {} | pneumonia_test count : {}'.format( str(tr_p),str(vl_p),str(tst_p)) )"
      ],
      "execution_count": null,
      "outputs": [
        {
          "output_type": "stream",
          "text": [
            "pneumonia_train count : 2697 | pneumonia_valid count : 501 | pneumonia_test count : 502\n"
          ],
          "name": "stdout"
        }
      ]
    },
    {
      "cell_type": "code",
      "metadata": {
        "colab": {
          "base_uri": "https://localhost:8080/"
        },
        "id": "AExseRUADkUf",
        "outputId": "0da6cd31-527a-4af3-aad5-8bdd4efccb16"
      },
      "source": [
        "TRAINING_DIR = 'split_data/train/'\n",
        "train_datagen = tf.keras.preprocessing.image.ImageDataGenerator(rescale=1 / 255.0)\n",
        "train_generator = train_datagen.flow_from_directory(TRAINING_DIR,\n",
        "                                                    target_size=(224, 224),\n",
        "                                                    class_mode='categorical',\n",
        "                                                    shuffle=True,\n",
        "                                                    batch_size=16)\n",
        "\n",
        "VALIDATING_DIR = 'split_data/valid/'\n",
        "valid_datagen = tf.keras.preprocessing.image.ImageDataGenerator(rescale=1 / 255.0)\n",
        "valid_generator = valid_datagen.flow_from_directory(VALIDATING_DIR,\n",
        "                                                    target_size=(224, 224),\n",
        "                                                    class_mode='categorical',\n",
        "                                                    shuffle=False,\n",
        "                                                    batch_size=16)"
      ],
      "execution_count": null,
      "outputs": [
        {
          "output_type": "stream",
          "text": [
            "Found 8097 images belonging to 3 classes.\n",
            "Found 1505 images belonging to 3 classes.\n"
          ],
          "name": "stdout"
        }
      ]
    },
    {
      "cell_type": "code",
      "metadata": {
        "id": "u5K7mJ374i5E"
      },
      "source": [
        "cae_model = tf.keras.models.load_model('pretrain_cae/cae.h5')"
      ],
      "execution_count": null,
      "outputs": []
    },
    {
      "cell_type": "code",
      "metadata": {
        "id": "5_p6Him844fq"
      },
      "source": [
        "for layer in cae_model.layers[0].layers:\n",
        "  layer.trainable = False"
      ],
      "execution_count": null,
      "outputs": []
    },
    {
      "cell_type": "code",
      "metadata": {
        "colab": {
          "base_uri": "https://localhost:8080/"
        },
        "id": "8FbNwUrH_sLL",
        "outputId": "99cb08a5-eef3-4d0e-ca42-90c312443b8b"
      },
      "source": [
        "for batch, label in train_generator:\n",
        "  print(batch.shape)\n",
        "   # values should be in `[0,1]`.\n",
        "  print(np.min(batch[0]), np.max(batch[0]))\n",
        "  break\n"
      ],
      "execution_count": null,
      "outputs": [
        {
          "output_type": "stream",
          "text": [
            "(16, 224, 224, 3)\n",
            "0.0 1.0\n"
          ],
          "name": "stdout"
        }
      ]
    },
    {
      "cell_type": "code",
      "metadata": {
        "id": "ynAEb6au48An"
      },
      "source": [
        "enc_out = cae_model.layers[0].output"
      ],
      "execution_count": null,
      "outputs": []
    },
    {
      "cell_type": "code",
      "metadata": {
        "id": "ZKXspdhp4938"
      },
      "source": [
        "y = tf.keras.layers.Reshape((49,512))(enc_out)\n",
        "y = tf.keras.layers.LSTM(512, return_sequences=True)(y)\n",
        "y = tf.keras.layers.Flatten()(y)\n",
        "y = tf.keras.layers.Dense(512, activation='relu')(y)\n",
        "y = tf.keras.layers.Dense(64, activation='relu')(y)\n",
        "y = tf.keras.layers.Dropout(0.2)(y)\n",
        "y = tf.keras.layers.Dense(3, activation='softmax')(y)"
      ],
      "execution_count": null,
      "outputs": []
    },
    {
      "cell_type": "code",
      "metadata": {
        "id": "FM2kzTnC5DF8"
      },
      "source": [
        "classification = tf.keras.Model(cae_model.layers[0].input, y)"
      ],
      "execution_count": null,
      "outputs": []
    },
    {
      "cell_type": "code",
      "metadata": {
        "colab": {
          "base_uri": "https://localhost:8080/"
        },
        "id": "Q0bVhvOU5N5t",
        "outputId": "8f4d8d45-9df1-4898-dd93-77914a3a8fa4"
      },
      "source": [
        "classification.summary()"
      ],
      "execution_count": null,
      "outputs": [
        {
          "output_type": "stream",
          "text": [
            "Model: \"model\"\n",
            "_________________________________________________________________\n",
            "Layer (type)                 Output Shape              Param #   \n",
            "=================================================================\n",
            "input_1 (InputLayer)         [(None, 224, 224, 3)]     0         \n",
            "_________________________________________________________________\n",
            "conv2d (Conv2D)              (None, 224, 224, 64)      1792      \n",
            "_________________________________________________________________\n",
            "conv2d_1 (Conv2D)            (None, 224, 224, 64)      36928     \n",
            "_________________________________________________________________\n",
            "max_pooling2d (MaxPooling2D) (None, 112, 112, 64)      0         \n",
            "_________________________________________________________________\n",
            "conv2d_2 (Conv2D)            (None, 112, 112, 128)     73856     \n",
            "_________________________________________________________________\n",
            "max_pooling2d_1 (MaxPooling2 (None, 56, 56, 128)       0         \n",
            "_________________________________________________________________\n",
            "conv2d_3 (Conv2D)            (None, 56, 56, 256)       295168    \n",
            "_________________________________________________________________\n",
            "max_pooling2d_2 (MaxPooling2 (None, 28, 28, 256)       0         \n",
            "_________________________________________________________________\n",
            "conv2d_4 (Conv2D)            (None, 28, 28, 512)       1180160   \n",
            "_________________________________________________________________\n",
            "max_pooling2d_3 (MaxPooling2 (None, 14, 14, 512)       0         \n",
            "_________________________________________________________________\n",
            "conv2d_5 (Conv2D)            (None, 14, 14, 512)       2359808   \n",
            "_________________________________________________________________\n",
            "max_pooling2d_4 (MaxPooling2 (None, 7, 7, 512)         0         \n",
            "_________________________________________________________________\n",
            "reshape (Reshape)            (None, 49, 512)           0         \n",
            "_________________________________________________________________\n",
            "lstm (LSTM)                  (None, 49, 512)           2099200   \n",
            "_________________________________________________________________\n",
            "flatten (Flatten)            (None, 25088)             0         \n",
            "_________________________________________________________________\n",
            "dense (Dense)                (None, 512)               12845568  \n",
            "_________________________________________________________________\n",
            "dense_1 (Dense)              (None, 64)                32832     \n",
            "_________________________________________________________________\n",
            "dropout (Dropout)            (None, 64)                0         \n",
            "_________________________________________________________________\n",
            "dense_2 (Dense)              (None, 3)                 195       \n",
            "=================================================================\n",
            "Total params: 18,925,507\n",
            "Trainable params: 14,977,795\n",
            "Non-trainable params: 3,947,712\n",
            "_________________________________________________________________\n"
          ],
          "name": "stdout"
        }
      ]
    },
    {
      "cell_type": "code",
      "metadata": {
        "id": "vHAduELH5OrA"
      },
      "source": [
        "classification.compile(optimizer='adam', loss='categorical_crossentropy', metrics=['accuracy'])"
      ],
      "execution_count": null,
      "outputs": []
    },
    {
      "cell_type": "code",
      "metadata": {
        "id": "10R1ALmY5OoQ"
      },
      "source": [
        "early_stopping_cb = tf.keras.callbacks.EarlyStopping(monitor='val_loss', patience=5, mode='auto')"
      ],
      "execution_count": null,
      "outputs": []
    },
    {
      "cell_type": "code",
      "metadata": {
        "id": "BiP5smLC5Omi"
      },
      "source": [
        "checkpoint_cb = tf.keras.callbacks.ModelCheckpoint('covid_classification.h5', save_best_only=True)"
      ],
      "execution_count": null,
      "outputs": []
    },
    {
      "cell_type": "code",
      "metadata": {
        "id": "rJATMZrpaQBb"
      },
      "source": [
        "epochs = 20"
      ],
      "execution_count": null,
      "outputs": []
    },
    {
      "cell_type": "code",
      "metadata": {
        "colab": {
          "base_uri": "https://localhost:8080/"
        },
        "id": "xpDd0gYs5Ojd",
        "outputId": "6fa0a88b-e212-4b60-fe03-e806404659fa"
      },
      "source": [
        "history = classification.fit(train_generator,\n",
        "                             epochs=epochs,\n",
        "                             validation_data=valid_generator,\n",
        "                             callbacks=[early_stopping_cb, checkpoint_cb])"
      ],
      "execution_count": null,
      "outputs": [
        {
          "output_type": "stream",
          "text": [
            "Epoch 1/20\n",
            "507/507 [==============================] - 95s 124ms/step - loss: 0.4242 - accuracy: 0.8108 - val_loss: 0.2450 - val_accuracy: 0.9116\n",
            "Epoch 2/20\n",
            "507/507 [==============================] - 62s 122ms/step - loss: 0.1961 - accuracy: 0.9234 - val_loss: 0.2304 - val_accuracy: 0.9196\n",
            "Epoch 3/20\n",
            "507/507 [==============================] - 62s 122ms/step - loss: 0.1411 - accuracy: 0.9468 - val_loss: 0.1542 - val_accuracy: 0.9535\n",
            "Epoch 4/20\n",
            "507/507 [==============================] - 63s 123ms/step - loss: 0.1020 - accuracy: 0.9616 - val_loss: 0.1527 - val_accuracy: 0.9561\n",
            "Epoch 5/20\n",
            "507/507 [==============================] - 63s 124ms/step - loss: 0.0813 - accuracy: 0.9720 - val_loss: 0.1534 - val_accuracy: 0.9515\n",
            "Epoch 6/20\n",
            "507/507 [==============================] - 61s 120ms/step - loss: 0.0735 - accuracy: 0.9749 - val_loss: 0.1602 - val_accuracy: 0.9475\n",
            "Epoch 7/20\n",
            "507/507 [==============================] - 61s 120ms/step - loss: 0.0525 - accuracy: 0.9816 - val_loss: 0.1770 - val_accuracy: 0.9468\n",
            "Epoch 8/20\n",
            "507/507 [==============================] - 61s 120ms/step - loss: 0.0513 - accuracy: 0.9815 - val_loss: 0.1461 - val_accuracy: 0.9641\n",
            "Epoch 9/20\n",
            "507/507 [==============================] - 61s 121ms/step - loss: 0.0382 - accuracy: 0.9859 - val_loss: 0.2055 - val_accuracy: 0.9449\n",
            "Epoch 10/20\n",
            "507/507 [==============================] - 62s 122ms/step - loss: 0.0310 - accuracy: 0.9904 - val_loss: 0.1471 - val_accuracy: 0.9681\n",
            "Epoch 11/20\n",
            "507/507 [==============================] - 61s 120ms/step - loss: 0.0303 - accuracy: 0.9897 - val_loss: 0.1671 - val_accuracy: 0.9654\n",
            "Epoch 12/20\n",
            "507/507 [==============================] - 61s 120ms/step - loss: 0.0207 - accuracy: 0.9938 - val_loss: 0.1852 - val_accuracy: 0.9601\n",
            "Epoch 13/20\n",
            "507/507 [==============================] - 60s 119ms/step - loss: 0.0287 - accuracy: 0.9909 - val_loss: 0.1778 - val_accuracy: 0.9641\n"
          ],
          "name": "stdout"
        }
      ]
    },
    {
      "cell_type": "code",
      "metadata": {
        "id": "h77O_EreJsTJ",
        "colab": {
          "base_uri": "https://localhost:8080/"
        },
        "outputId": "b0ce02ca-5212-4978-9385-d8f01efa6cb2"
      },
      "source": [
        "history.history"
      ],
      "execution_count": null,
      "outputs": [
        {
          "output_type": "execute_result",
          "data": {
            "text/plain": [
              "{'accuracy': [0.8107941150665283,\n",
              "  0.9234284162521362,\n",
              "  0.946770429611206,\n",
              "  0.9615907073020935,\n",
              "  0.9719648957252502,\n",
              "  0.9749289751052856,\n",
              "  0.9815981388092041,\n",
              "  0.9814746379852295,\n",
              "  0.9859207272529602,\n",
              "  0.9903668165206909,\n",
              "  0.9897493124008179,\n",
              "  0.9938248991966248,\n",
              "  0.9908608198165894],\n",
              " 'loss': [0.42423561215400696,\n",
              "  0.19609467685222626,\n",
              "  0.14111711084842682,\n",
              "  0.10204923897981644,\n",
              "  0.08130620419979095,\n",
              "  0.07349944114685059,\n",
              "  0.052489083260297775,\n",
              "  0.05131833627820015,\n",
              "  0.03822125494480133,\n",
              "  0.030989542603492737,\n",
              "  0.030317313969135284,\n",
              "  0.020747611299157143,\n",
              "  0.028701690956950188],\n",
              " 'val_accuracy': [0.9116278886795044,\n",
              "  0.919601321220398,\n",
              "  0.9534883499145508,\n",
              "  0.9561461806297302,\n",
              "  0.9514949917793274,\n",
              "  0.9475083351135254,\n",
              "  0.9468438625335693,\n",
              "  0.9641196131706238,\n",
              "  0.944850504398346,\n",
              "  0.9681063294410706,\n",
              "  0.9654484987258911,\n",
              "  0.960132896900177,\n",
              "  0.9641196131706238],\n",
              " 'val_loss': [0.24498555064201355,\n",
              "  0.23043861985206604,\n",
              "  0.15424750745296478,\n",
              "  0.1526871621608734,\n",
              "  0.1534164845943451,\n",
              "  0.16018429398536682,\n",
              "  0.1770012378692627,\n",
              "  0.14611473679542542,\n",
              "  0.20551423728466034,\n",
              "  0.14712360501289368,\n",
              "  0.16708441078662872,\n",
              "  0.18520505726337433,\n",
              "  0.17781604826450348]}"
            ]
          },
          "metadata": {
            "tags": []
          },
          "execution_count": 35
        }
      ]
    },
    {
      "cell_type": "code",
      "metadata": {
        "id": "OzFahzRqg4zy"
      },
      "source": [
        "classification = tf.keras.models.load_model('covid_classification.h5')  ## load best model"
      ],
      "execution_count": null,
      "outputs": []
    },
    {
      "cell_type": "code",
      "metadata": {
        "id": "LXzMWEmPJzg5",
        "colab": {
          "base_uri": "https://localhost:8080/",
          "height": 497
        },
        "outputId": "2fefd1ed-1e03-4a79-fd57-78aa4326eb1d"
      },
      "source": [
        "acc = history.history['accuracy']\n",
        "val_acc = history.history['val_accuracy']\n",
        "\n",
        "loss = history.history['loss']\n",
        "val_loss = history.history['val_loss']\n",
        "\n",
        "epochs_range = range(len(acc))\n",
        "\n",
        "plt.figure(figsize=(8, 8))\n",
        "# plt.subplot(1, 2, 1)\n",
        "plt.plot(epochs_range, acc, label='Training')\n",
        "plt.plot(epochs_range, val_acc, label='Validation')\n",
        "plt.legend(loc='best')\n",
        "plt.xlabel('Number of epochs')\n",
        "plt.ylabel('Accuracy')\n",
        "plt.savefig('accuracy.png', dpi=300)\n",
        "plt.show()\n",
        "\n",
        "# plt.subplot(1, 2, 2)"
      ],
      "execution_count": null,
      "outputs": [
        {
          "output_type": "display_data",
          "data": {
            "image/png": "[encoded data removed]",
            "text/plain": [
              "<Figure size 576x576 with 1 Axes>"
            ]
          },
          "metadata": {
            "tags": [],
            "needs_background": "light"
          }
        }
      ]
    },
    {
      "cell_type": "code",
      "metadata": {
        "colab": {
          "base_uri": "https://localhost:8080/",
          "height": 497
        },
        "id": "vvkQDH0SZVA_",
        "outputId": "e1db41c3-db81-4d1f-f6a1-7635114680d8"
      },
      "source": [
        "plt.figure(figsize=(8, 8))\n",
        "plt.plot(epochs_range, loss, label='Training')\n",
        "plt.plot(epochs_range, val_loss, label='Validation')\n",
        "plt.legend(loc='best')\n",
        "plt.xlabel('Number of epochs')\n",
        "plt.ylabel('Loss')\n",
        "plt.savefig('loss.png', dpi=300)\n",
        "plt.show()"
      ],
      "execution_count": null,
      "outputs": [
        {
          "output_type": "display_data",
          "data": {
            "image/png": "[encoded data removed]",
            "text/plain": [
              "<Figure size 576x576 with 1 Axes>"
            ]
          },
          "metadata": {
            "tags": [],
            "needs_background": "light"
          }
        }
      ]
    },
    {
      "cell_type": "code",
      "metadata": {
        "id": "sOtTNAltg2lK"
      },
      "source": [
        "for i in classification.layers:  ## unfreeze all layers\n",
        "  i.trainable=True"
      ],
      "execution_count": null,
      "outputs": []
    },
    {
      "cell_type": "code",
      "metadata": {
        "id": "70YkX35giHs_"
      },
      "source": [
        "classification.compile(optimizer=tf.keras.optimizers.Adam(learning_rate=1e-5), loss='categorical_crossentropy', metrics=['accuracy'])"
      ],
      "execution_count": null,
      "outputs": []
    },
    {
      "cell_type": "code",
      "metadata": {
        "colab": {
          "base_uri": "https://localhost:8080/"
        },
        "id": "O4D4AkHahHOU",
        "outputId": "c9f65cdc-2ad2-4ef7-f1ae-85784394c897"
      },
      "source": [
        "history_unfreeze = classification.fit(train_generator,\n",
        "                              epochs=epochs,\n",
        "                              validation_data=valid_generator,\n",
        "                              callbacks=[early_stopping_cb, checkpoint_cb])"
      ],
      "execution_count": null,
      "outputs": [
        {
          "output_type": "stream",
          "text": [
            "Epoch 1/20\n",
            "507/507 [==============================] - 63s 121ms/step - loss: 0.0368 - accuracy: 0.9881 - val_loss: 0.1835 - val_accuracy: 0.9608\n",
            "Epoch 2/20\n",
            "507/507 [==============================] - 60s 119ms/step - loss: 0.0332 - accuracy: 0.9881 - val_loss: 0.1889 - val_accuracy: 0.9601\n",
            "Epoch 3/20\n",
            "507/507 [==============================] - 61s 120ms/step - loss: 0.0219 - accuracy: 0.9922 - val_loss: 0.2569 - val_accuracy: 0.9488\n",
            "Epoch 4/20\n",
            "507/507 [==============================] - 61s 121ms/step - loss: 0.0292 - accuracy: 0.9915 - val_loss: 0.1553 - val_accuracy: 0.9681\n",
            "Epoch 5/20\n",
            "507/507 [==============================] - 60s 119ms/step - loss: 0.0180 - accuracy: 0.9936 - val_loss: 0.1596 - val_accuracy: 0.9635\n",
            "Epoch 6/20\n",
            "507/507 [==============================] - 61s 120ms/step - loss: 0.0183 - accuracy: 0.9949 - val_loss: 0.1634 - val_accuracy: 0.9668\n",
            "Epoch 7/20\n",
            "507/507 [==============================] - 60s 118ms/step - loss: 0.0195 - accuracy: 0.9937 - val_loss: 0.1989 - val_accuracy: 0.9628\n",
            "Epoch 8/20\n",
            "507/507 [==============================] - 60s 118ms/step - loss: 0.0230 - accuracy: 0.9933 - val_loss: 0.1433 - val_accuracy: 0.9701\n",
            "Epoch 9/20\n",
            "507/507 [==============================] - 60s 119ms/step - loss: 0.0065 - accuracy: 0.9975 - val_loss: 0.1737 - val_accuracy: 0.9688\n",
            "Epoch 10/20\n",
            "507/507 [==============================] - 61s 119ms/step - loss: 0.0097 - accuracy: 0.9968 - val_loss: 0.2733 - val_accuracy: 0.9555\n",
            "Epoch 11/20\n",
            "507/507 [==============================] - 61s 120ms/step - loss: 0.0223 - accuracy: 0.9928 - val_loss: 0.2758 - val_accuracy: 0.9508\n",
            "Epoch 12/20\n",
            "507/507 [==============================] - 60s 119ms/step - loss: 0.0170 - accuracy: 0.9946 - val_loss: 0.1971 - val_accuracy: 0.9654\n",
            "Epoch 13/20\n",
            "507/507 [==============================] - 60s 118ms/step - loss: 0.0073 - accuracy: 0.9978 - val_loss: 0.2231 - val_accuracy: 0.9628\n"
          ],
          "name": "stdout"
        }
      ]
    },
    {
      "cell_type": "code",
      "metadata": {
        "colab": {
          "base_uri": "https://localhost:8080/"
        },
        "id": "bALcJ9x3hOyp",
        "outputId": "430302c1-8d72-4ee7-a73d-3227226fed7a"
      },
      "source": [
        "history_unfreeze.history"
      ],
      "execution_count": null,
      "outputs": [
        {
          "output_type": "execute_result",
          "data": {
            "text/plain": [
              "{'accuracy': [0.9881437420845032,\n",
              "  0.9881437420845032,\n",
              "  0.9922193288803101,\n",
              "  0.9914783239364624,\n",
              "  0.9935778975486755,\n",
              "  0.9949364066123962,\n",
              "  0.9937013983726501,\n",
              "  0.9933308362960815,\n",
              "  0.997529923915863,\n",
              "  0.9967889189720154,\n",
              "  0.9928368330001831,\n",
              "  0.9945659041404724,\n",
              "  0.9977769255638123],\n",
              " 'loss': [0.036836281418800354,\n",
              "  0.03318550065159798,\n",
              "  0.02188563160598278,\n",
              "  0.0292108915746212,\n",
              "  0.018005669116973877,\n",
              "  0.018290163949131966,\n",
              "  0.01950754225254059,\n",
              "  0.023011963814496994,\n",
              "  0.006537566892802715,\n",
              "  0.009705943986773491,\n",
              "  0.02228361740708351,\n",
              "  0.01698383316397667,\n",
              "  0.007291246671229601],\n",
              " 'val_accuracy': [0.9607973694801331,\n",
              "  0.960132896900177,\n",
              "  0.9488372206687927,\n",
              "  0.9681063294410706,\n",
              "  0.9634551405906677,\n",
              "  0.9667773842811584,\n",
              "  0.9627906680107117,\n",
              "  0.970099687576294,\n",
              "  0.9687707424163818,\n",
              "  0.9554817080497742,\n",
              "  0.9508305788040161,\n",
              "  0.9654484987258911,\n",
              "  0.9627906680107117],\n",
              " 'val_loss': [0.1834699511528015,\n",
              "  0.18894319236278534,\n",
              "  0.2569272518157959,\n",
              "  0.15532353520393372,\n",
              "  0.15960076451301575,\n",
              "  0.1634480506181717,\n",
              "  0.19894813001155853,\n",
              "  0.14331963658332825,\n",
              "  0.17367441952228546,\n",
              "  0.2732745409011841,\n",
              "  0.27580931782722473,\n",
              "  0.1971488893032074,\n",
              "  0.22305461764335632]}"
            ]
          },
          "metadata": {
            "tags": []
          },
          "execution_count": 41
        }
      ]
    },
    {
      "cell_type": "code",
      "metadata": {
        "colab": {
          "base_uri": "https://localhost:8080/",
          "height": 499
        },
        "id": "rk1bbn8zhj3c",
        "outputId": "ed36744b-6910-4570-98ff-f1b184f9d869"
      },
      "source": [
        "acc = history_unfreeze.history['accuracy']\n",
        "val_acc = history_unfreeze.history['val_accuracy']\n",
        "\n",
        "loss = history_unfreeze.history['loss']\n",
        "val_loss = history_unfreeze.history['val_loss']\n",
        "\n",
        "epochs_range = range(len(acc))\n",
        "\n",
        "plt.figure(figsize=(8, 8))\n",
        "# plt.subplot(1, 2, 1)\n",
        "plt.plot(epochs_range, acc, label='Training')\n",
        "plt.plot(epochs_range, val_acc, label='Validation')\n",
        "plt.legend(loc='best')\n",
        "plt.xlabel('Number of epochs')\n",
        "plt.ylabel('Accuracy')\n",
        "plt.savefig('accuracy_unfreeze.png', dpi=300)\n",
        "plt.show()\n",
        "\n",
        "# plt.subplot(1, 2, 2)"
      ],
      "execution_count": null,
      "outputs": [
        {
          "output_type": "display_data",
          "data": {
            "image/png": "[encoded data removed]",
            "text/plain": [
              "<Figure size 576x576 with 1 Axes>"
            ]
          },
          "metadata": {
            "tags": [],
            "needs_background": "light"
          }
        }
      ]
    },
    {
      "cell_type": "code",
      "metadata": {
        "colab": {
          "base_uri": "https://localhost:8080/",
          "height": 497
        },
        "id": "uBvmRDjahveF",
        "outputId": "d032d8ad-c280-43b2-dc0e-53472fea2585"
      },
      "source": [
        "plt.figure(figsize=(8, 8))\n",
        "plt.plot(epochs_range, loss, label='Training')\n",
        "plt.plot(epochs_range, val_loss, label='Validation')\n",
        "plt.legend(loc='best')\n",
        "plt.xlabel('Number of epochs')\n",
        "plt.ylabel('Loss')\n",
        "plt.savefig('loss_unfreeze.png', dpi=300)\n",
        "plt.show()"
      ],
      "execution_count": null,
      "outputs": [
        {
          "output_type": "display_data",
          "data": {
            "image/png": "[encoded data removed]",
            "text/plain": [
              "<Figure size 576x576 with 1 Axes>"
            ]
          },
          "metadata": {
            "tags": [],
            "needs_background": "light"
          }
        }
      ]
    },
    {
      "cell_type": "code",
      "metadata": {
        "id": "s3ymWt4dhz4s"
      },
      "source": [
        "train_loss = history.history['loss']+history_unfreeze.history['loss']"
      ],
      "execution_count": null,
      "outputs": []
    },
    {
      "cell_type": "code",
      "metadata": {
        "id": "aYEaTf1mhzw3"
      },
      "source": [
        "train_acc = history.history['accuracy']+history_unfreeze.history['accuracy']"
      ],
      "execution_count": null,
      "outputs": []
    },
    {
      "cell_type": "code",
      "metadata": {
        "id": "Kh9A8jm-hziy"
      },
      "source": [
        "val_loss = history.history['val_loss']+history_unfreeze.history['val_loss']"
      ],
      "execution_count": null,
      "outputs": []
    },
    {
      "cell_type": "code",
      "metadata": {
        "id": "E5QelmLsiWRs"
      },
      "source": [
        "val_acc = history.history['val_accuracy']+history_unfreeze.history['val_accuracy']"
      ],
      "execution_count": null,
      "outputs": []
    },
    {
      "cell_type": "code",
      "metadata": {
        "colab": {
          "base_uri": "https://localhost:8080/",
          "height": 497
        },
        "id": "Vgl-v-ToihCB",
        "outputId": "146dbd58-6f2d-4f8f-839a-716a97d00a31"
      },
      "source": [
        "epochs_range = range(len(train_loss))\n",
        "\n",
        "plt.figure(figsize=(8, 8))\n",
        "# plt.subplot(1, 2, 1)\n",
        "plt.plot(epochs_range, train_acc, label='Training')\n",
        "plt.plot(epochs_range, val_acc, label='Validation')\n",
        "plt.legend(loc='best')\n",
        "plt.xlabel('Number of epochs')\n",
        "plt.ylabel('Accuracy')\n",
        "plt.savefig('accuracy_overall.png', dpi=300)\n",
        "plt.show()"
      ],
      "execution_count": null,
      "outputs": [
        {
          "output_type": "display_data",
          "data": {
            "image/png": "[encoded data removed]",
            "text/plain": [
              "<Figure size 576x576 with 1 Axes>"
            ]
          },
          "metadata": {
            "tags": [],
            "needs_background": "light"
          }
        }
      ]
    },
    {
      "cell_type": "code",
      "metadata": {
        "colab": {
          "base_uri": "https://localhost:8080/",
          "height": 497
        },
        "id": "rtyVjzoei38M",
        "outputId": "63a33715-674f-4f43-842b-9e3833e76082"
      },
      "source": [
        "plt.figure(figsize=(8, 8))\n",
        "plt.plot(epochs_range, train_loss, label='Training')\n",
        "plt.plot(epochs_range, val_loss, label='Validation')\n",
        "plt.legend(loc='best')\n",
        "plt.xlabel('Number of epochs')\n",
        "plt.ylabel('Loss')\n",
        "plt.savefig('loss_overall.png', dpi=300)\n",
        "plt.show()"
      ],
      "execution_count": null,
      "outputs": [
        {
          "output_type": "display_data",
          "data": {
            "image/png": "[encoded data removed]",
            "text/plain": [
              "<Figure size 576x576 with 1 Axes>"
            ]
          },
          "metadata": {
            "tags": [],
            "needs_background": "light"
          }
        }
      ]
    },
    {
      "cell_type": "markdown",
      "metadata": {
        "id": "Fuq48LrKihkQ"
      },
      "source": [
        "# TESTING "
      ]
    },
    {
      "cell_type": "code",
      "metadata": {
        "id": "EEHtqflU5OfA",
        "colab": {
          "base_uri": "https://localhost:8080/"
        },
        "outputId": "3bfa64af-3e87-4cd7-b185-9ea6996bf563"
      },
      "source": [
        "TESING_DIR = 'split_data/test/'\n",
        "test_datagen = tf.keras.preprocessing.image.ImageDataGenerator(rescale=1 / 255.0)\n",
        "test_generator = test_datagen.flow_from_directory(TESING_DIR,\n",
        "                                                    target_size=(224, 224),\n",
        "                                                    class_mode='categorical',\n",
        "                                                    shuffle=False,\n",
        "                                                    batch_size=32)"
      ],
      "execution_count": null,
      "outputs": [
        {
          "output_type": "stream",
          "text": [
            "Found 1507 images belonging to 3 classes.\n"
          ],
          "name": "stdout"
        }
      ]
    },
    {
      "cell_type": "code",
      "metadata": {
        "id": "UgmQVpEQL2_r"
      },
      "source": [
        "predictions = classification.predict(test_generator)"
      ],
      "execution_count": null,
      "outputs": []
    },
    {
      "cell_type": "code",
      "metadata": {
        "colab": {
          "base_uri": "https://localhost:8080/"
        },
        "id": "bgQiwU9uMTbb",
        "outputId": "0aba80ff-0ec8-4973-9d75-9c2db820bf08"
      },
      "source": [
        "predictions.shape"
      ],
      "execution_count": null,
      "outputs": [
        {
          "output_type": "execute_result",
          "data": {
            "text/plain": [
              "(1507, 3)"
            ]
          },
          "metadata": {
            "tags": []
          },
          "execution_count": 52
        }
      ]
    },
    {
      "cell_type": "code",
      "metadata": {
        "colab": {
          "base_uri": "https://localhost:8080/"
        },
        "id": "Gdn76SBCL23y",
        "outputId": "543b9b61-d289-452a-cd31-98977f20d365"
      },
      "source": [
        "predicted_classes = np.argmax(predictions, axis=-1)\n",
        "min(predicted_classes),max(predicted_classes)  ## must be 0,2"
      ],
      "execution_count": null,
      "outputs": [
        {
          "output_type": "execute_result",
          "data": {
            "text/plain": [
              "(0, 2)"
            ]
          },
          "metadata": {
            "tags": []
          },
          "execution_count": 53
        }
      ]
    },
    {
      "cell_type": "code",
      "metadata": {
        "colab": {
          "base_uri": "https://localhost:8080/"
        },
        "id": "NMchV7tmL2hp",
        "outputId": "8e491725-6fb1-4dba-9cc3-14b9d5334c30"
      },
      "source": [
        "test_generator.class_indices"
      ],
      "execution_count": null,
      "outputs": [
        {
          "output_type": "execute_result",
          "data": {
            "text/plain": [
              "{'COVID': 0, 'NORMAL': 1, 'PNEUMONIA': 2}"
            ]
          },
          "metadata": {
            "tags": []
          },
          "execution_count": 54
        }
      ]
    },
    {
      "cell_type": "code",
      "metadata": {
        "colab": {
          "base_uri": "https://localhost:8080/"
        },
        "id": "vi46if6sM5uZ",
        "outputId": "00a5d751-385b-4d73-b6ac-eb79aedf9785"
      },
      "source": [
        "test_generator.classes"
      ],
      "execution_count": null,
      "outputs": [
        {
          "output_type": "execute_result",
          "data": {
            "text/plain": [
              "array([0, 0, 0, ..., 2, 2, 2], dtype=int32)"
            ]
          },
          "metadata": {
            "tags": []
          },
          "execution_count": 55
        }
      ]
    },
    {
      "cell_type": "code",
      "metadata": {
        "id": "LpvOBZ5JL2w1"
      },
      "source": [
        "labels = test_generator.classes"
      ],
      "execution_count": null,
      "outputs": []
    },
    {
      "cell_type": "code",
      "metadata": {
        "colab": {
          "base_uri": "https://localhost:8080/"
        },
        "id": "-LVhXM1mK3nt",
        "outputId": "04fdbe2a-e901-4b21-a439-55d589da39ee"
      },
      "source": [
        "class_names = list(test_generator.class_indices.keys())\n",
        "class_names"
      ],
      "execution_count": null,
      "outputs": [
        {
          "output_type": "execute_result",
          "data": {
            "text/plain": [
              "['COVID', 'NORMAL', 'PNEUMONIA']"
            ]
          },
          "metadata": {
            "tags": []
          },
          "execution_count": 57
        }
      ]
    },
    {
      "cell_type": "code",
      "metadata": {
        "colab": {
          "base_uri": "https://localhost:8080/"
        },
        "id": "U4vQOFTAK3jk",
        "outputId": "177876ee-5c1a-4fe2-cd72-04dfe65a79a2"
      },
      "source": [
        "classification_report = metrics.classification_report(labels, predicted_classes, target_names=class_names)\n",
        "print(classification_report)"
      ],
      "execution_count": null,
      "outputs": [
        {
          "output_type": "stream",
          "text": [
            "              precision    recall  f1-score   support\n",
            "\n",
            "       COVID       0.99      0.93      0.96       503\n",
            "      NORMAL       0.93      0.98      0.95       502\n",
            "   PNEUMONIA       0.98      0.99      0.99       502\n",
            "\n",
            "    accuracy                           0.97      1507\n",
            "   macro avg       0.97      0.97      0.97      1507\n",
            "weighted avg       0.97      0.97      0.97      1507\n",
            "\n"
          ],
          "name": "stdout"
        }
      ]
    },
    {
      "cell_type": "code",
      "metadata": {
        "colab": {
          "base_uri": "https://localhost:8080/"
        },
        "id": "JeeIF7yNLOZ2",
        "outputId": "13115b4e-4137-4bc1-f57f-15ac63b1d385"
      },
      "source": [
        "cm_test = metrics.confusion_matrix(labels, predicted_classes)\n",
        "cm_test"
      ],
      "execution_count": null,
      "outputs": [
        {
          "output_type": "execute_result",
          "data": {
            "text/plain": [
              "array([[469,  31,   3],\n",
              "       [  6, 491,   5],\n",
              "       [  1,   5, 496]])"
            ]
          },
          "metadata": {
            "tags": []
          },
          "execution_count": 59
        }
      ]
    },
    {
      "cell_type": "code",
      "metadata": {
        "id": "728Zs_S7d2vf"
      },
      "source": [
        "def make_confusion_matrix(cf,\n",
        "                          group_names=None,\n",
        "                          categories='auto',\n",
        "                          count=True,\n",
        "                          percent=True,\n",
        "                          cbar=True,\n",
        "                          xyticks=True,\n",
        "                          xyplotlabels=True,\n",
        "                          sum_stats=True,\n",
        "                          figsize=None,\n",
        "                          cmap='Blues',\n",
        "                          title=None,\n",
        "                          save_dir=None):\n",
        "    \n",
        "    # CODE TO GENERATE TEXT INSIDE EACH SQUARE\n",
        "    blanks = ['' for i in range(cf.size)]\n",
        "\n",
        "    if group_names and len(group_names)==cf.size:\n",
        "        group_labels = [\"{}\\n\".format(value) for value in group_names]\n",
        "    else:\n",
        "        group_labels = blanks\n",
        "\n",
        "    if count:\n",
        "        group_counts = [\"{0:0.0f}\\n\".format(value) for value in cf.flatten()]\n",
        "    else:\n",
        "        group_counts = blanks\n",
        "\n",
        "    if percent:\n",
        "        group_percentages = [\"{0:.2%}\".format(value) for value in cf.flatten()/np.sum(cf)]\n",
        "    else:\n",
        "        group_percentages = blanks\n",
        "\n",
        "    box_labels = [f\"{v1}{v2}{v3}\".strip() for v1, v2, v3 in zip(group_labels,group_counts,group_percentages)]\n",
        "    box_labels = np.asarray(box_labels).reshape(cf.shape[0],cf.shape[1])\n",
        "\n",
        "\n",
        "    # CODE TO GENERATE SUMMARY STATISTICS & TEXT FOR SUMMARY STATS\n",
        "    if sum_stats:\n",
        "        #Accuracy is sum of diagonal divided by total observations\n",
        "        accuracy  = np.trace(cf) / float(np.sum(cf))\n",
        "\n",
        "        #if it is a binary confusion matrix, show some more stats\n",
        "        if len(cf)==2:\n",
        "            #Metrics for Binary Confusion Matrices\n",
        "            precision = cf[1,1] / sum(cf[:,1])\n",
        "            recall    = cf[1,1] / sum(cf[1,:])\n",
        "            f1_score  = 2*precision*recall / (precision + recall)\n",
        "            stats_text = \"\\n\\nAccuracy={:0.3f}\\nPrecision={:0.3f}\\nRecall={:0.3f}\\nF1 Score={:0.3f}\".format(\n",
        "                accuracy,precision,recall,f1_score)\n",
        "        else:\n",
        "            stats_text = \"\\n\\nAccuracy={:0.3f}\".format(accuracy)\n",
        "    else:\n",
        "        stats_text = \"\"\n",
        "\n",
        "\n",
        "    # SET FIGURE PARAMETERS ACCORDING TO OTHER ARGUMENTS\n",
        "    if figsize==None:\n",
        "        #Get default figure size if not set\n",
        "        figsize = plt.rcParams.get('figure.figsize')\n",
        "\n",
        "    if xyticks==False:\n",
        "        #Do not show categories if xyticks is False\n",
        "        categories=False\n",
        "\n",
        "\n",
        "    # MAKE THE HEATMAP VISUALIZATION\n",
        "    plt.figure(figsize=figsize)\n",
        "    hmap = sns.heatmap(cf,annot=box_labels,fmt=\"\",cmap=cmap,cbar=cbar,xticklabels=categories,yticklabels=categories)\n",
        "    hmap.yaxis.set_ticklabels(hmap.yaxis.get_ticklabels(), rotation=0, ha='right')\n",
        "    hmap.xaxis.set_ticklabels(hmap.xaxis.get_ticklabels(), rotation=90, ha='right')\n",
        "\n",
        "    if xyplotlabels:\n",
        "        plt.ylabel('True label')\n",
        "        plt.xlabel('Predicted label' + stats_text)\n",
        "    else:\n",
        "        plt.xlabel(stats_text)\n",
        "    \n",
        "    if title:\n",
        "        plt.title(title)\n",
        "    if save_dir:\n",
        "      plt.savefig(save_dir, dpi=300)"
      ],
      "execution_count": null,
      "outputs": []
    },
    {
      "cell_type": "code",
      "metadata": {
        "colab": {
          "base_uri": "https://localhost:8080/",
          "height": 439
        },
        "id": "4qunfwb6eAMu",
        "outputId": "e0bf0616-681c-4a48-d77e-6538575b7352"
      },
      "source": [
        "make_confusion_matrix(cm_test, figsize=(8,6), cbar=False, categories=class_names, save_dir='cm.png', sum_stats=False)"
      ],
      "execution_count": null,
      "outputs": [
        {
          "output_type": "display_data",
          "data": {
            "image/png": "[encoded data removed]",
            "text/plain": [
              "<Figure size 576x432 with 1 Axes>"
            ]
          },
          "metadata": {
            "tags": [],
            "needs_background": "light"
          }
        }
      ]
    },
    {
      "cell_type": "code",
      "metadata": {
        "colab": {
          "base_uri": "https://localhost:8080/",
          "height": 547
        },
        "id": "gcLm9Va8UPZH",
        "outputId": "038f5807-4a0c-41fa-80e3-25bc6e69ca3a"
      },
      "source": [
        "from sklearn.preprocessing import LabelBinarizer\n",
        "from sklearn.metrics import roc_curve, auc, roc_auc_score\n",
        "\n",
        "\n",
        "# set plot figure size\n",
        "fig, c_ax = plt.subplots(1,1, figsize = (12, 8))\n",
        "\n",
        "# function for scoring roc auc score for multi-class\n",
        "def multiclass_roc_auc_score(y_test, y_pred, average=\"macro\"):\n",
        "    lb = LabelBinarizer()\n",
        "    lb.fit(y_test)\n",
        "    y_test = lb.transform(y_test)\n",
        "    y_pred = lb.transform(y_pred)\n",
        "\n",
        "    for (idx, c_label) in enumerate(class_names):\n",
        "        fpr, tpr, thresholds = roc_curve(y_test[:,idx].astype(int), y_pred[:,idx])\n",
        "        c_ax.plot(fpr, tpr, label = '%s (AUC:%0.2f)'  % (c_label, auc(fpr, tpr)))\n",
        "    c_ax.plot(fpr, fpr, '--', label = 'Random Guessing')\n",
        "    return roc_auc_score(y_test, y_pred, average=average)\n",
        "\n",
        "\n",
        "print(f'ROC AUC score: {multiclass_roc_auc_score(labels, predicted_classes)} \\n')\n",
        "\n",
        "c_ax.legend()\n",
        "c_ax.set_title('ROC Analysis')\n",
        "c_ax.set_xlabel('False Positive Rate')\n",
        "c_ax.set_ylabel('True Positive Rate')\n",
        "plt.savefig('roc.png', dpi=300)\n",
        "plt.show()\n"
      ],
      "execution_count": null,
      "outputs": [
        {
          "output_type": "stream",
          "text": [
            "ROC AUC score: 0.97463130311443 \n",
            "\n"
          ],
          "name": "stdout"
        },
        {
          "output_type": "display_data",
          "data": {
            "image/png": "[encoded data removed]",
            "text/plain": [
              "<Figure size 864x576 with 1 Axes>"
            ]
          },
          "metadata": {
            "tags": [],
            "needs_background": "light"
          }
        }
      ]
    },
    {
      "cell_type": "code",
      "metadata": {
        "colab": {
          "base_uri": "https://localhost:8080/"
        },
        "id": "aAdA0zfPXe5S",
        "outputId": "12620690-5c4a-4917-ac4d-294f44662f3d"
      },
      "source": [
        "print(f'metric name : [COVID, NORMAL, PNEUMONIA]')\n",
        "FP = cm_test.sum(axis=0) - np.diag(cm_test) \n",
        "FN = cm_test.sum(axis=1) - np.diag(cm_test)\n",
        "TP = np.diag(cm_test)\n",
        "TN = cm_test.sum() - (FP + FN + TP)\n",
        "FP = FP.astype(float)\n",
        "FN = FN.astype(float)\n",
        "TP = TP.astype(float)\n",
        "TN = TN.astype(float)\n",
        "print(f'False Positives: {FP}')\n",
        "print(f'False Negatives: {FN}')\n",
        "print(f'True Positives: {TP}')\n",
        "print(f'True Negatives: {TN}')\n",
        "\n",
        "# Sensitivity, hit rate, recall, or true positive rate\n",
        "TPR = TP/(TP+FN)\n",
        "print(f'Sensitivity, hit rate, recall, or true positive rate : {TPR}')\n",
        "# Specificity or true negative rate\n",
        "TNR = TN/(TN+FP) \n",
        "print(f'Specificity or true negative rate : {TNR}')\n",
        "# Precision or positive predictive value\n",
        "PPV = TP/(TP+FP)\n",
        "print(f'Precision or positive predictive value : {PPV}')\n",
        "# Negative predictive value\n",
        "NPV = TN/(TN+FN)\n",
        "print(f'Negative predictive value : {NPV}')\n",
        "# Fall out or false positive rate\n",
        "FPR = FP/(FP+TN)\n",
        "print(f'Fall out or false positive rate : {FPR}')\n",
        "# False negative rate\n",
        "FNR = FN/(TP+FN)\n",
        "print(f'False negative rate : {FNR}')\n",
        "# False discovery rate\n",
        "FDR = FP/(TP+FP)\n",
        "print(f'False discovery rate : {FDR}')\n",
        "# Overall accuracy for each class\n",
        "ACC = (TP+TN)/(TP+FP+FN+TN)\n",
        "print(f'Overall accuracy for each class : {ACC}')"
      ],
      "execution_count": null,
      "outputs": [
        {
          "output_type": "stream",
          "text": [
            "metric name : [COVID, NORMAL, PNEUMONIA]\n",
            "False Positives: [ 7. 36.  8.]\n",
            "False Negatives: [34. 11.  6.]\n",
            "True Positives: [469. 491. 496.]\n",
            "True Negatives: [997. 969. 997.]\n",
            "Sensitivity, hit rate, recall, or true positive rate : [0.93240557 0.97808765 0.98804781]\n",
            "Specificity or true negative rate : [0.99302789 0.9641791  0.9920398 ]\n",
            "Precision or positive predictive value : [0.98529412 0.9316888  0.98412698]\n",
            "Negative predictive value : [0.96702231 0.98877551 0.99401795]\n",
            "Fall out or false positive rate : [0.00697211 0.0358209  0.0079602 ]\n",
            "False negative rate : [0.06759443 0.02191235 0.01195219]\n",
            "False discovery rate : [0.01470588 0.0683112  0.01587302]\n",
            "Overall accuracy for each class : [0.97279363 0.96881221 0.99071002]\n"
          ],
          "name": "stdout"
        }
      ]
    },
    {
      "cell_type": "code",
      "metadata": {
        "colab": {
          "base_uri": "https://localhost:8080/"
        },
        "id": "CvYAa43FXezg",
        "outputId": "236d56fa-56a6-499e-a941-70526891f316"
      },
      "source": [
        "sum(ACC)/3"
      ],
      "execution_count": null,
      "outputs": [
        {
          "output_type": "execute_result",
          "data": {
            "text/plain": [
              "0.9774386197743862"
            ]
          },
          "metadata": {
            "tags": []
          },
          "execution_count": 68
        }
      ]
    },
    {
      "cell_type": "code",
      "metadata": {
        "id": "tv-uaufmoRK5"
      },
      "source": [
        ""
      ],
      "execution_count": null,
      "outputs": []
    },
    {
      "cell_type": "code",
      "metadata": {
        "id": "TJMYL-aRn3XN"
      },
      "source": [
        ""
      ],
      "execution_count": null,
      "outputs": []
    }
  ]
}