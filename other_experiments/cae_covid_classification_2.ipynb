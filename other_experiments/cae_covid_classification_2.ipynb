{
  "nbformat": 4,
  "nbformat_minor": 0,
  "metadata": {
    "colab": {
      "name": "cae_covid_classification_3.ipynb",
      "provenance": [],
      "collapsed_sections": []
    },
    "kernelspec": {
      "name": "python3",
      "display_name": "Python 3"
    },
    "language_info": {
      "name": "python"
    },
    "accelerator": "GPU"
  },
  "cells": [
    {
      "cell_type": "code",
      "metadata": {
        "id": "mk2kb2kjzNZU"
      },
      "source": [
        "from tqdm.notebook import tqdm_notebook\n",
        "import tensorflow as tf\n",
        "import zipfile\n",
        "import glob\n",
        "import numpy as np\n",
        "import pandas as pd\n",
        "from sklearn.model_selection import train_test_split\n",
        "from sklearn import metrics\n",
        "import matplotlib.pyplot as plt\n",
        "import seaborn as sns\n",
        "import os\n",
        "import random\n",
        "import shutil"
      ],
      "execution_count": null,
      "outputs": []
    },
    {
      "cell_type": "code",
      "metadata": {
        "id": "T07FFIQP9qVG"
      },
      "source": [
        "tf.random.set_seed(1)\n",
        "random.seed(1)\n",
        "np.random.seed(1)"
      ],
      "execution_count": null,
      "outputs": []
    },
    {
      "cell_type": "code",
      "metadata": {
        "colab": {
          "base_uri": "https://localhost:8080/"
        },
        "id": "GtSBTgCVzmpA",
        "outputId": "f8dd329b-5abc-429a-add1-b933c2b996e6"
      },
      "source": [
        "!wget \"https://storage.googleapis.com/cae_covid_classification/covid_normal_pneumonia.zip\""
      ],
      "execution_count": null,
      "outputs": [
        {
          "output_type": "stream",
          "text": [
            "--2021-07-30 02:00:03--  https://storage.googleapis.com/cae_covid_classification/covid_normal_pneumonia.zip\n",
            "Resolving storage.googleapis.com (storage.googleapis.com)... 74.125.137.128, 142.250.141.128, 142.251.2.128, ...\n",
            "Connecting to storage.googleapis.com (storage.googleapis.com)|74.125.137.128|:443... connected.\n",
            "HTTP request sent, awaiting response... 200 OK\n",
            "Length: 815753304 (778M) [application/x-zip-compressed]\n",
            "Saving to: ‘covid_normal_pneumonia.zip’\n",
            "\n",
            "covid_normal_pneumo 100%[===================>] 777.96M   249MB/s    in 3.2s    \n",
            "\n",
            "2021-07-30 02:00:07 (241 MB/s) - ‘covid_normal_pneumonia.zip’ saved [815753304/815753304]\n",
            "\n"
          ],
          "name": "stdout"
        }
      ]
    },
    {
      "cell_type": "code",
      "metadata": {
        "id": "PzLluOqhz5So"
      },
      "source": [
        "!unzip -q covid_normal_pneumonia.zip"
      ],
      "execution_count": null,
      "outputs": []
    },
    {
      "cell_type": "code",
      "metadata": {
        "colab": {
          "base_uri": "https://localhost:8080/"
        },
        "id": "k9Ggr3Hhzmm8",
        "outputId": "242e3ff7-5f5b-4a91-a410-81977b0a81bc"
      },
      "source": [
        "total_covid = len(os.listdir('covid_normal_pneumonia/COVID/'))\n",
        "total_normal = len(os.listdir('covid_normal_pneumonia/NORMAL/'))\n",
        "total_pneumonia = len(os.listdir('covid_normal_pneumonia/PNEUMONIA/'))\n",
        "print('covid_count : {} | normal_count : {} | pneumonia_count : {}'.format( str(total_covid),str(total_normal),str(total_pneumonia)) )"
      ],
      "execution_count": null,
      "outputs": [
        {
          "output_type": "stream",
          "text": [
            "covid_count : 3709 | normal_count : 3700 | pneumonia_count : 3700\n"
          ],
          "name": "stdout"
        }
      ]
    },
    {
      "cell_type": "code",
      "metadata": {
        "colab": {
          "base_uri": "https://localhost:8080/"
        },
        "id": "2iNe44wjzmj_",
        "outputId": "74717901-4491-4d40-bc42-cda2347c9542"
      },
      "source": [
        "try:\n",
        "    os.system(\"rm -rf ./split_data\")\n",
        "    os.mkdir('split_data')\n",
        "    os.mkdir('split_data/train')\n",
        "    os.mkdir('split_data/valid_test')\n",
        "    os.mkdir('split_data/valid')\n",
        "    os.mkdir('split_data/test')\n",
        "\n",
        "    os.mkdir('split_data/train/COVID')\n",
        "    os.mkdir('split_data/train/NORMAL')\n",
        "    os.mkdir('split_data/train/PNEUMONIA')\n",
        "\n",
        "    os.mkdir('split_data/valid_test/COVID')\n",
        "    os.mkdir('split_data/valid_test/NORMAL')\n",
        "    os.mkdir('split_data/valid_test/PNEUMONIA')\n",
        "\n",
        "    os.mkdir('split_data/valid/COVID')\n",
        "    os.mkdir('split_data/valid/NORMAL')\n",
        "    os.mkdir('split_data/valid/PNEUMONIA')\n",
        "\n",
        "    os.mkdir('split_data/test/COVID')\n",
        "    os.mkdir('split_data/test/NORMAL')\n",
        "    os.mkdir('split_data/test/PNEUMONIA')\n",
        "    print('created directories')\n",
        "except OSError as e:\n",
        "    print('OS error occurred', e)"
      ],
      "execution_count": null,
      "outputs": [
        {
          "output_type": "stream",
          "text": [
            "created directories\n"
          ],
          "name": "stdout"
        }
      ]
    },
    {
      "cell_type": "code",
      "metadata": {
        "id": "7yuMNj3wzmhW"
      },
      "source": [
        "def split_data(source, training, testing, split_ratio):\n",
        "  threshold = len(os.listdir(source)) * split_ratio\n",
        "  flag = 0\n",
        "  for i in random.sample(os.listdir(source), len(os.listdir(source))):\n",
        "    flag += 1\n",
        "    if flag <= threshold:\n",
        "      if os.path.getsize(source + i) > 0:\n",
        "        shutil.copyfile(source + i, training + i)\n",
        "      else:\n",
        "        print(source + i + \" is zero length, so ignoring\")\n",
        "    else:\n",
        "      if os.path.getsize(source + i) > 0:\n",
        "        shutil.copyfile(source + i, testing + i)\n",
        "      else:\n",
        "        print(source + i + \" is zero length, so ignoring\")"
      ],
      "execution_count": null,
      "outputs": []
    },
    {
      "cell_type": "code",
      "metadata": {
        "id": "34mgbtJ20G7D"
      },
      "source": [
        "COVID_SOURCE_DIR = 'covid_normal_pneumonia/COVID/'\n",
        "NORMAL_SOURCE_DIR = 'covid_normal_pneumonia/NORMAL/'\n",
        "PNEUMONIA_SOURCE_DIR = 'covid_normal_pneumonia/PNEUMONIA/'\n",
        "\n",
        "TRAINING_COVID_DIR = 'split_data/train/COVID/'\n",
        "VALID_TEST_COVID_DIR = 'split_data/valid_test/COVID/'\n",
        "VALIDATING_COVID_DIR = 'split_data/valid/COVID/'\n",
        "TESTING_COVID_DIR = 'split_data/test/COVID/'\n",
        "\n",
        "TRAINING_NORMAL_DIR = 'split_data/train/NORMAL/'\n",
        "VALID_TEST_NORMAL_DIR = 'split_data/valid_test/NORMAL/'\n",
        "VALIDATING_NORMAL_DIR = 'split_data/valid/NORMAL/'\n",
        "TESTING_NORMAL_DIR = 'split_data/test/NORMAL/'\n",
        "\n",
        "TRAINING_PNEUMONIA_DIR = 'split_data/train/PNEUMONIA/'\n",
        "VALID_TEST_PNEUMONIA_DIR = 'split_data/valid_test/PNEUMONIA/'\n",
        "VALIDATING_PNEUMONIA_DIR = 'split_data/valid/PNEUMONIA/'\n",
        "TESTING_PNEUMONIA_DIR = 'split_data/test/PNEUMONIA/'"
      ],
      "execution_count": null,
      "outputs": []
    },
    {
      "cell_type": "code",
      "metadata": {
        "id": "KWElpnl80G4i"
      },
      "source": [
        "split_data(COVID_SOURCE_DIR, TRAINING_COVID_DIR, VALID_TEST_COVID_DIR, 0.729)\n",
        "split_data(VALID_TEST_COVID_DIR, VALIDATING_COVID_DIR, TESTING_COVID_DIR, 0.5)"
      ],
      "execution_count": null,
      "outputs": []
    },
    {
      "cell_type": "code",
      "metadata": {
        "colab": {
          "base_uri": "https://localhost:8080/"
        },
        "id": "qDL4S89y0G2y",
        "outputId": "2250d52a-d3f1-4ec2-f977-882610725ca7"
      },
      "source": [
        "tr_c = len(os.listdir(TRAINING_COVID_DIR))\n",
        "vl_c = len(os.listdir(VALIDATING_COVID_DIR))\n",
        "tst_c = len(os.listdir(TESTING_COVID_DIR))\n",
        "print('covid_train count : {} | covid_valid count : {} | covid_test count : {}'.format( str(tr_c),str(vl_c),str(tst_c)) )"
      ],
      "execution_count": null,
      "outputs": [
        {
          "output_type": "stream",
          "text": [
            "covid_train count : 2703 | covid_valid count : 503 | covid_test count : 503\n"
          ],
          "name": "stdout"
        }
      ]
    },
    {
      "cell_type": "code",
      "metadata": {
        "id": "ZBWX53hx0G0d"
      },
      "source": [
        "split_data(NORMAL_SOURCE_DIR, TRAINING_NORMAL_DIR, VALID_TEST_NORMAL_DIR, 0.729)\n",
        "split_data(VALID_TEST_NORMAL_DIR, VALIDATING_NORMAL_DIR, TESTING_NORMAL_DIR, 0.5)"
      ],
      "execution_count": null,
      "outputs": []
    },
    {
      "cell_type": "code",
      "metadata": {
        "colab": {
          "base_uri": "https://localhost:8080/"
        },
        "id": "lk7H4G9B3uFo",
        "outputId": "36208c81-1435-4603-fa94-ce651760716c"
      },
      "source": [
        "tr_n = len(os.listdir(TRAINING_NORMAL_DIR))\n",
        "vl_n = len(os.listdir(VALIDATING_NORMAL_DIR))\n",
        "tst_n = len(os.listdir(TESTING_NORMAL_DIR))\n",
        "print('normal_train count : {} | normal_valid count : {} | normal_test count : {}'.format( str(tr_n),str(vl_n),str(tst_n)) )"
      ],
      "execution_count": null,
      "outputs": [
        {
          "output_type": "stream",
          "text": [
            "normal_train count : 2697 | normal_valid count : 501 | normal_test count : 502\n"
          ],
          "name": "stdout"
        }
      ]
    },
    {
      "cell_type": "code",
      "metadata": {
        "id": "StIQ2L1Z3EaX"
      },
      "source": [
        "split_data(PNEUMONIA_SOURCE_DIR, TRAINING_PNEUMONIA_DIR, VALID_TEST_PNEUMONIA_DIR, 0.729)\n",
        "split_data(VALID_TEST_PNEUMONIA_DIR, VALIDATING_PNEUMONIA_DIR, TESTING_PNEUMONIA_DIR, 0.5)"
      ],
      "execution_count": null,
      "outputs": []
    },
    {
      "cell_type": "code",
      "metadata": {
        "colab": {
          "base_uri": "https://localhost:8080/"
        },
        "id": "8krPm1oo37Np",
        "outputId": "a09d58a9-f324-427e-9e3c-703e9c956b43"
      },
      "source": [
        "tr_p = len(os.listdir(TRAINING_PNEUMONIA_DIR))\n",
        "vl_p = len(os.listdir(VALIDATING_PNEUMONIA_DIR))\n",
        "tst_p = len(os.listdir(TESTING_PNEUMONIA_DIR))\n",
        "print('pneumonia_train count : {} | pneumonia_valid count : {} | pneumonia_test count : {}'.format( str(tr_p),str(vl_p),str(tst_p)) )"
      ],
      "execution_count": null,
      "outputs": [
        {
          "output_type": "stream",
          "text": [
            "pneumonia_train count : 2697 | pneumonia_valid count : 501 | pneumonia_test count : 502\n"
          ],
          "name": "stdout"
        }
      ]
    },
    {
      "cell_type": "code",
      "metadata": {
        "colab": {
          "base_uri": "https://localhost:8080/"
        },
        "id": "AExseRUADkUf",
        "outputId": "af4f67cc-313a-4c71-d7b6-f8e0865c5917"
      },
      "source": [
        "TRAINING_DIR = 'split_data/train/'\n",
        "train_datagen = tf.keras.preprocessing.image.ImageDataGenerator(rescale=1 / 255.0)\n",
        "train_generator = train_datagen.flow_from_directory(TRAINING_DIR,\n",
        "                                                    target_size=(224, 224),\n",
        "                                                    class_mode='categorical',\n",
        "                                                    shuffle=True,\n",
        "                                                    batch_size=16)\n",
        "\n",
        "VALIDATING_DIR = 'split_data/valid/'\n",
        "valid_datagen = tf.keras.preprocessing.image.ImageDataGenerator(rescale=1 / 255.0)\n",
        "valid_generator = valid_datagen.flow_from_directory(VALIDATING_DIR,\n",
        "                                                    target_size=(224, 224),\n",
        "                                                    class_mode='categorical',\n",
        "                                                    shuffle=False,\n",
        "                                                    batch_size=16)"
      ],
      "execution_count": null,
      "outputs": [
        {
          "output_type": "stream",
          "text": [
            "Found 8097 images belonging to 3 classes.\n",
            "Found 1505 images belonging to 3 classes.\n"
          ],
          "name": "stdout"
        }
      ]
    },
    {
      "cell_type": "code",
      "metadata": {
        "id": "WmVFsj7lJB_t"
      },
      "source": [
        "cae_model = tf.keras.models.load_model('pretrain_cae/cae.h5')"
      ],
      "execution_count": null,
      "outputs": []
    },
    {
      "cell_type": "code",
      "metadata": {
        "id": "5_p6Him844fq"
      },
      "source": [
        "for layer in cae_model.layers[0].layers:\n",
        "  layer.trainable = False"
      ],
      "execution_count": null,
      "outputs": []
    },
    {
      "cell_type": "code",
      "metadata": {
        "colab": {
          "base_uri": "https://localhost:8080/"
        },
        "id": "8FbNwUrH_sLL",
        "outputId": "9df3dfd1-369b-44b6-82fe-93bb4f8d556b"
      },
      "source": [
        "for batch, label in train_generator:\n",
        "  print(batch.shape)\n",
        "   # values should be in `[0,1]`.\n",
        "  print(np.min(batch[0]), np.max(batch[0]))\n",
        "  break\n"
      ],
      "execution_count": null,
      "outputs": [
        {
          "output_type": "stream",
          "text": [
            "(16, 224, 224, 3)\n",
            "0.0 1.0\n"
          ],
          "name": "stdout"
        }
      ]
    },
    {
      "cell_type": "code",
      "metadata": {
        "id": "ynAEb6au48An"
      },
      "source": [
        "enc_out = cae_model.layers[0].output"
      ],
      "execution_count": null,
      "outputs": []
    },
    {
      "cell_type": "code",
      "metadata": {
        "id": "ZKXspdhp4938"
      },
      "source": [
        "y = tf.keras.layers.Flatten()(enc_out)\n",
        "y = tf.keras.layers.Dense(1024, activation='relu')(y)\n",
        "y = tf.keras.layers.Dropout(0.2)(y)\n",
        "y = tf.keras.layers.Dense(512, activation='relu')(y)\n",
        "y = tf.keras.layers.Dropout(0.2)(y)\n",
        "y = tf.keras.layers.Dense(256, activation='relu')(y)\n",
        "y = tf.keras.layers.Dropout(0.1)(y)\n",
        "y = tf.keras.layers.Dense(64, activation='relu')(y)\n",
        "y = tf.keras.layers.Dense(3, activation='softmax')(y)"
      ],
      "execution_count": null,
      "outputs": []
    },
    {
      "cell_type": "code",
      "metadata": {
        "id": "FM2kzTnC5DF8"
      },
      "source": [
        "classification = tf.keras.Model(cae_model.layers[0].input, y)"
      ],
      "execution_count": null,
      "outputs": []
    },
    {
      "cell_type": "code",
      "metadata": {
        "colab": {
          "base_uri": "https://localhost:8080/"
        },
        "id": "Q0bVhvOU5N5t",
        "outputId": "b7ef096c-34d6-45d9-8b81-7ad9733a9a1e"
      },
      "source": [
        "classification.summary()"
      ],
      "execution_count": null,
      "outputs": [
        {
          "output_type": "stream",
          "text": [
            "Model: \"model\"\n",
            "_________________________________________________________________\n",
            "Layer (type)                 Output Shape              Param #   \n",
            "=================================================================\n",
            "input_1 (InputLayer)         [(None, 224, 224, 3)]     0         \n",
            "_________________________________________________________________\n",
            "conv2d (Conv2D)              (None, 224, 224, 64)      1792      \n",
            "_________________________________________________________________\n",
            "conv2d_1 (Conv2D)            (None, 224, 224, 64)      36928     \n",
            "_________________________________________________________________\n",
            "max_pooling2d (MaxPooling2D) (None, 112, 112, 64)      0         \n",
            "_________________________________________________________________\n",
            "conv2d_2 (Conv2D)            (None, 112, 112, 128)     73856     \n",
            "_________________________________________________________________\n",
            "max_pooling2d_1 (MaxPooling2 (None, 56, 56, 128)       0         \n",
            "_________________________________________________________________\n",
            "conv2d_3 (Conv2D)            (None, 56, 56, 256)       295168    \n",
            "_________________________________________________________________\n",
            "max_pooling2d_2 (MaxPooling2 (None, 28, 28, 256)       0         \n",
            "_________________________________________________________________\n",
            "conv2d_4 (Conv2D)            (None, 28, 28, 512)       1180160   \n",
            "_________________________________________________________________\n",
            "max_pooling2d_3 (MaxPooling2 (None, 14, 14, 512)       0         \n",
            "_________________________________________________________________\n",
            "conv2d_5 (Conv2D)            (None, 14, 14, 512)       2359808   \n",
            "_________________________________________________________________\n",
            "max_pooling2d_4 (MaxPooling2 (None, 7, 7, 512)         0         \n",
            "_________________________________________________________________\n",
            "flatten (Flatten)            (None, 25088)             0         \n",
            "_________________________________________________________________\n",
            "dense (Dense)                (None, 1024)              25691136  \n",
            "_________________________________________________________________\n",
            "dropout (Dropout)            (None, 1024)              0         \n",
            "_________________________________________________________________\n",
            "dense_1 (Dense)              (None, 512)               524800    \n",
            "_________________________________________________________________\n",
            "dropout_1 (Dropout)          (None, 512)               0         \n",
            "_________________________________________________________________\n",
            "dense_2 (Dense)              (None, 256)               131328    \n",
            "_________________________________________________________________\n",
            "dropout_2 (Dropout)          (None, 256)               0         \n",
            "_________________________________________________________________\n",
            "dense_3 (Dense)              (None, 64)                16448     \n",
            "_________________________________________________________________\n",
            "dense_4 (Dense)              (None, 3)                 195       \n",
            "=================================================================\n",
            "Total params: 30,311,619\n",
            "Trainable params: 26,363,907\n",
            "Non-trainable params: 3,947,712\n",
            "_________________________________________________________________\n"
          ],
          "name": "stdout"
        }
      ]
    },
    {
      "cell_type": "code",
      "metadata": {
        "id": "vHAduELH5OrA"
      },
      "source": [
        "classification.compile(optimizer='adam', loss='categorical_crossentropy', metrics=['accuracy'])"
      ],
      "execution_count": null,
      "outputs": []
    },
    {
      "cell_type": "code",
      "metadata": {
        "id": "10R1ALmY5OoQ"
      },
      "source": [
        "early_stopping_cb = tf.keras.callbacks.EarlyStopping(monitor='val_loss', patience=5, mode='auto')"
      ],
      "execution_count": null,
      "outputs": []
    },
    {
      "cell_type": "code",
      "metadata": {
        "id": "BiP5smLC5Omi"
      },
      "source": [
        "checkpoint_cb = tf.keras.callbacks.ModelCheckpoint('covid_classification.h5', save_best_only=True)"
      ],
      "execution_count": null,
      "outputs": []
    },
    {
      "cell_type": "code",
      "metadata": {
        "id": "rJATMZrpaQBb"
      },
      "source": [
        "epochs = 20"
      ],
      "execution_count": null,
      "outputs": []
    },
    {
      "cell_type": "code",
      "metadata": {
        "colab": {
          "base_uri": "https://localhost:8080/"
        },
        "id": "xpDd0gYs5Ojd",
        "outputId": "347dcf38-9e65-4234-c000-706a8e400bb2"
      },
      "source": [
        "history = classification.fit(train_generator,\n",
        "                             epochs=epochs,\n",
        "                             validation_data=valid_generator,\n",
        "                             callbacks=[early_stopping_cb, checkpoint_cb])"
      ],
      "execution_count": null,
      "outputs": [
        {
          "output_type": "stream",
          "text": [
            "Epoch 1/20\n",
            "507/507 [==============================] - 78s 91ms/step - loss: 0.4337 - accuracy: 0.8140 - val_loss: 0.2087 - val_accuracy: 0.9143\n",
            "Epoch 2/20\n",
            "507/507 [==============================] - 48s 95ms/step - loss: 0.2507 - accuracy: 0.8993 - val_loss: 0.1631 - val_accuracy: 0.9375\n",
            "Epoch 3/20\n",
            "507/507 [==============================] - 47s 93ms/step - loss: 0.1969 - accuracy: 0.9278 - val_loss: 0.2781 - val_accuracy: 0.8970\n",
            "Epoch 4/20\n",
            "507/507 [==============================] - 46s 91ms/step - loss: 0.1661 - accuracy: 0.9384 - val_loss: 0.1849 - val_accuracy: 0.9269\n",
            "Epoch 5/20\n",
            "507/507 [==============================] - 47s 93ms/step - loss: 0.1445 - accuracy: 0.9469 - val_loss: 0.1033 - val_accuracy: 0.9555\n",
            "Epoch 6/20\n",
            "507/507 [==============================] - 48s 94ms/step - loss: 0.1360 - accuracy: 0.9478 - val_loss: 0.1073 - val_accuracy: 0.9502\n",
            "Epoch 7/20\n",
            "507/507 [==============================] - 46s 92ms/step - loss: 0.1096 - accuracy: 0.9629 - val_loss: 0.2205 - val_accuracy: 0.9156\n",
            "Epoch 8/20\n",
            "507/507 [==============================] - 48s 95ms/step - loss: 0.1015 - accuracy: 0.9647 - val_loss: 0.0935 - val_accuracy: 0.9621\n",
            "Epoch 9/20\n",
            "507/507 [==============================] - 47s 93ms/step - loss: 0.0844 - accuracy: 0.9692 - val_loss: 0.1087 - val_accuracy: 0.9575\n",
            "Epoch 10/20\n",
            "507/507 [==============================] - 48s 95ms/step - loss: 0.0990 - accuracy: 0.9663 - val_loss: 0.1911 - val_accuracy: 0.9329\n",
            "Epoch 11/20\n",
            "507/507 [==============================] - 48s 94ms/step - loss: 0.0963 - accuracy: 0.9662 - val_loss: 0.0915 - val_accuracy: 0.9674\n",
            "Epoch 12/20\n",
            "507/507 [==============================] - 48s 94ms/step - loss: 0.0799 - accuracy: 0.9730 - val_loss: 0.1131 - val_accuracy: 0.9648\n",
            "Epoch 13/20\n",
            "507/507 [==============================] - 46s 90ms/step - loss: 0.0793 - accuracy: 0.9727 - val_loss: 0.1073 - val_accuracy: 0.9581\n",
            "Epoch 14/20\n",
            "507/507 [==============================] - 46s 90ms/step - loss: 0.0832 - accuracy: 0.9705 - val_loss: 0.0941 - val_accuracy: 0.9721\n",
            "Epoch 15/20\n",
            "507/507 [==============================] - 47s 93ms/step - loss: 0.0829 - accuracy: 0.9705 - val_loss: 0.1270 - val_accuracy: 0.9555\n",
            "Epoch 16/20\n",
            "507/507 [==============================] - 46s 91ms/step - loss: 0.0739 - accuracy: 0.9713 - val_loss: 0.1316 - val_accuracy: 0.9528\n"
          ],
          "name": "stdout"
        }
      ]
    },
    {
      "cell_type": "code",
      "metadata": {
        "id": "h77O_EreJsTJ",
        "colab": {
          "base_uri": "https://localhost:8080/"
        },
        "outputId": "67e3f571-f3d7-45fa-8775-658045f61d7d"
      },
      "source": [
        "history.history"
      ],
      "execution_count": null,
      "outputs": [
        {
          "output_type": "execute_result",
          "data": {
            "text/plain": [
              "{'accuracy': [0.8140051960945129,\n",
              "  0.8993454575538635,\n",
              "  0.9277510046958923,\n",
              "  0.9383722543716431,\n",
              "  0.9468939304351807,\n",
              "  0.9477584362030029,\n",
              "  0.9629492163658142,\n",
              "  0.9646782875061035,\n",
              "  0.9692478775978088,\n",
              "  0.9662837982177734,\n",
              "  0.9661602973937988,\n",
              "  0.9729529619216919,\n",
              "  0.9727059602737427,\n",
              "  0.9704828858375549,\n",
              "  0.9704828858375549,\n",
              "  0.9713473916053772],\n",
              " 'loss': [0.4337209165096283,\n",
              "  0.2506760060787201,\n",
              "  0.19689522683620453,\n",
              "  0.16606128215789795,\n",
              "  0.1444944590330124,\n",
              "  0.13601376116275787,\n",
              "  0.10964460670948029,\n",
              "  0.1014946848154068,\n",
              "  0.08442975580692291,\n",
              "  0.09902389347553253,\n",
              "  0.096335269510746,\n",
              "  0.07994630932807922,\n",
              "  0.07932565361261368,\n",
              "  0.083243228495121,\n",
              "  0.08292490243911743,\n",
              "  0.07387126982212067],\n",
              " 'val_accuracy': [0.9142857193946838,\n",
              "  0.9375415444374084,\n",
              "  0.8970099687576294,\n",
              "  0.9269102811813354,\n",
              "  0.9554817080497742,\n",
              "  0.9501661062240601,\n",
              "  0.9156146049499512,\n",
              "  0.9621262550354004,\n",
              "  0.9574750661849976,\n",
              "  0.9328903555870056,\n",
              "  0.9674418568611145,\n",
              "  0.9647840261459351,\n",
              "  0.9581395387649536,\n",
              "  0.9720930457115173,\n",
              "  0.9554817080497742,\n",
              "  0.9528239369392395],\n",
              " 'val_loss': [0.20874008536338806,\n",
              "  0.1630871295928955,\n",
              "  0.27810123562812805,\n",
              "  0.18494237959384918,\n",
              "  0.10331262648105621,\n",
              "  0.10731607675552368,\n",
              "  0.2205055207014084,\n",
              "  0.09353170543909073,\n",
              "  0.10872291028499603,\n",
              "  0.19106297194957733,\n",
              "  0.09149181097745895,\n",
              "  0.11306066066026688,\n",
              "  0.10734504461288452,\n",
              "  0.09408547729253769,\n",
              "  0.12703709304332733,\n",
              "  0.13163010776042938]}"
            ]
          },
          "metadata": {
            "tags": []
          },
          "execution_count": 35
        }
      ]
    },
    {
      "cell_type": "code",
      "metadata": {
        "id": "Zrs1bMDdIN-U",
        "colab": {
          "base_uri": "https://localhost:8080/",
          "height": 499
        },
        "outputId": "f0b75fe3-8fd6-4f1b-fd0c-d6022539a3ad"
      },
      "source": [
        "acc = history.history['accuracy']\n",
        "val_acc = history.history['val_accuracy']\n",
        "\n",
        "loss = history.history['loss']\n",
        "val_loss = history.history['val_loss']\n",
        "\n",
        "epochs_range = range(len(acc))\n",
        "\n",
        "plt.figure(figsize=(8, 8))\n",
        "# plt.subplot(1, 2, 1)\n",
        "plt.plot(epochs_range, acc, label='Training')\n",
        "plt.plot(epochs_range, val_acc, label='Validation')\n",
        "plt.legend(loc='best')\n",
        "plt.xlabel('Number of epochs')\n",
        "plt.ylabel('Accuracy')\n",
        "plt.savefig('accuracy.png', dpi=300)\n",
        "plt.show()\n",
        "\n",
        "# plt.subplot(1, 2, 2)"
      ],
      "execution_count": null,
      "outputs": [
        {
          "output_type": "display_data",
          "data": {
            "image/png": "[encoded data removed]",
            "text/plain": [
              "<Figure size 576x576 with 1 Axes>"
            ]
          },
          "metadata": {
            "tags": [],
            "needs_background": "light"
          }
        }
      ]
    },
    {
      "cell_type": "code",
      "metadata": {
        "id": "vvkQDH0SZVA_",
        "colab": {
          "base_uri": "https://localhost:8080/",
          "height": 499
        },
        "outputId": "ea1f6e1b-7539-41f8-fe23-b10d262d99c7"
      },
      "source": [
        "plt.figure(figsize=(8, 8))\n",
        "plt.plot(epochs_range, loss, label='Training')\n",
        "plt.plot(epochs_range, val_loss, label='Validation')\n",
        "plt.legend(loc='best')\n",
        "plt.xlabel('Number of epochs')\n",
        "plt.ylabel('Loss')\n",
        "plt.savefig('loss.png', dpi=300)\n",
        "plt.show()"
      ],
      "execution_count": null,
      "outputs": [
        {
          "output_type": "display_data",
          "data": {
            "image/png": "[encoded data removed]",
            "text/plain": [
              "<Figure size 576x576 with 1 Axes>"
            ]
          },
          "metadata": {
            "tags": [],
            "needs_background": "light"
          }
        }
      ]
    },
    {
      "cell_type": "code",
      "metadata": {
        "id": "OzFahzRqg4zy"
      },
      "source": [
        "classification = tf.keras.models.load_model('covid_classification.h5')  ## load best model"
      ],
      "execution_count": null,
      "outputs": []
    },
    {
      "cell_type": "code",
      "metadata": {
        "colab": {
          "base_uri": "https://localhost:8080/"
        },
        "id": "K3qvt3fyKH4h",
        "outputId": "59a796ea-ac7d-4dec-8f1c-4a58a88f735c"
      },
      "source": [
        "for ix, ly in enumerate(classification.layers):\n",
        "  print(ix, ly, ly.trainable)"
      ],
      "execution_count": null,
      "outputs": [
        {
          "output_type": "stream",
          "text": [
            "0 <tensorflow.python.keras.engine.input_layer.InputLayer object at 0x7f98b00c2490> True\n",
            "1 <tensorflow.python.keras.layers.convolutional.Conv2D object at 0x7f98b00c2710> False\n",
            "2 <tensorflow.python.keras.layers.convolutional.Conv2D object at 0x7f98b00c2b50> False\n",
            "3 <tensorflow.python.keras.layers.pooling.MaxPooling2D object at 0x7f98b00c2890> False\n",
            "4 <tensorflow.python.keras.layers.convolutional.Conv2D object at 0x7f98b0063390> False\n",
            "5 <tensorflow.python.keras.layers.pooling.MaxPooling2D object at 0x7f98b0063810> False\n",
            "6 <tensorflow.python.keras.layers.convolutional.Conv2D object at 0x7f98b00ba890> False\n",
            "7 <tensorflow.python.keras.layers.pooling.MaxPooling2D object at 0x7f98b0065250> False\n",
            "8 <tensorflow.python.keras.layers.convolutional.Conv2D object at 0x7f98b0065810> False\n",
            "9 <tensorflow.python.keras.layers.pooling.MaxPooling2D object at 0x7f98df87cb10> False\n",
            "10 <tensorflow.python.keras.layers.convolutional.Conv2D object at 0x7f98b0c4f210> False\n",
            "11 <tensorflow.python.keras.layers.pooling.MaxPooling2D object at 0x7f98df94d850> False\n",
            "12 <tensorflow.python.keras.layers.core.Flatten object at 0x7f98b1606990> True\n",
            "13 <tensorflow.python.keras.layers.core.Dense object at 0x7f98b0c5afd0> True\n",
            "14 <tensorflow.python.keras.layers.core.Dropout object at 0x7f98b0b6a910> True\n",
            "15 <tensorflow.python.keras.layers.core.Dense object at 0x7f98b162af10> True\n",
            "16 <tensorflow.python.keras.layers.core.Dropout object at 0x7f98b0b8f190> True\n",
            "17 <tensorflow.python.keras.layers.core.Dense object at 0x7f98b0b8fa50> True\n",
            "18 <tensorflow.python.keras.layers.core.Dropout object at 0x7f98b0b8ff90> True\n",
            "19 <tensorflow.python.keras.layers.core.Dense object at 0x7f98b0b8fc50> True\n",
            "20 <tensorflow.python.keras.layers.core.Dense object at 0x7f98b0c6f890> True\n"
          ],
          "name": "stdout"
        }
      ]
    },
    {
      "cell_type": "code",
      "metadata": {
        "id": "y72nkxlxKNJo"
      },
      "source": [
        "classification.layers[10].trainable = True\n",
        "classification.layers[11].trainable = True"
      ],
      "execution_count": null,
      "outputs": []
    },
    {
      "cell_type": "code",
      "metadata": {
        "colab": {
          "base_uri": "https://localhost:8080/"
        },
        "id": "O4D4AkHahHOU",
        "outputId": "275e757d-f053-407f-aed7-bb90766ab7c9"
      },
      "source": [
        "history_unfreeze_l2 = classification.fit(train_generator,\n",
        "                              epochs=epochs,\n",
        "                              validation_data=valid_generator,\n",
        "                              callbacks=[early_stopping_cb, checkpoint_cb])"
      ],
      "execution_count": null,
      "outputs": [
        {
          "output_type": "stream",
          "text": [
            "Epoch 1/20\n",
            "507/507 [==============================] - 48s 94ms/step - loss: 0.0693 - accuracy: 0.9738 - val_loss: 0.0887 - val_accuracy: 0.9654\n",
            "Epoch 2/20\n",
            "507/507 [==============================] - 46s 90ms/step - loss: 0.0791 - accuracy: 0.9734 - val_loss: 0.1002 - val_accuracy: 0.9595\n",
            "Epoch 3/20\n",
            "507/507 [==============================] - 46s 91ms/step - loss: 0.0815 - accuracy: 0.9744 - val_loss: 0.1128 - val_accuracy: 0.9595\n",
            "Epoch 4/20\n",
            "507/507 [==============================] - 47s 92ms/step - loss: 0.0747 - accuracy: 0.9742 - val_loss: 0.0937 - val_accuracy: 0.9654\n",
            "Epoch 5/20\n",
            "507/507 [==============================] - 47s 92ms/step - loss: 0.0627 - accuracy: 0.9796 - val_loss: 0.1288 - val_accuracy: 0.9601\n",
            "Epoch 6/20\n",
            "507/507 [==============================] - 46s 91ms/step - loss: 0.0585 - accuracy: 0.9795 - val_loss: 0.0828 - val_accuracy: 0.9701\n",
            "Epoch 7/20\n",
            "507/507 [==============================] - 46s 91ms/step - loss: 0.0849 - accuracy: 0.9707 - val_loss: 0.1181 - val_accuracy: 0.9588\n",
            "Epoch 8/20\n",
            "507/507 [==============================] - 45s 90ms/step - loss: 0.0841 - accuracy: 0.9692 - val_loss: 0.3603 - val_accuracy: 0.8910\n",
            "Epoch 9/20\n",
            "507/507 [==============================] - 45s 89ms/step - loss: 0.0656 - accuracy: 0.9758 - val_loss: 0.0936 - val_accuracy: 0.9694\n",
            "Epoch 10/20\n",
            "507/507 [==============================] - 47s 94ms/step - loss: 0.0648 - accuracy: 0.9765 - val_loss: 0.1024 - val_accuracy: 0.9628\n",
            "Epoch 11/20\n",
            "507/507 [==============================] - 47s 93ms/step - loss: 0.0711 - accuracy: 0.9755 - val_loss: 0.0790 - val_accuracy: 0.9734\n",
            "Epoch 12/20\n",
            "507/507 [==============================] - 48s 95ms/step - loss: 0.0681 - accuracy: 0.9755 - val_loss: 0.1258 - val_accuracy: 0.9601\n",
            "Epoch 13/20\n",
            "507/507 [==============================] - 47s 93ms/step - loss: 0.0642 - accuracy: 0.9785 - val_loss: 0.0968 - val_accuracy: 0.9728\n",
            "Epoch 14/20\n",
            "507/507 [==============================] - 47s 92ms/step - loss: 0.0585 - accuracy: 0.9799 - val_loss: 0.1484 - val_accuracy: 0.9628\n",
            "Epoch 15/20\n",
            "507/507 [==============================] - 47s 92ms/step - loss: 0.0609 - accuracy: 0.9814 - val_loss: 0.0910 - val_accuracy: 0.9708\n",
            "Epoch 16/20\n",
            "507/507 [==============================] - 47s 94ms/step - loss: 0.0511 - accuracy: 0.9828 - val_loss: 0.0875 - val_accuracy: 0.9734\n"
          ],
          "name": "stdout"
        }
      ]
    },
    {
      "cell_type": "code",
      "metadata": {
        "colab": {
          "base_uri": "https://localhost:8080/"
        },
        "id": "bALcJ9x3hOyp",
        "outputId": "deb8da62-1c46-4f66-adc3-1434deb58878"
      },
      "source": [
        "history_unfreeze_l2.history"
      ],
      "execution_count": null,
      "outputs": [
        {
          "output_type": "execute_result",
          "data": {
            "text/plain": [
              "{'accuracy': [0.9738174676895142,\n",
              "  0.9734469652175903,\n",
              "  0.9744349718093872,\n",
              "  0.974187970161438,\n",
              "  0.9796220660209656,\n",
              "  0.979498565196991,\n",
              "  0.9707298874855042,\n",
              "  0.9692478775978088,\n",
              "  0.9757934808731079,\n",
              "  0.9765345454216003,\n",
              "  0.9755464792251587,\n",
              "  0.9755464792251587,\n",
              "  0.9785105586051941,\n",
              "  0.9798690676689148,\n",
              "  0.9813511371612549,\n",
              "  0.9828331470489502],\n",
              " 'loss': [0.06932942569255829,\n",
              "  0.07912036031484604,\n",
              "  0.08151908218860626,\n",
              "  0.07472348213195801,\n",
              "  0.06272782385349274,\n",
              "  0.058502912521362305,\n",
              "  0.08493684977293015,\n",
              "  0.08411633968353271,\n",
              "  0.06559328734874725,\n",
              "  0.06479410827159882,\n",
              "  0.07108143717050552,\n",
              "  0.06808724999427795,\n",
              "  0.06416774541139603,\n",
              "  0.058543670922517776,\n",
              "  0.06085885316133499,\n",
              "  0.051102470606565475],\n",
              " 'val_accuracy': [0.9654484987258911,\n",
              "  0.959468424320221,\n",
              "  0.959468424320221,\n",
              "  0.9654484987258911,\n",
              "  0.960132896900177,\n",
              "  0.970099687576294,\n",
              "  0.9588040113449097,\n",
              "  0.8910298943519592,\n",
              "  0.9694352149963379,\n",
              "  0.9627906680107117,\n",
              "  0.9734219312667847,\n",
              "  0.960132896900177,\n",
              "  0.9727574586868286,\n",
              "  0.9627906680107117,\n",
              "  0.9707641005516052,\n",
              "  0.9734219312667847],\n",
              " 'val_loss': [0.08870195597410202,\n",
              "  0.10020504891872406,\n",
              "  0.1127876341342926,\n",
              "  0.09372301399707794,\n",
              "  0.12877169251441956,\n",
              "  0.08278503268957138,\n",
              "  0.11807607859373093,\n",
              "  0.36027130484580994,\n",
              "  0.09360137581825256,\n",
              "  0.10235045105218887,\n",
              "  0.07902029156684875,\n",
              "  0.12580634653568268,\n",
              "  0.09680422395467758,\n",
              "  0.14843247830867767,\n",
              "  0.09100130945444107,\n",
              "  0.08747971057891846]}"
            ]
          },
          "metadata": {
            "tags": []
          },
          "execution_count": 43
        }
      ]
    },
    {
      "cell_type": "code",
      "metadata": {
        "colab": {
          "base_uri": "https://localhost:8080/",
          "height": 497
        },
        "id": "rk1bbn8zhj3c",
        "outputId": "0cd5bf55-c428-474f-8a87-59083eab13a6"
      },
      "source": [
        "acc = history_unfreeze_l2.history['accuracy']\n",
        "val_acc = history_unfreeze_l2.history['val_accuracy']\n",
        "\n",
        "loss = history_unfreeze_l2.history['loss']\n",
        "val_loss = history_unfreeze_l2.history['val_loss']\n",
        "\n",
        "epochs_range = range(len(acc))\n",
        "\n",
        "plt.figure(figsize=(8, 8))\n",
        "# plt.subplot(1, 2, 1)\n",
        "plt.plot(epochs_range, acc, label='Training')\n",
        "plt.plot(epochs_range, val_acc, label='Validation')\n",
        "plt.legend(loc='best')\n",
        "plt.xlabel('Number of epochs')\n",
        "plt.ylabel('Accuracy')\n",
        "plt.savefig('accuracy_unfreeze_l2.png', dpi=300)\n",
        "plt.show()\n",
        "\n",
        "# plt.subplot(1, 2, 2)"
      ],
      "execution_count": null,
      "outputs": [
        {
          "output_type": "display_data",
          "data": {
            "image/png": "[encoded data removed]",
            "text/plain": [
              "<Figure size 576x576 with 1 Axes>"
            ]
          },
          "metadata": {
            "tags": [],
            "needs_background": "light"
          }
        }
      ]
    },
    {
      "cell_type": "code",
      "metadata": {
        "colab": {
          "base_uri": "https://localhost:8080/",
          "height": 497
        },
        "id": "uBvmRDjahveF",
        "outputId": "b3af94b5-f101-405e-d71c-2bbe9fc2ff50"
      },
      "source": [
        "plt.figure(figsize=(8, 8))\n",
        "plt.plot(epochs_range, loss, label='Training')\n",
        "plt.plot(epochs_range, val_loss, label='Validation')\n",
        "plt.legend(loc='best')\n",
        "plt.xlabel('Number of epochs')\n",
        "plt.ylabel('Loss')\n",
        "plt.savefig('loss_unfreeze_l2.png', dpi=300)\n",
        "plt.show()"
      ],
      "execution_count": null,
      "outputs": [
        {
          "output_type": "display_data",
          "data": {
            "image/png": "[encoded data removed]",
            "text/plain": [
              "<Figure size 576x576 with 1 Axes>"
            ]
          },
          "metadata": {
            "tags": [],
            "needs_background": "light"
          }
        }
      ]
    },
    {
      "cell_type": "code",
      "metadata": {
        "id": "VROUVgIZK1dP"
      },
      "source": [
        "classification = tf.keras.models.load_model('covid_classification.h5')  ## load best model"
      ],
      "execution_count": null,
      "outputs": []
    },
    {
      "cell_type": "code",
      "metadata": {
        "id": "p4tkx561K1ay"
      },
      "source": [
        "classification.layers[6].trainable = True\n",
        "classification.layers[7].trainable = True\n",
        "classification.layers[8].trainable = True\n",
        "classification.layers[9].trainable = True"
      ],
      "execution_count": null,
      "outputs": []
    },
    {
      "cell_type": "code",
      "metadata": {
        "id": "q9gxaSPZK1YU"
      },
      "source": [
        "classification.compile(optimizer=tf.keras.optimizers.Adam(learning_rate=5e-5), loss='categorical_crossentropy', metrics=['accuracy'])"
      ],
      "execution_count": null,
      "outputs": []
    },
    {
      "cell_type": "code",
      "metadata": {
        "colab": {
          "base_uri": "https://localhost:8080/"
        },
        "id": "hwKsMZo1K1Vw",
        "outputId": "cd7a8c12-7337-40ef-859c-00d8d41fd0b0"
      },
      "source": [
        "history_unfreeze_l6 = classification.fit(train_generator,\n",
        "                              epochs=epochs,\n",
        "                              validation_data=valid_generator,\n",
        "                              callbacks=[early_stopping_cb, checkpoint_cb])"
      ],
      "execution_count": null,
      "outputs": [
        {
          "output_type": "stream",
          "text": [
            "Epoch 1/20\n",
            "507/507 [==============================] - 52s 97ms/step - loss: 0.0304 - accuracy: 0.9894 - val_loss: 0.0767 - val_accuracy: 0.9787\n",
            "Epoch 2/20\n",
            "507/507 [==============================] - 50s 99ms/step - loss: 0.0246 - accuracy: 0.9927 - val_loss: 0.0654 - val_accuracy: 0.9794\n",
            "Epoch 3/20\n",
            "507/507 [==============================] - 48s 95ms/step - loss: 0.0148 - accuracy: 0.9946 - val_loss: 0.0878 - val_accuracy: 0.9754\n",
            "Epoch 4/20\n",
            "507/507 [==============================] - 48s 94ms/step - loss: 0.0139 - accuracy: 0.9954 - val_loss: 0.0929 - val_accuracy: 0.9774\n",
            "Epoch 5/20\n",
            "507/507 [==============================] - 48s 94ms/step - loss: 0.0147 - accuracy: 0.9953 - val_loss: 0.0900 - val_accuracy: 0.9807\n",
            "Epoch 6/20\n",
            "507/507 [==============================] - 47s 92ms/step - loss: 0.0085 - accuracy: 0.9969 - val_loss: 0.0943 - val_accuracy: 0.9794\n",
            "Epoch 7/20\n",
            "507/507 [==============================] - 48s 96ms/step - loss: 0.0067 - accuracy: 0.9972 - val_loss: 0.1102 - val_accuracy: 0.9741\n"
          ],
          "name": "stdout"
        }
      ]
    },
    {
      "cell_type": "code",
      "metadata": {
        "colab": {
          "base_uri": "https://localhost:8080/"
        },
        "id": "-gE3FuBIK1Td",
        "outputId": "56ef23b6-f109-4c67-e707-5b40539f60b8"
      },
      "source": [
        "history_unfreeze_l6.history"
      ],
      "execution_count": null,
      "outputs": [
        {
          "output_type": "execute_result",
          "data": {
            "text/plain": [
              "{'accuracy': [0.989378809928894,\n",
              "  0.9927133321762085,\n",
              "  0.9945659041404724,\n",
              "  0.9954304099082947,\n",
              "  0.9953069090843201,\n",
              "  0.99691241979599,\n",
              "  0.9971594214439392],\n",
              " 'loss': [0.03041936457157135,\n",
              "  0.02461758814752102,\n",
              "  0.014790939167141914,\n",
              "  0.013877357356250286,\n",
              "  0.014662371948361397,\n",
              "  0.008463096804916859,\n",
              "  0.006744819227606058],\n",
              " 'val_accuracy': [0.9787375330924988,\n",
              "  0.9794020056724548,\n",
              "  0.9754152894020081,\n",
              "  0.9774086475372314,\n",
              "  0.9807308912277222,\n",
              "  0.9794020056724548,\n",
              "  0.9740864038467407],\n",
              " 'val_loss': [0.07672574371099472,\n",
              "  0.06535129994153976,\n",
              "  0.08778450638055801,\n",
              "  0.0929032638669014,\n",
              "  0.08998773992061615,\n",
              "  0.09429090470075607,\n",
              "  0.11019276082515717]}"
            ]
          },
          "metadata": {
            "tags": []
          },
          "execution_count": 50
        }
      ]
    },
    {
      "cell_type": "code",
      "metadata": {
        "colab": {
          "base_uri": "https://localhost:8080/",
          "height": 497
        },
        "id": "2S8CB1ptK1RK",
        "outputId": "a5b1331f-e168-468c-e207-4be86a0d6489"
      },
      "source": [
        "acc = history_unfreeze_l6.history['accuracy']\n",
        "val_acc = history_unfreeze_l6.history['val_accuracy']\n",
        "\n",
        "loss = history_unfreeze_l6.history['loss']\n",
        "val_loss = history_unfreeze_l6.history['val_loss']\n",
        "\n",
        "epochs_range = range(len(acc))\n",
        "\n",
        "plt.figure(figsize=(8, 8))\n",
        "# plt.subplot(1, 2, 1)\n",
        "plt.plot(epochs_range, acc, label='Training')\n",
        "plt.plot(epochs_range, val_acc, label='Validation')\n",
        "plt.legend(loc='best')\n",
        "plt.xlabel('Number of epochs')\n",
        "plt.ylabel('Accuracy')\n",
        "plt.savefig('accuracy_unfreeze_l6.png', dpi=300)\n",
        "plt.show()\n",
        "\n",
        "# plt.subplot(1, 2, 2)"
      ],
      "execution_count": null,
      "outputs": [
        {
          "output_type": "display_data",
          "data": {
            "image/png": "[encoded data removed]",
            "text/plain": [
              "<Figure size 576x576 with 1 Axes>"
            ]
          },
          "metadata": {
            "tags": [],
            "needs_background": "light"
          }
        }
      ]
    },
    {
      "cell_type": "code",
      "metadata": {
        "colab": {
          "base_uri": "https://localhost:8080/",
          "height": 497
        },
        "id": "P6zYvCZlK1O9",
        "outputId": "fb103dbb-612c-4fa8-a189-1b15b626964a"
      },
      "source": [
        "plt.figure(figsize=(8, 8))\n",
        "plt.plot(epochs_range, loss, label='Training')\n",
        "plt.plot(epochs_range, val_loss, label='Validation')\n",
        "plt.legend(loc='best')\n",
        "plt.xlabel('Number of epochs')\n",
        "plt.ylabel('Loss')\n",
        "plt.savefig('loss_unfreeze_l6.png', dpi=300)\n",
        "plt.show()"
      ],
      "execution_count": null,
      "outputs": [
        {
          "output_type": "display_data",
          "data": {
            "image/png": "[encoded data removed]",
            "text/plain": [
              "<Figure size 576x576 with 1 Axes>"
            ]
          },
          "metadata": {
            "tags": [],
            "needs_background": "light"
          }
        }
      ]
    },
    {
      "cell_type": "code",
      "metadata": {
        "id": "BG0NzSHnK1Mo"
      },
      "source": [
        "classification = tf.keras.models.load_model('covid_classification.h5')  ## load best model"
      ],
      "execution_count": null,
      "outputs": []
    },
    {
      "cell_type": "code",
      "metadata": {
        "id": "uhavqcX5K1Jd"
      },
      "source": [
        "for i in classification.layers:\n",
        "  i.trainable=True"
      ],
      "execution_count": null,
      "outputs": []
    },
    {
      "cell_type": "code",
      "metadata": {
        "id": "1f1LmFhJK1Gu"
      },
      "source": [
        "classification.compile(optimizer=tf.keras.optimizers.Adam(learning_rate=1e-5), loss='categorical_crossentropy', metrics=['accuracy'])"
      ],
      "execution_count": null,
      "outputs": []
    },
    {
      "cell_type": "code",
      "metadata": {
        "colab": {
          "base_uri": "https://localhost:8080/"
        },
        "id": "VCYAHBRZMVbL",
        "outputId": "d3231cd9-8184-4bac-eeef-7478473f60ce"
      },
      "source": [
        "history_unfreeze_all = classification.fit(train_generator,\n",
        "                              epochs=epochs,\n",
        "                              validation_data=valid_generator,\n",
        "                              callbacks=[early_stopping_cb, checkpoint_cb])"
      ],
      "execution_count": null,
      "outputs": [
        {
          "output_type": "stream",
          "text": [
            "Epoch 1/20\n",
            "507/507 [==============================] - 66s 127ms/step - loss: 0.0131 - accuracy: 0.9959 - val_loss: 0.0745 - val_accuracy: 0.9767\n",
            "Epoch 2/20\n",
            "507/507 [==============================] - 64s 126ms/step - loss: 0.0109 - accuracy: 0.9963 - val_loss: 0.0693 - val_accuracy: 0.9834\n",
            "Epoch 3/20\n",
            "507/507 [==============================] - 63s 125ms/step - loss: 0.0116 - accuracy: 0.9968 - val_loss: 0.0653 - val_accuracy: 0.9841\n",
            "Epoch 4/20\n",
            "507/507 [==============================] - 64s 126ms/step - loss: 0.0075 - accuracy: 0.9981 - val_loss: 0.0665 - val_accuracy: 0.9841\n",
            "Epoch 5/20\n",
            "507/507 [==============================] - 64s 126ms/step - loss: 0.0066 - accuracy: 0.9974 - val_loss: 0.0889 - val_accuracy: 0.9767\n",
            "Epoch 6/20\n",
            "507/507 [==============================] - 63s 124ms/step - loss: 0.0099 - accuracy: 0.9969 - val_loss: 0.0678 - val_accuracy: 0.9841\n",
            "Epoch 7/20\n",
            "507/507 [==============================] - 64s 126ms/step - loss: 0.0066 - accuracy: 0.9979 - val_loss: 0.0785 - val_accuracy: 0.9814\n",
            "Epoch 8/20\n",
            "507/507 [==============================] - 64s 125ms/step - loss: 0.0057 - accuracy: 0.9977 - val_loss: 0.0780 - val_accuracy: 0.9814\n"
          ],
          "name": "stdout"
        }
      ]
    },
    {
      "cell_type": "code",
      "metadata": {
        "colab": {
          "base_uri": "https://localhost:8080/"
        },
        "id": "koPb5mNaMVWQ",
        "outputId": "ab221538-2c42-4cfe-e2d1-0b508e861941"
      },
      "source": [
        "history_unfreeze_all.history"
      ],
      "execution_count": null,
      "outputs": [
        {
          "output_type": "execute_result",
          "data": {
            "text/plain": [
              "{'accuracy': [0.9959244132041931,\n",
              "  0.9962949156761169,\n",
              "  0.9967889189720154,\n",
              "  0.9981474876403809,\n",
              "  0.9974064230918884,\n",
              "  0.99691241979599,\n",
              "  0.9979004859924316,\n",
              "  0.9976534247398376],\n",
              " 'loss': [0.013146856799721718,\n",
              "  0.010901509784162045,\n",
              "  0.011630211025476456,\n",
              "  0.00754881976172328,\n",
              "  0.006649756338447332,\n",
              "  0.009923138655722141,\n",
              "  0.006562180817127228,\n",
              "  0.005671516992151737],\n",
              " 'val_accuracy': [0.9767441749572754,\n",
              "  0.9833887219429016,\n",
              "  0.9840531349182129,\n",
              "  0.9840531349182129,\n",
              "  0.9767441749572754,\n",
              "  0.9840531349182129,\n",
              "  0.9813953638076782,\n",
              "  0.9813953638076782],\n",
              " 'val_loss': [0.0744711235165596,\n",
              "  0.06932404637336731,\n",
              "  0.06528215110301971,\n",
              "  0.06645728647708893,\n",
              "  0.08891937136650085,\n",
              "  0.06780695170164108,\n",
              "  0.07852806150913239,\n",
              "  0.07803381979465485]}"
            ]
          },
          "metadata": {
            "tags": []
          },
          "execution_count": 57
        }
      ]
    },
    {
      "cell_type": "code",
      "metadata": {
        "colab": {
          "base_uri": "https://localhost:8080/",
          "height": 497
        },
        "id": "ZcE36N_qMh3l",
        "outputId": "5fde62d6-4cd7-42cd-b816-6ac7b65a1905"
      },
      "source": [
        "acc = history_unfreeze_all.history['accuracy']\n",
        "val_acc = history_unfreeze_all.history['val_accuracy']\n",
        "\n",
        "loss = history_unfreeze_all.history['loss']\n",
        "val_loss = history_unfreeze_all.history['val_loss']\n",
        "\n",
        "epochs_range = range(len(acc))\n",
        "\n",
        "plt.figure(figsize=(8, 8))\n",
        "# plt.subplot(1, 2, 1)\n",
        "plt.plot(epochs_range, acc, label='Training')\n",
        "plt.plot(epochs_range, val_acc, label='Validation')\n",
        "plt.legend(loc='best')\n",
        "plt.xlabel('Number of epochs')\n",
        "plt.ylabel('Accuracy')\n",
        "plt.savefig('accuracy_unfreeze_all.png', dpi=300)\n",
        "plt.show()\n",
        "\n",
        "# plt.subplot(1, 2, 2)"
      ],
      "execution_count": null,
      "outputs": [
        {
          "output_type": "display_data",
          "data": {
            "image/png": "[encoded data removed]",
            "text/plain": [
              "<Figure size 576x576 with 1 Axes>"
            ]
          },
          "metadata": {
            "tags": [],
            "needs_background": "light"
          }
        }
      ]
    },
    {
      "cell_type": "code",
      "metadata": {
        "colab": {
          "base_uri": "https://localhost:8080/",
          "height": 497
        },
        "id": "4YXxjJpqMh0G",
        "outputId": "47f82a2b-fe21-4b2c-e8b9-44bcdaf7b8c7"
      },
      "source": [
        "plt.figure(figsize=(8, 8))\n",
        "plt.plot(epochs_range, loss, label='Training')\n",
        "plt.plot(epochs_range, val_loss, label='Validation')\n",
        "plt.legend(loc='best')\n",
        "plt.xlabel('Number of epochs')\n",
        "plt.ylabel('Loss')\n",
        "plt.savefig('loss_unfreeze_all.png', dpi=300)\n",
        "plt.show()"
      ],
      "execution_count": null,
      "outputs": [
        {
          "output_type": "display_data",
          "data": {
            "image/png": "[encoded data removed]",
            "text/plain": [
              "<Figure size 576x576 with 1 Axes>"
            ]
          },
          "metadata": {
            "tags": [],
            "needs_background": "light"
          }
        }
      ]
    },
    {
      "cell_type": "code",
      "metadata": {
        "id": "e-53b-MyMVN3"
      },
      "source": [
        "classification = tf.keras.models.load_model('covid_classification.h5')  ## load best model"
      ],
      "execution_count": null,
      "outputs": []
    },
    {
      "cell_type": "code",
      "metadata": {
        "id": "s3ymWt4dhz4s"
      },
      "source": [
        "train_loss = history.history['loss']+history_unfreeze_l2.history['loss']+history_unfreeze_l6.history['loss']+history_unfreeze_all.history['loss']"
      ],
      "execution_count": null,
      "outputs": []
    },
    {
      "cell_type": "code",
      "metadata": {
        "id": "aYEaTf1mhzw3"
      },
      "source": [
        "train_acc = history.history['accuracy']+history_unfreeze_l2.history['accuracy']+history_unfreeze_l6.history['accuracy']+history_unfreeze_all.history['accuracy']"
      ],
      "execution_count": null,
      "outputs": []
    },
    {
      "cell_type": "code",
      "metadata": {
        "id": "Kh9A8jm-hziy"
      },
      "source": [
        "val_loss = history.history['val_loss']+history_unfreeze_l2.history['val_loss']+history_unfreeze_l6.history['val_loss']+history_unfreeze_all.history['val_loss']"
      ],
      "execution_count": null,
      "outputs": []
    },
    {
      "cell_type": "code",
      "metadata": {
        "id": "E5QelmLsiWRs"
      },
      "source": [
        "val_acc = history.history['val_accuracy']+history_unfreeze_l2.history['val_accuracy']+history_unfreeze_l6.history['val_accuracy']+history_unfreeze_all.history['val_accuracy']"
      ],
      "execution_count": null,
      "outputs": []
    },
    {
      "cell_type": "code",
      "metadata": {
        "colab": {
          "base_uri": "https://localhost:8080/",
          "height": 497
        },
        "id": "Vgl-v-ToihCB",
        "outputId": "d7db2541-4791-4b7c-c8b9-565f32a6cbaf"
      },
      "source": [
        "epochs_range = range(len(train_loss))\n",
        "\n",
        "plt.figure(figsize=(8, 8))\n",
        "# plt.subplot(1, 2, 1)\n",
        "plt.plot(epochs_range, train_acc, label='Training')\n",
        "plt.plot(epochs_range, val_acc, label='Validation')\n",
        "plt.legend(loc='best')\n",
        "plt.xlabel('Number of epochs')\n",
        "plt.ylabel('Accuracy')\n",
        "plt.savefig('accuracy_overall.png', dpi=300)\n",
        "plt.show()"
      ],
      "execution_count": null,
      "outputs": [
        {
          "output_type": "display_data",
          "data": {
            "image/png": "[encoded data removed]",
            "text/plain": [
              "<Figure size 576x576 with 1 Axes>"
            ]
          },
          "metadata": {
            "tags": [],
            "needs_background": "light"
          }
        }
      ]
    },
    {
      "cell_type": "code",
      "metadata": {
        "colab": {
          "base_uri": "https://localhost:8080/",
          "height": 497
        },
        "id": "rtyVjzoei38M",
        "outputId": "96502225-258d-4f26-d8c2-ea40a2b88a8b"
      },
      "source": [
        "plt.figure(figsize=(8, 8))\n",
        "plt.plot(epochs_range, train_loss, label='Training')\n",
        "plt.plot(epochs_range, val_loss, label='Validation')\n",
        "plt.legend(loc='best')\n",
        "plt.xlabel('Number of epochs')\n",
        "plt.ylabel('Loss')\n",
        "plt.savefig('loss_overall.png', dpi=300)\n",
        "plt.show()"
      ],
      "execution_count": null,
      "outputs": [
        {
          "output_type": "display_data",
          "data": {
            "image/png": "[encoded data removed]",
            "text/plain": [
              "<Figure size 576x576 with 1 Axes>"
            ]
          },
          "metadata": {
            "tags": [],
            "needs_background": "light"
          }
        }
      ]
    },
    {
      "cell_type": "markdown",
      "metadata": {
        "id": "Fuq48LrKihkQ"
      },
      "source": [
        "# TESTING "
      ]
    },
    {
      "cell_type": "code",
      "metadata": {
        "id": "EEHtqflU5OfA",
        "colab": {
          "base_uri": "https://localhost:8080/"
        },
        "outputId": "2b71932e-d91c-4dcd-d73f-e75bf11340ed"
      },
      "source": [
        "TESING_DIR = 'split_data/test/'\n",
        "test_datagen = tf.keras.preprocessing.image.ImageDataGenerator(rescale=1 / 255.0)\n",
        "test_generator = test_datagen.flow_from_directory(TESING_DIR,\n",
        "                                                    target_size=(224, 224),\n",
        "                                                    class_mode='categorical',\n",
        "                                                    shuffle=False,\n",
        "                                                    batch_size=32)"
      ],
      "execution_count": null,
      "outputs": [
        {
          "output_type": "stream",
          "text": [
            "Found 1507 images belonging to 3 classes.\n"
          ],
          "name": "stdout"
        }
      ]
    },
    {
      "cell_type": "code",
      "metadata": {
        "id": "UgmQVpEQL2_r"
      },
      "source": [
        "predictions = classification.predict(test_generator)"
      ],
      "execution_count": null,
      "outputs": []
    },
    {
      "cell_type": "code",
      "metadata": {
        "colab": {
          "base_uri": "https://localhost:8080/"
        },
        "id": "bgQiwU9uMTbb",
        "outputId": "202951fa-9995-46a9-b982-c81d5e58ef58"
      },
      "source": [
        "predictions.shape"
      ],
      "execution_count": null,
      "outputs": [
        {
          "output_type": "execute_result",
          "data": {
            "text/plain": [
              "(1507, 3)"
            ]
          },
          "metadata": {
            "tags": []
          },
          "execution_count": 69
        }
      ]
    },
    {
      "cell_type": "code",
      "metadata": {
        "colab": {
          "base_uri": "https://localhost:8080/"
        },
        "id": "Gdn76SBCL23y",
        "outputId": "0069da21-afbe-45c6-c3c2-75054e9df3e3"
      },
      "source": [
        "predicted_classes = np.argmax(predictions, axis=-1)\n",
        "min(predicted_classes),max(predicted_classes)  ## must be 0,2"
      ],
      "execution_count": null,
      "outputs": [
        {
          "output_type": "execute_result",
          "data": {
            "text/plain": [
              "(0, 2)"
            ]
          },
          "metadata": {
            "tags": []
          },
          "execution_count": 70
        }
      ]
    },
    {
      "cell_type": "code",
      "metadata": {
        "colab": {
          "base_uri": "https://localhost:8080/"
        },
        "id": "NMchV7tmL2hp",
        "outputId": "50c2a7df-c31f-44b2-ef05-c9630f31e9a3"
      },
      "source": [
        "test_generator.class_indices"
      ],
      "execution_count": null,
      "outputs": [
        {
          "output_type": "execute_result",
          "data": {
            "text/plain": [
              "{'COVID': 0, 'NORMAL': 1, 'PNEUMONIA': 2}"
            ]
          },
          "metadata": {
            "tags": []
          },
          "execution_count": 71
        }
      ]
    },
    {
      "cell_type": "code",
      "metadata": {
        "colab": {
          "base_uri": "https://localhost:8080/"
        },
        "id": "vi46if6sM5uZ",
        "outputId": "f7f1c946-4397-47ec-91f1-ef1071f793e5"
      },
      "source": [
        "test_generator.classes"
      ],
      "execution_count": null,
      "outputs": [
        {
          "output_type": "execute_result",
          "data": {
            "text/plain": [
              "array([0, 0, 0, ..., 2, 2, 2], dtype=int32)"
            ]
          },
          "metadata": {
            "tags": []
          },
          "execution_count": 72
        }
      ]
    },
    {
      "cell_type": "code",
      "metadata": {
        "id": "LpvOBZ5JL2w1"
      },
      "source": [
        "labels = test_generator.classes"
      ],
      "execution_count": null,
      "outputs": []
    },
    {
      "cell_type": "code",
      "metadata": {
        "colab": {
          "base_uri": "https://localhost:8080/"
        },
        "id": "-LVhXM1mK3nt",
        "outputId": "ed66a5a2-aa95-4c14-9828-b4305f026fe9"
      },
      "source": [
        "class_names = list(test_generator.class_indices.keys())\n",
        "class_names"
      ],
      "execution_count": null,
      "outputs": [
        {
          "output_type": "execute_result",
          "data": {
            "text/plain": [
              "['COVID', 'NORMAL', 'PNEUMONIA']"
            ]
          },
          "metadata": {
            "tags": []
          },
          "execution_count": 74
        }
      ]
    },
    {
      "cell_type": "code",
      "metadata": {
        "colab": {
          "base_uri": "https://localhost:8080/"
        },
        "id": "U4vQOFTAK3jk",
        "outputId": "2751e2c5-fceb-43c4-c0a3-4a2e8ddaafb2"
      },
      "source": [
        "classification_report = metrics.classification_report(labels, predicted_classes, target_names=class_names)\n",
        "print(classification_report)"
      ],
      "execution_count": null,
      "outputs": [
        {
          "output_type": "stream",
          "text": [
            "              precision    recall  f1-score   support\n",
            "\n",
            "       COVID       0.97      0.97      0.97       503\n",
            "      NORMAL       0.97      0.96      0.97       502\n",
            "   PNEUMONIA       0.99      0.99      0.99       502\n",
            "\n",
            "    accuracy                           0.98      1507\n",
            "   macro avg       0.98      0.98      0.98      1507\n",
            "weighted avg       0.98      0.98      0.98      1507\n",
            "\n"
          ],
          "name": "stdout"
        }
      ]
    },
    {
      "cell_type": "code",
      "metadata": {
        "colab": {
          "base_uri": "https://localhost:8080/"
        },
        "id": "nhb1X-1NT1FT",
        "outputId": "1e22534b-6cea-4fc2-8ae7-7038f8b78b63"
      },
      "source": [
        "cm_test = metrics.confusion_matrix(labels, predicted_classes)\n",
        "cm_test"
      ],
      "execution_count": null,
      "outputs": [
        {
          "output_type": "execute_result",
          "data": {
            "text/plain": [
              "array([[489,  14,   0],\n",
              "       [ 15, 483,   4],\n",
              "       [  1,   2, 499]])"
            ]
          },
          "metadata": {
            "tags": []
          },
          "execution_count": 76
        }
      ]
    },
    {
      "cell_type": "code",
      "metadata": {
        "id": "728Zs_S7d2vf"
      },
      "source": [
        "def make_confusion_matrix(cf,\n",
        "                          group_names=None,\n",
        "                          categories='auto',\n",
        "                          count=True,\n",
        "                          percent=True,\n",
        "                          cbar=True,\n",
        "                          xyticks=True,\n",
        "                          xyplotlabels=True,\n",
        "                          sum_stats=True,\n",
        "                          figsize=None,\n",
        "                          cmap='YlGnBu',\n",
        "                          title=None,\n",
        "                          save_dir=None):\n",
        "    \n",
        "    # CODE TO GENERATE TEXT INSIDE EACH SQUARE\n",
        "    blanks = ['' for i in range(cf.size)]\n",
        "\n",
        "    if group_names and len(group_names)==cf.size:\n",
        "        group_labels = [\"{}\\n\".format(value) for value in group_names]\n",
        "    else:\n",
        "        group_labels = blanks\n",
        "\n",
        "    if count:\n",
        "        group_counts = [\"{0:0.0f}\\n\".format(value) for value in cf.flatten()]\n",
        "    else:\n",
        "        group_counts = blanks\n",
        "\n",
        "    if percent:\n",
        "        group_percentages = [\"{0:.2%}\".format(value) for value in cf.flatten()/np.sum(cf)]\n",
        "    else:\n",
        "        group_percentages = blanks\n",
        "\n",
        "    box_labels = [f\"{v1}{v2}{v3}\".strip() for v1, v2, v3 in zip(group_labels,group_counts,group_percentages)]\n",
        "    box_labels = np.asarray(box_labels).reshape(cf.shape[0],cf.shape[1])\n",
        "\n",
        "\n",
        "    # CODE TO GENERATE SUMMARY STATISTICS & TEXT FOR SUMMARY STATS\n",
        "    if sum_stats:\n",
        "        #Accuracy is sum of diagonal divided by total observations\n",
        "        accuracy  = np.trace(cf) / float(np.sum(cf))\n",
        "\n",
        "        #if it is a binary confusion matrix, show some more stats\n",
        "        if len(cf)==2:\n",
        "            #Metrics for Binary Confusion Matrices\n",
        "            precision = cf[1,1] / sum(cf[:,1])\n",
        "            recall    = cf[1,1] / sum(cf[1,:])\n",
        "            f1_score  = 2*precision*recall / (precision + recall)\n",
        "            stats_text = \"\\n\\nAccuracy={:0.3f}\\nPrecision={:0.3f}\\nRecall={:0.3f}\\nF1 Score={:0.3f}\".format(\n",
        "                accuracy,precision,recall,f1_score)\n",
        "        else:\n",
        "            stats_text = \"\\n\\nAccuracy={:0.3f}\".format(accuracy)\n",
        "    else:\n",
        "        stats_text = \"\"\n",
        "\n",
        "\n",
        "    # SET FIGURE PARAMETERS ACCORDING TO OTHER ARGUMENTS\n",
        "    if figsize==None:\n",
        "        #Get default figure size if not set\n",
        "        figsize = plt.rcParams.get('figure.figsize')\n",
        "\n",
        "    if xyticks==False:\n",
        "        #Do not show categories if xyticks is False\n",
        "        categories=False\n",
        "\n",
        "\n",
        "    # MAKE THE HEATMAP VISUALIZATION\n",
        "    plt.figure(figsize=figsize)\n",
        "    hmap = sns.heatmap(cf,annot=box_labels,fmt=\"\",cmap=cmap,cbar=cbar,xticklabels=categories,yticklabels=categories)\n",
        "    hmap.yaxis.set_ticklabels(hmap.yaxis.get_ticklabels(), rotation=0, ha='right')\n",
        "    hmap.xaxis.set_ticklabels(hmap.xaxis.get_ticklabels(), rotation=90, ha='right')\n",
        "\n",
        "    if xyplotlabels:\n",
        "        plt.ylabel('True label')\n",
        "        plt.xlabel('Predicted label' + stats_text)\n",
        "    else:\n",
        "        plt.xlabel(stats_text)\n",
        "    \n",
        "    if title:\n",
        "        plt.title(title)\n",
        "    if save_dir:\n",
        "      plt.savefig(save_dir, dpi=300)"
      ],
      "execution_count": null,
      "outputs": []
    },
    {
      "cell_type": "code",
      "metadata": {
        "colab": {
          "base_uri": "https://localhost:8080/",
          "height": 439
        },
        "id": "4qunfwb6eAMu",
        "outputId": "2902c778-5d2c-4020-ef62-fd18e95e7eb3"
      },
      "source": [
        "make_confusion_matrix(cm_test, figsize=(8,6), cbar=False, categories=class_names, save_dir='cm.png', sum_stats=False)"
      ],
      "execution_count": null,
      "outputs": [
        {
          "output_type": "display_data",
          "data": {
            "image/png": "[encoded data removed]",
            "text/plain": [
              "<Figure size 576x432 with 1 Axes>"
            ]
          },
          "metadata": {
            "tags": [],
            "needs_background": "light"
          }
        }
      ]
    },
    {
      "cell_type": "code",
      "metadata": {
        "colab": {
          "base_uri": "https://localhost:8080/",
          "height": 547
        },
        "id": "gcLm9Va8UPZH",
        "outputId": "27183a68-c3c1-4b13-be87-4079609c1ada"
      },
      "source": [
        "from sklearn.preprocessing import LabelBinarizer\n",
        "from sklearn.metrics import roc_curve, auc, roc_auc_score\n",
        "\n",
        "\n",
        "# set plot figure size\n",
        "fig, c_ax = plt.subplots(1,1, figsize = (12, 8))\n",
        "\n",
        "# function for scoring roc auc score for multi-class\n",
        "def multiclass_roc_auc_score(y_test, y_pred, average=\"macro\"):\n",
        "    lb = LabelBinarizer()\n",
        "    lb.fit(y_test)\n",
        "    y_test = lb.transform(y_test)\n",
        "    y_pred = lb.transform(y_pred)\n",
        "\n",
        "    for (idx, c_label) in enumerate(class_names):\n",
        "        fpr, tpr, thresholds = roc_curve(y_test[:,idx].astype(int), y_pred[:,idx])\n",
        "        c_ax.plot(fpr, tpr, label = '%s (AUC:%0.2f)'  % (c_label, auc(fpr, tpr)))\n",
        "    c_ax.plot(fpr, fpr, '--', label = 'Random Guessing')\n",
        "    return roc_auc_score(y_test, y_pred, average=average)\n",
        "\n",
        "\n",
        "print(f'ROC AUC score: {multiclass_roc_auc_score(labels, predicted_classes)} \\n')\n",
        "\n",
        "c_ax.legend()\n",
        "c_ax.set_title('ROC Analysis')\n",
        "c_ax.set_xlabel('False Positive Rate')\n",
        "c_ax.set_ylabel('True Positive Rate')\n",
        "plt.savefig('roc.png', dpi=300)\n",
        "plt.show()\n"
      ],
      "execution_count": null,
      "outputs": [
        {
          "output_type": "stream",
          "text": [
            "ROC AUC score: 0.9820842573873653 \n",
            "\n"
          ],
          "name": "stdout"
        },
        {
          "output_type": "display_data",
          "data": {
            "image/png": "[encoded data removed]",
            "text/plain": [
              "<Figure size 864x576 with 1 Axes>"
            ]
          },
          "metadata": {
            "tags": [],
            "needs_background": "light"
          }
        }
      ]
    },
    {
      "cell_type": "code",
      "metadata": {
        "colab": {
          "base_uri": "https://localhost:8080/"
        },
        "id": "aAdA0zfPXe5S",
        "outputId": "cd178e77-90a1-492e-d96f-6bbf8cf80b8d"
      },
      "source": [
        "print(f'metric name : [COVID, NORMAL, PNEUMONIA]')\n",
        "FP = cm_test.sum(axis=0) - np.diag(cm_test) \n",
        "FN = cm_test.sum(axis=1) - np.diag(cm_test)\n",
        "TP = np.diag(cm_test)\n",
        "TN = cm_test.sum() - (FP + FN + TP)\n",
        "FP = FP.astype(float)\n",
        "FN = FN.astype(float)\n",
        "TP = TP.astype(float)\n",
        "TN = TN.astype(float)\n",
        "print(f'False Positives: {FP}')\n",
        "print(f'False Negatives: {FN}')\n",
        "print(f'True Positives: {TP}')\n",
        "print(f'True Negatives: {TN}')\n",
        "\n",
        "# Sensitivity, hit rate, recall, or true positive rate\n",
        "TPR = TP/(TP+FN)\n",
        "print(f'Sensitivity, hit rate, recall, or true positive rate : {TPR}')\n",
        "# Specificity or true negative rate\n",
        "TNR = TN/(TN+FP) \n",
        "print(f'Specificity or true negative rate : {TNR}')\n",
        "# Precision or positive predictive value\n",
        "PPV = TP/(TP+FP)\n",
        "print(f'Precision or positive predictive value : {PPV}')\n",
        "# Negative predictive value\n",
        "NPV = TN/(TN+FN)\n",
        "print(f'Negative predictive value : {NPV}')\n",
        "# Fall out or false positive rate\n",
        "FPR = FP/(FP+TN)\n",
        "print(f'Fall out or false positive rate : {FPR}')\n",
        "# False negative rate\n",
        "FNR = FN/(TP+FN)\n",
        "print(f'False negative rate : {FNR}')\n",
        "# False discovery rate\n",
        "FDR = FP/(TP+FP)\n",
        "print(f'False discovery rate : {FDR}')\n",
        "# Overall accuracy for each class\n",
        "ACC = (TP+TN)/(TP+FP+FN+TN)\n",
        "print(f'Overall accuracy for each class : {ACC}')"
      ],
      "execution_count": null,
      "outputs": [
        {
          "output_type": "stream",
          "text": [
            "metric name : [COVID, NORMAL, PNEUMONIA]\n",
            "False Positives: [16. 16.  4.]\n",
            "False Negatives: [14. 19.  3.]\n",
            "True Positives: [489. 483. 499.]\n",
            "True Negatives: [ 988.  989. 1001.]\n",
            "Sensitivity, hit rate, recall, or true positive rate : [0.972167   0.96215139 0.9940239 ]\n",
            "Specificity or true negative rate : [0.98406375 0.9840796  0.9960199 ]\n",
            "Precision or positive predictive value : [0.96831683 0.96793587 0.99204771]\n",
            "Negative predictive value : [0.98602794 0.98115079 0.99701195]\n",
            "Fall out or false positive rate : [0.01593625 0.0159204  0.0039801 ]\n",
            "False negative rate : [0.027833   0.03784861 0.0059761 ]\n",
            "False discovery rate : [0.03168317 0.03206413 0.00795229]\n",
            "Overall accuracy for each class : [0.9800929  0.97677505 0.99535501]\n"
          ],
          "name": "stdout"
        }
      ]
    },
    {
      "cell_type": "code",
      "metadata": {
        "colab": {
          "base_uri": "https://localhost:8080/"
        },
        "id": "CvYAa43FXezg",
        "outputId": "54523de5-685d-4a2c-a119-1ddf69957aeb"
      },
      "source": [
        "sum(ACC)/3"
      ],
      "execution_count": null,
      "outputs": [
        {
          "output_type": "execute_result",
          "data": {
            "text/plain": [
              "0.9840743198407432"
            ]
          },
          "metadata": {
            "tags": []
          },
          "execution_count": 82
        }
      ]
    },
    {
      "cell_type": "code",
      "metadata": {
        "id": "tv-uaufmoRK5"
      },
      "source": [
        ""
      ],
      "execution_count": null,
      "outputs": []
    },
    {
      "cell_type": "code",
      "metadata": {
        "id": "TJMYL-aRn3XN"
      },
      "source": [
        ""
      ],
      "execution_count": null,
      "outputs": []
    }
  ]
}