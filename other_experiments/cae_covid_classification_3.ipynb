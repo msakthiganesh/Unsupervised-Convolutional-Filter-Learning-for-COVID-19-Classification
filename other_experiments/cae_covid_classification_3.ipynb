{
  "nbformat": 4,
  "nbformat_minor": 0,
  "metadata": {
    "colab": {
      "name": "cae_covid_classification_5.ipynb",
      "provenance": [],
      "collapsed_sections": []
    },
    "kernelspec": {
      "name": "python3",
      "display_name": "Python 3"
    },
    "language_info": {
      "name": "python"
    },
    "accelerator": "GPU"
  },
  "cells": [
    {
      "cell_type": "code",
      "metadata": {
        "id": "mk2kb2kjzNZU"
      },
      "source": [
        "from tqdm.notebook import tqdm_notebook\n",
        "import tensorflow as tf\n",
        "import zipfile\n",
        "import glob\n",
        "import numpy as np\n",
        "import pandas as pd\n",
        "from sklearn.model_selection import train_test_split\n",
        "from sklearn import metrics\n",
        "import matplotlib.pyplot as plt\n",
        "import seaborn as sns\n",
        "import os\n",
        "import random\n",
        "import shutil"
      ],
      "execution_count": null,
      "outputs": []
    },
    {
      "cell_type": "code",
      "metadata": {
        "id": "u8kaPsnXaHqI"
      },
      "source": [
        "tf.random.set_seed(1)\n",
        "random.seed(1)\n",
        "np.random.seed(1)"
      ],
      "execution_count": null,
      "outputs": []
    },
    {
      "cell_type": "code",
      "metadata": {
        "colab": {
          "base_uri": "https://localhost:8080/"
        },
        "id": "GtSBTgCVzmpA",
        "outputId": "f217bcb0-6e50-45d7-d1f5-808d8433e429"
      },
      "source": [
        "!wget \"https://storage.googleapis.com/cae_covid_classification/covid_normal_pneumonia.zip\""
      ],
      "execution_count": null,
      "outputs": [
        {
          "output_type": "stream",
          "text": [
            "--2021-07-30 03:54:55--  https://storage.googleapis.com/cae_covid_classification/covid_normal_pneumonia.zip\n",
            "Resolving storage.googleapis.com (storage.googleapis.com)... 142.250.141.128, 142.251.2.128, 142.250.101.128, ...\n",
            "Connecting to storage.googleapis.com (storage.googleapis.com)|142.250.141.128|:443... connected.\n",
            "HTTP request sent, awaiting response... 200 OK\n",
            "Length: 815753304 (778M) [application/x-zip-compressed]\n",
            "Saving to: ‘covid_normal_pneumonia.zip’\n",
            "\n",
            "covid_normal_pneumo 100%[===================>] 777.96M   109MB/s    in 6.8s    \n",
            "\n",
            "2021-07-30 03:55:02 (114 MB/s) - ‘covid_normal_pneumonia.zip’ saved [815753304/815753304]\n",
            "\n"
          ],
          "name": "stdout"
        }
      ]
    },
    {
      "cell_type": "code",
      "metadata": {
        "id": "PzLluOqhz5So"
      },
      "source": [
        "!unzip -q covid_normal_pneumonia.zip"
      ],
      "execution_count": null,
      "outputs": []
    },
    {
      "cell_type": "code",
      "metadata": {
        "colab": {
          "base_uri": "https://localhost:8080/"
        },
        "id": "k9Ggr3Hhzmm8",
        "outputId": "84899882-c470-45d1-9d23-f00699e75fad"
      },
      "source": [
        "total_covid = len(os.listdir('covid_normal_pneumonia/COVID/'))\n",
        "total_normal = len(os.listdir('covid_normal_pneumonia/NORMAL/'))\n",
        "total_pneumonia = len(os.listdir('covid_normal_pneumonia/PNEUMONIA/'))\n",
        "print('covid_count : {} | normal_count : {} | pneumonia_count : {}'.format( str(total_covid),str(total_normal),str(total_pneumonia)) )"
      ],
      "execution_count": null,
      "outputs": [
        {
          "output_type": "stream",
          "text": [
            "covid_count : 3709 | normal_count : 3700 | pneumonia_count : 3700\n"
          ],
          "name": "stdout"
        }
      ]
    },
    {
      "cell_type": "code",
      "metadata": {
        "colab": {
          "base_uri": "https://localhost:8080/"
        },
        "id": "2iNe44wjzmj_",
        "outputId": "819dea6a-5419-4f5a-89e3-e05af359e921"
      },
      "source": [
        "try:\n",
        "    os.system(\"rm -rf ./split_data\")\n",
        "    os.mkdir('split_data')\n",
        "    os.mkdir('split_data/train')\n",
        "    os.mkdir('split_data/valid_test')\n",
        "    os.mkdir('split_data/valid')\n",
        "    os.mkdir('split_data/test')\n",
        "\n",
        "    os.mkdir('split_data/train/COVID')\n",
        "    os.mkdir('split_data/train/NORMAL')\n",
        "    os.mkdir('split_data/train/PNEUMONIA')\n",
        "\n",
        "    os.mkdir('split_data/valid_test/COVID')\n",
        "    os.mkdir('split_data/valid_test/NORMAL')\n",
        "    os.mkdir('split_data/valid_test/PNEUMONIA')\n",
        "\n",
        "    os.mkdir('split_data/valid/COVID')\n",
        "    os.mkdir('split_data/valid/NORMAL')\n",
        "    os.mkdir('split_data/valid/PNEUMONIA')\n",
        "\n",
        "    os.mkdir('split_data/test/COVID')\n",
        "    os.mkdir('split_data/test/NORMAL')\n",
        "    os.mkdir('split_data/test/PNEUMONIA')\n",
        "    print('created directories')\n",
        "except OSError as e:\n",
        "    print('OS error occurred', e)"
      ],
      "execution_count": null,
      "outputs": [
        {
          "output_type": "stream",
          "text": [
            "created directories\n"
          ],
          "name": "stdout"
        }
      ]
    },
    {
      "cell_type": "code",
      "metadata": {
        "id": "7yuMNj3wzmhW"
      },
      "source": [
        "def split_data(source, training, testing, split_ratio):\n",
        "  threshold = len(os.listdir(source)) * split_ratio\n",
        "  flag = 0\n",
        "  for i in random.sample(os.listdir(source), len(os.listdir(source))):\n",
        "    flag += 1\n",
        "    if flag <= threshold:\n",
        "      if os.path.getsize(source + i) > 0:\n",
        "        shutil.copyfile(source + i, training + i)\n",
        "      else:\n",
        "        print(source + i + \" is zero length, so ignoring\")\n",
        "    else:\n",
        "      if os.path.getsize(source + i) > 0:\n",
        "        shutil.copyfile(source + i, testing + i)\n",
        "      else:\n",
        "        print(source + i + \" is zero length, so ignoring\")"
      ],
      "execution_count": null,
      "outputs": []
    },
    {
      "cell_type": "code",
      "metadata": {
        "id": "34mgbtJ20G7D"
      },
      "source": [
        "COVID_SOURCE_DIR = 'covid_normal_pneumonia/COVID/'\n",
        "NORMAL_SOURCE_DIR = 'covid_normal_pneumonia/NORMAL/'\n",
        "PNEUMONIA_SOURCE_DIR = 'covid_normal_pneumonia/PNEUMONIA/'\n",
        "\n",
        "TRAINING_COVID_DIR = 'split_data/train/COVID/'\n",
        "VALID_TEST_COVID_DIR = 'split_data/valid_test/COVID/'\n",
        "VALIDATING_COVID_DIR = 'split_data/valid/COVID/'\n",
        "TESTING_COVID_DIR = 'split_data/test/COVID/'\n",
        "\n",
        "TRAINING_NORMAL_DIR = 'split_data/train/NORMAL/'\n",
        "VALID_TEST_NORMAL_DIR = 'split_data/valid_test/NORMAL/'\n",
        "VALIDATING_NORMAL_DIR = 'split_data/valid/NORMAL/'\n",
        "TESTING_NORMAL_DIR = 'split_data/test/NORMAL/'\n",
        "\n",
        "TRAINING_PNEUMONIA_DIR = 'split_data/train/PNEUMONIA/'\n",
        "VALID_TEST_PNEUMONIA_DIR = 'split_data/valid_test/PNEUMONIA/'\n",
        "VALIDATING_PNEUMONIA_DIR = 'split_data/valid/PNEUMONIA/'\n",
        "TESTING_PNEUMONIA_DIR = 'split_data/test/PNEUMONIA/'"
      ],
      "execution_count": null,
      "outputs": []
    },
    {
      "cell_type": "code",
      "metadata": {
        "id": "KWElpnl80G4i"
      },
      "source": [
        "split_data(COVID_SOURCE_DIR, TRAINING_COVID_DIR, VALID_TEST_COVID_DIR, 0.729)\n",
        "split_data(VALID_TEST_COVID_DIR, VALIDATING_COVID_DIR, TESTING_COVID_DIR, 0.5)"
      ],
      "execution_count": null,
      "outputs": []
    },
    {
      "cell_type": "code",
      "metadata": {
        "colab": {
          "base_uri": "https://localhost:8080/"
        },
        "id": "qDL4S89y0G2y",
        "outputId": "a2f6aa82-e4d2-420d-d7ef-6d8637531991"
      },
      "source": [
        "tr_c = len(os.listdir(TRAINING_COVID_DIR))\n",
        "vl_c = len(os.listdir(VALIDATING_COVID_DIR))\n",
        "tst_c = len(os.listdir(TESTING_COVID_DIR))\n",
        "print('covid_train count : {} | covid_valid count : {} | covid_test count : {}'.format( str(tr_c),str(vl_c),str(tst_c)) )"
      ],
      "execution_count": null,
      "outputs": [
        {
          "output_type": "stream",
          "text": [
            "covid_train count : 2703 | covid_valid count : 503 | covid_test count : 503\n"
          ],
          "name": "stdout"
        }
      ]
    },
    {
      "cell_type": "code",
      "metadata": {
        "id": "ZBWX53hx0G0d"
      },
      "source": [
        "split_data(NORMAL_SOURCE_DIR, TRAINING_NORMAL_DIR, VALID_TEST_NORMAL_DIR, 0.729)\n",
        "split_data(VALID_TEST_NORMAL_DIR, VALIDATING_NORMAL_DIR, TESTING_NORMAL_DIR, 0.5)"
      ],
      "execution_count": null,
      "outputs": []
    },
    {
      "cell_type": "code",
      "metadata": {
        "colab": {
          "base_uri": "https://localhost:8080/"
        },
        "id": "lk7H4G9B3uFo",
        "outputId": "af661355-9a2d-4f61-a527-88e6a3c6eb9e"
      },
      "source": [
        "tr_n = len(os.listdir(TRAINING_NORMAL_DIR))\n",
        "vl_n = len(os.listdir(VALIDATING_NORMAL_DIR))\n",
        "tst_n = len(os.listdir(TESTING_NORMAL_DIR))\n",
        "print('normal_train count : {} | normal_valid count : {} | normal_test count : {}'.format( str(tr_n),str(vl_n),str(tst_n)) )"
      ],
      "execution_count": null,
      "outputs": [
        {
          "output_type": "stream",
          "text": [
            "normal_train count : 2697 | normal_valid count : 501 | normal_test count : 502\n"
          ],
          "name": "stdout"
        }
      ]
    },
    {
      "cell_type": "code",
      "metadata": {
        "id": "StIQ2L1Z3EaX"
      },
      "source": [
        "split_data(PNEUMONIA_SOURCE_DIR, TRAINING_PNEUMONIA_DIR, VALID_TEST_PNEUMONIA_DIR, 0.729)\n",
        "split_data(VALID_TEST_PNEUMONIA_DIR, VALIDATING_PNEUMONIA_DIR, TESTING_PNEUMONIA_DIR, 0.5)"
      ],
      "execution_count": null,
      "outputs": []
    },
    {
      "cell_type": "code",
      "metadata": {
        "colab": {
          "base_uri": "https://localhost:8080/"
        },
        "id": "8krPm1oo37Np",
        "outputId": "8814ad7e-dfc0-4430-b4c7-c90ecdf88c6d"
      },
      "source": [
        "tr_p = len(os.listdir(TRAINING_PNEUMONIA_DIR))\n",
        "vl_p = len(os.listdir(VALIDATING_PNEUMONIA_DIR))\n",
        "tst_p = len(os.listdir(TESTING_PNEUMONIA_DIR))\n",
        "print('pneumonia_train count : {} | pneumonia_valid count : {} | pneumonia_test count : {}'.format( str(tr_p),str(vl_p),str(tst_p)) )"
      ],
      "execution_count": null,
      "outputs": [
        {
          "output_type": "stream",
          "text": [
            "pneumonia_train count : 2697 | pneumonia_valid count : 501 | pneumonia_test count : 502\n"
          ],
          "name": "stdout"
        }
      ]
    },
    {
      "cell_type": "code",
      "metadata": {
        "colab": {
          "base_uri": "https://localhost:8080/"
        },
        "id": "AExseRUADkUf",
        "outputId": "2a37ff4e-e89b-4337-9f0f-efd109de05b1"
      },
      "source": [
        "TRAINING_DIR = 'split_data/train/'\n",
        "train_datagen = tf.keras.preprocessing.image.ImageDataGenerator(rescale=1 / 255.0)\n",
        "train_generator = train_datagen.flow_from_directory(TRAINING_DIR,\n",
        "                                                    target_size=(224, 224),\n",
        "                                                    class_mode='categorical',\n",
        "                                                    shuffle=True,\n",
        "                                                    batch_size=16)\n",
        "\n",
        "VALIDATING_DIR = 'split_data/valid/'\n",
        "valid_datagen = tf.keras.preprocessing.image.ImageDataGenerator(rescale=1 / 255.0)\n",
        "valid_generator = valid_datagen.flow_from_directory(VALIDATING_DIR,\n",
        "                                                    target_size=(224, 224),\n",
        "                                                    class_mode='categorical',\n",
        "                                                    shuffle=False,\n",
        "                                                    batch_size=16)"
      ],
      "execution_count": null,
      "outputs": [
        {
          "output_type": "stream",
          "text": [
            "Found 8097 images belonging to 3 classes.\n",
            "Found 1505 images belonging to 3 classes.\n"
          ],
          "name": "stdout"
        }
      ]
    },
    {
      "cell_type": "code",
      "metadata": {
        "id": "WmVFsj7lJB_t"
      },
      "source": [
        "cae_model = tf.keras.models.load_model('pretrain_cae/cae.h5')"
      ],
      "execution_count": null,
      "outputs": []
    },
    {
      "cell_type": "code",
      "metadata": {
        "id": "5_p6Him844fq"
      },
      "source": [
        "for layer in cae_model.layers[0].layers:\n",
        "  layer.trainable = False"
      ],
      "execution_count": null,
      "outputs": []
    },
    {
      "cell_type": "code",
      "metadata": {
        "colab": {
          "base_uri": "https://localhost:8080/"
        },
        "id": "8FbNwUrH_sLL",
        "outputId": "4f7d88ad-cbde-4626-ba2c-1476d725a763"
      },
      "source": [
        "for batch, label in train_generator:\n",
        "  print(batch.shape)\n",
        "   # values should be in `[0,1]`.\n",
        "  print(np.min(batch[0]), np.max(batch[0]))\n",
        "  break\n"
      ],
      "execution_count": null,
      "outputs": [
        {
          "output_type": "stream",
          "text": [
            "(16, 224, 224, 3)\n",
            "0.0 0.8705883\n"
          ],
          "name": "stdout"
        }
      ]
    },
    {
      "cell_type": "code",
      "metadata": {
        "id": "ynAEb6au48An"
      },
      "source": [
        "enc_out = cae_model.layers[0].output"
      ],
      "execution_count": null,
      "outputs": []
    },
    {
      "cell_type": "code",
      "metadata": {
        "id": "ZKXspdhp4938"
      },
      "source": [
        "y = tf.keras.layers.Reshape((49,512))(enc_out)\n",
        "y = tf.keras.layers.LSTM(512, return_sequences=True)(y)\n",
        "y = tf.keras.layers.LSTM(256, return_sequences=True)(y)\n",
        "y = tf.keras.layers.LSTM(128, return_sequences=True)(y)\n",
        "y = tf.keras.layers.Flatten()(y)\n",
        "y = tf.keras.layers.Dense(64, activation='relu')(y)\n",
        "y = tf.keras.layers.Dense(3, activation='softmax')(y)"
      ],
      "execution_count": null,
      "outputs": []
    },
    {
      "cell_type": "code",
      "metadata": {
        "id": "FM2kzTnC5DF8"
      },
      "source": [
        "classification = tf.keras.Model(cae_model.layers[0].input, y)"
      ],
      "execution_count": null,
      "outputs": []
    },
    {
      "cell_type": "code",
      "metadata": {
        "colab": {
          "base_uri": "https://localhost:8080/"
        },
        "id": "Q0bVhvOU5N5t",
        "outputId": "e7f709b6-bc76-46d0-92f3-793a0c1459f7"
      },
      "source": [
        "classification.summary()"
      ],
      "execution_count": null,
      "outputs": [
        {
          "output_type": "stream",
          "text": [
            "Model: \"model\"\n",
            "_________________________________________________________________\n",
            "Layer (type)                 Output Shape              Param #   \n",
            "=================================================================\n",
            "input_1 (InputLayer)         [(None, 224, 224, 3)]     0         \n",
            "_________________________________________________________________\n",
            "conv2d (Conv2D)              (None, 224, 224, 64)      1792      \n",
            "_________________________________________________________________\n",
            "conv2d_1 (Conv2D)            (None, 224, 224, 64)      36928     \n",
            "_________________________________________________________________\n",
            "max_pooling2d (MaxPooling2D) (None, 112, 112, 64)      0         \n",
            "_________________________________________________________________\n",
            "conv2d_2 (Conv2D)            (None, 112, 112, 128)     73856     \n",
            "_________________________________________________________________\n",
            "max_pooling2d_1 (MaxPooling2 (None, 56, 56, 128)       0         \n",
            "_________________________________________________________________\n",
            "conv2d_3 (Conv2D)            (None, 56, 56, 256)       295168    \n",
            "_________________________________________________________________\n",
            "max_pooling2d_2 (MaxPooling2 (None, 28, 28, 256)       0         \n",
            "_________________________________________________________________\n",
            "conv2d_4 (Conv2D)            (None, 28, 28, 512)       1180160   \n",
            "_________________________________________________________________\n",
            "max_pooling2d_3 (MaxPooling2 (None, 14, 14, 512)       0         \n",
            "_________________________________________________________________\n",
            "conv2d_5 (Conv2D)            (None, 14, 14, 512)       2359808   \n",
            "_________________________________________________________________\n",
            "max_pooling2d_4 (MaxPooling2 (None, 7, 7, 512)         0         \n",
            "_________________________________________________________________\n",
            "reshape (Reshape)            (None, 49, 512)           0         \n",
            "_________________________________________________________________\n",
            "lstm (LSTM)                  (None, 49, 512)           2099200   \n",
            "_________________________________________________________________\n",
            "lstm_1 (LSTM)                (None, 49, 256)           787456    \n",
            "_________________________________________________________________\n",
            "lstm_2 (LSTM)                (None, 49, 128)           197120    \n",
            "_________________________________________________________________\n",
            "flatten (Flatten)            (None, 6272)              0         \n",
            "_________________________________________________________________\n",
            "dense (Dense)                (None, 64)                401472    \n",
            "_________________________________________________________________\n",
            "dense_1 (Dense)              (None, 3)                 195       \n",
            "=================================================================\n",
            "Total params: 7,433,155\n",
            "Trainable params: 3,485,443\n",
            "Non-trainable params: 3,947,712\n",
            "_________________________________________________________________\n"
          ],
          "name": "stdout"
        }
      ]
    },
    {
      "cell_type": "code",
      "metadata": {
        "id": "vHAduELH5OrA"
      },
      "source": [
        "classification.compile(optimizer='adam', loss='categorical_crossentropy', metrics=['accuracy'])"
      ],
      "execution_count": null,
      "outputs": []
    },
    {
      "cell_type": "code",
      "metadata": {
        "id": "10R1ALmY5OoQ"
      },
      "source": [
        "early_stopping_cb = tf.keras.callbacks.EarlyStopping(monitor='val_loss', patience=5, mode='auto')"
      ],
      "execution_count": null,
      "outputs": []
    },
    {
      "cell_type": "code",
      "metadata": {
        "id": "BiP5smLC5Omi"
      },
      "source": [
        "checkpoint_cb = tf.keras.callbacks.ModelCheckpoint('covid_classification.h5', save_best_only=True)"
      ],
      "execution_count": null,
      "outputs": []
    },
    {
      "cell_type": "code",
      "metadata": {
        "id": "rJATMZrpaQBb"
      },
      "source": [
        "epochs = 20"
      ],
      "execution_count": null,
      "outputs": []
    },
    {
      "cell_type": "code",
      "metadata": {
        "colab": {
          "base_uri": "https://localhost:8080/"
        },
        "id": "xpDd0gYs5Ojd",
        "outputId": "da70bd33-99b3-4c4b-f5c5-36cf78e006c8"
      },
      "source": [
        "history = classification.fit(train_generator,\n",
        "                             epochs=epochs,\n",
        "                             validation_data=valid_generator,\n",
        "                             callbacks=[early_stopping_cb, checkpoint_cb])"
      ],
      "execution_count": null,
      "outputs": [
        {
          "output_type": "stream",
          "text": [
            "Epoch 1/20\n",
            "507/507 [==============================] - 87s 101ms/step - loss: 0.5316 - accuracy: 0.7598 - val_loss: 0.3298 - val_accuracy: 0.8638\n",
            "Epoch 2/20\n",
            "507/507 [==============================] - 51s 101ms/step - loss: 0.3077 - accuracy: 0.8751 - val_loss: 0.2192 - val_accuracy: 0.9183\n",
            "Epoch 3/20\n",
            "507/507 [==============================] - 50s 98ms/step - loss: 0.2251 - accuracy: 0.9122 - val_loss: 0.2684 - val_accuracy: 0.9017\n",
            "Epoch 4/20\n",
            "507/507 [==============================] - 50s 99ms/step - loss: 0.1953 - accuracy: 0.9249 - val_loss: 0.2186 - val_accuracy: 0.9203\n",
            "Epoch 5/20\n",
            "507/507 [==============================] - 49s 96ms/step - loss: 0.1599 - accuracy: 0.9395 - val_loss: 0.1713 - val_accuracy: 0.9329\n",
            "Epoch 6/20\n",
            "507/507 [==============================] - 49s 97ms/step - loss: 0.1264 - accuracy: 0.9534 - val_loss: 0.1388 - val_accuracy: 0.9482\n",
            "Epoch 7/20\n",
            "507/507 [==============================] - 51s 101ms/step - loss: 0.1111 - accuracy: 0.9605 - val_loss: 0.1357 - val_accuracy: 0.9528\n",
            "Epoch 8/20\n",
            "507/507 [==============================] - 51s 100ms/step - loss: 0.0974 - accuracy: 0.9654 - val_loss: 0.1819 - val_accuracy: 0.9349\n",
            "Epoch 9/20\n",
            "507/507 [==============================] - 51s 100ms/step - loss: 0.0845 - accuracy: 0.9674 - val_loss: 0.1874 - val_accuracy: 0.9362\n",
            "Epoch 10/20\n",
            "507/507 [==============================] - 51s 102ms/step - loss: 0.0780 - accuracy: 0.9716 - val_loss: 0.1382 - val_accuracy: 0.9508\n",
            "Epoch 11/20\n",
            "507/507 [==============================] - 50s 99ms/step - loss: 0.0601 - accuracy: 0.9789 - val_loss: 0.1284 - val_accuracy: 0.9561\n",
            "Epoch 12/20\n",
            "507/507 [==============================] - 49s 97ms/step - loss: 0.0610 - accuracy: 0.9781 - val_loss: 0.1375 - val_accuracy: 0.9528\n",
            "Epoch 13/20\n",
            "507/507 [==============================] - 49s 97ms/step - loss: 0.0464 - accuracy: 0.9822 - val_loss: 0.1416 - val_accuracy: 0.9588\n",
            "Epoch 14/20\n",
            "507/507 [==============================] - 50s 99ms/step - loss: 0.0436 - accuracy: 0.9846 - val_loss: 0.1797 - val_accuracy: 0.9528\n",
            "Epoch 15/20\n",
            "507/507 [==============================] - 50s 98ms/step - loss: 0.0405 - accuracy: 0.9865 - val_loss: 0.1478 - val_accuracy: 0.9595\n",
            "Epoch 16/20\n",
            "507/507 [==============================] - 50s 98ms/step - loss: 0.0346 - accuracy: 0.9878 - val_loss: 0.1469 - val_accuracy: 0.9628\n"
          ],
          "name": "stdout"
        }
      ]
    },
    {
      "cell_type": "code",
      "metadata": {
        "id": "h77O_EreJsTJ",
        "colab": {
          "base_uri": "https://localhost:8080/"
        },
        "outputId": "18dd8167-01bc-46a4-cf4c-03eb2efe7e0e"
      },
      "source": [
        "history.history"
      ],
      "execution_count": null,
      "outputs": [
        {
          "output_type": "execute_result",
          "data": {
            "text/plain": [
              "{'accuracy': [0.7597875595092773,\n",
              "  0.8751389384269714,\n",
              "  0.9121897220611572,\n",
              "  0.9249104857444763,\n",
              "  0.9394837617874146,\n",
              "  0.9534395337104797,\n",
              "  0.960479199886322,\n",
              "  0.9654192924499512,\n",
              "  0.9673953056335449,\n",
              "  0.9715943932533264,\n",
              "  0.9788810610771179,\n",
              "  0.9781400561332703,\n",
              "  0.9822156429290771,\n",
              "  0.9845621585845947,\n",
              "  0.9865382313728333,\n",
              "  0.9877732396125793],\n",
              " 'loss': [0.5315805673599243,\n",
              "  0.3077203929424286,\n",
              "  0.22513854503631592,\n",
              "  0.1952570378780365,\n",
              "  0.1598777025938034,\n",
              "  0.12642733752727509,\n",
              "  0.11109338700771332,\n",
              "  0.09738572686910629,\n",
              "  0.08448626846075058,\n",
              "  0.07802886515855789,\n",
              "  0.06006240099668503,\n",
              "  0.06102360039949417,\n",
              "  0.04641888663172722,\n",
              "  0.04361028969287872,\n",
              "  0.0405416302382946,\n",
              "  0.034559570252895355],\n",
              " 'val_accuracy': [0.8637873530387878,\n",
              "  0.9182724356651306,\n",
              "  0.9016611576080322,\n",
              "  0.920265793800354,\n",
              "  0.9328903555870056,\n",
              "  0.9481727480888367,\n",
              "  0.9528239369392395,\n",
              "  0.934883713722229,\n",
              "  0.9362125992774963,\n",
              "  0.9508305788040161,\n",
              "  0.9561461806297302,\n",
              "  0.9528239369392395,\n",
              "  0.9588040113449097,\n",
              "  0.9528239369392395,\n",
              "  0.959468424320221,\n",
              "  0.9627906680107117],\n",
              " 'val_loss': [0.3297583758831024,\n",
              "  0.21916396915912628,\n",
              "  0.2684277892112732,\n",
              "  0.21855272352695465,\n",
              "  0.171286940574646,\n",
              "  0.13878409564495087,\n",
              "  0.13569392263889313,\n",
              "  0.18188738822937012,\n",
              "  0.18739305436611176,\n",
              "  0.13820362091064453,\n",
              "  0.12840396165847778,\n",
              "  0.1374569982290268,\n",
              "  0.14163708686828613,\n",
              "  0.1797448843717575,\n",
              "  0.1477779597043991,\n",
              "  0.14691881835460663]}"
            ]
          },
          "metadata": {
            "tags": []
          },
          "execution_count": 31
        }
      ]
    },
    {
      "cell_type": "code",
      "metadata": {
        "id": "Zrs1bMDdIN-U",
        "colab": {
          "base_uri": "https://localhost:8080/",
          "height": 497
        },
        "outputId": "d732bf2f-3030-461b-c367-12a72338f60b"
      },
      "source": [
        "acc = history.history['accuracy']\n",
        "val_acc = history.history['val_accuracy']\n",
        "\n",
        "loss = history.history['loss']\n",
        "val_loss = history.history['val_loss']\n",
        "\n",
        "epochs_range = range(len(acc))\n",
        "\n",
        "plt.figure(figsize=(8, 8))\n",
        "# plt.subplot(1, 2, 1)\n",
        "plt.plot(epochs_range, acc, label='Training')\n",
        "plt.plot(epochs_range, val_acc, label='Validation')\n",
        "plt.legend(loc='best')\n",
        "plt.xlabel('Number of epochs')\n",
        "plt.ylabel('Accuracy')\n",
        "plt.savefig('accuracy.png', dpi=300)\n",
        "plt.show()\n",
        "\n",
        "# plt.subplot(1, 2, 2)"
      ],
      "execution_count": null,
      "outputs": [
        {
          "output_type": "display_data",
          "data": {
            "image/png": "[encoded data removed]",
            "text/plain": [
              "<Figure size 576x576 with 1 Axes>"
            ]
          },
          "metadata": {
            "tags": [],
            "needs_background": "light"
          }
        }
      ]
    },
    {
      "cell_type": "code",
      "metadata": {
        "id": "vvkQDH0SZVA_",
        "colab": {
          "base_uri": "https://localhost:8080/",
          "height": 497
        },
        "outputId": "4b2e2149-f9e9-42a3-c5e9-abafd783355f"
      },
      "source": [
        "plt.figure(figsize=(8, 8))\n",
        "plt.plot(epochs_range, loss, label='Training')\n",
        "plt.plot(epochs_range, val_loss, label='Validation')\n",
        "plt.legend(loc='best')\n",
        "plt.xlabel('Number of epochs')\n",
        "plt.ylabel('Loss')\n",
        "plt.savefig('loss.png', dpi=300)\n",
        "plt.show()"
      ],
      "execution_count": null,
      "outputs": [
        {
          "output_type": "display_data",
          "data": {
            "image/png": "[encoded data removed]",
            "text/plain": [
              "<Figure size 576x576 with 1 Axes>"
            ]
          },
          "metadata": {
            "tags": [],
            "needs_background": "light"
          }
        }
      ]
    },
    {
      "cell_type": "code",
      "metadata": {
        "id": "OzFahzRqg4zy"
      },
      "source": [
        "classification = tf.keras.models.load_model('covid_classification.h5')  ## load best model"
      ],
      "execution_count": null,
      "outputs": []
    },
    {
      "cell_type": "code",
      "metadata": {
        "colab": {
          "base_uri": "https://localhost:8080/"
        },
        "id": "K3qvt3fyKH4h",
        "outputId": "ebf8b254-684e-4dd2-c600-5fe92fd750e6"
      },
      "source": [
        "for ix, ly in enumerate(classification.layers):\n",
        "  print(ix, ly, ly.trainable)"
      ],
      "execution_count": null,
      "outputs": [
        {
          "output_type": "stream",
          "text": [
            "0 <tensorflow.python.keras.engine.input_layer.InputLayer object at 0x7fb497f34ad0> True\n",
            "1 <tensorflow.python.keras.layers.convolutional.Conv2D object at 0x7fb497fe6a90> False\n",
            "2 <tensorflow.python.keras.layers.convolutional.Conv2D object at 0x7fb497f68050> False\n",
            "3 <tensorflow.python.keras.layers.pooling.MaxPooling2D object at 0x7fb497f68950> False\n",
            "4 <tensorflow.python.keras.layers.convolutional.Conv2D object at 0x7fb497f68ed0> False\n",
            "5 <tensorflow.python.keras.layers.pooling.MaxPooling2D object at 0x7fb497f6c390> False\n",
            "6 <tensorflow.python.keras.layers.convolutional.Conv2D object at 0x7fb497f34bd0> False\n",
            "7 <tensorflow.python.keras.layers.pooling.MaxPooling2D object at 0x7fb497f6cd50> False\n",
            "8 <tensorflow.python.keras.layers.convolutional.Conv2D object at 0x7fb497f6d310> False\n",
            "9 <tensorflow.python.keras.layers.pooling.MaxPooling2D object at 0x7fb497f34150> False\n",
            "10 <tensorflow.python.keras.layers.convolutional.Conv2D object at 0x7fb4ebe64450> False\n",
            "11 <tensorflow.python.keras.layers.pooling.MaxPooling2D object at 0x7fb497f6d590> False\n",
            "12 <tensorflow.python.keras.layers.core.Reshape object at 0x7fb497f6dad0> True\n",
            "13 <tensorflow.python.keras.layers.recurrent_v2.LSTM object at 0x7fb498007510> True\n",
            "14 <tensorflow.python.keras.layers.recurrent_v2.LSTM object at 0x7fb497ef1710> True\n",
            "15 <tensorflow.python.keras.layers.recurrent_v2.LSTM object at 0x7fb497ef6250> True\n",
            "16 <tensorflow.python.keras.layers.core.Flatten object at 0x7fb497ef6cd0> True\n",
            "17 <tensorflow.python.keras.layers.core.Dense object at 0x7fb497ef6e90> True\n",
            "18 <tensorflow.python.keras.layers.core.Dense object at 0x7fb497eff350> True\n"
          ],
          "name": "stdout"
        }
      ]
    },
    {
      "cell_type": "code",
      "metadata": {
        "id": "y72nkxlxKNJo"
      },
      "source": [
        "classification.layers[10].trainable = True\n",
        "classification.layers[11].trainable = True"
      ],
      "execution_count": null,
      "outputs": []
    },
    {
      "cell_type": "code",
      "metadata": {
        "colab": {
          "base_uri": "https://localhost:8080/"
        },
        "id": "O4D4AkHahHOU",
        "outputId": "11c030f9-c674-43d8-c750-707d43a7e5e3"
      },
      "source": [
        "history_unfreeze_l2 = classification.fit(train_generator,\n",
        "                              epochs=epochs,\n",
        "                              validation_data=valid_generator,\n",
        "                              callbacks=[early_stopping_cb, checkpoint_cb])"
      ],
      "execution_count": null,
      "outputs": [
        {
          "output_type": "stream",
          "text": [
            "Epoch 1/20\n",
            "507/507 [==============================] - 53s 100ms/step - loss: 0.0609 - accuracy: 0.9774 - val_loss: 0.1476 - val_accuracy: 0.9568\n",
            "Epoch 2/20\n",
            "507/507 [==============================] - 50s 99ms/step - loss: 0.0409 - accuracy: 0.9857 - val_loss: 0.1878 - val_accuracy: 0.9508\n",
            "Epoch 3/20\n",
            "507/507 [==============================] - 49s 97ms/step - loss: 0.0464 - accuracy: 0.9832 - val_loss: 0.1573 - val_accuracy: 0.9668\n",
            "Epoch 4/20\n",
            "507/507 [==============================] - 51s 100ms/step - loss: 0.0391 - accuracy: 0.9849 - val_loss: 0.1698 - val_accuracy: 0.9641\n",
            "Epoch 5/20\n",
            "507/507 [==============================] - 50s 99ms/step - loss: 0.0339 - accuracy: 0.9874 - val_loss: 0.1549 - val_accuracy: 0.9555\n",
            "Epoch 6/20\n",
            "507/507 [==============================] - 50s 98ms/step - loss: 0.0320 - accuracy: 0.9880 - val_loss: 0.1628 - val_accuracy: 0.9575\n"
          ],
          "name": "stdout"
        }
      ]
    },
    {
      "cell_type": "code",
      "metadata": {
        "id": "bALcJ9x3hOyp",
        "colab": {
          "base_uri": "https://localhost:8080/"
        },
        "outputId": "e9b3a303-9226-43f6-d5c4-9be4ff45d519"
      },
      "source": [
        "history_unfreeze_l2.history"
      ],
      "execution_count": null,
      "outputs": [
        {
          "output_type": "execute_result",
          "data": {
            "text/plain": [
              "{'accuracy': [0.9773990511894226,\n",
              "  0.985673725605011,\n",
              "  0.983203649520874,\n",
              "  0.9849327206611633,\n",
              "  0.9874027371406555,\n",
              "  0.9880202412605286],\n",
              " 'loss': [0.06087088957428932,\n",
              "  0.040920842438936234,\n",
              "  0.04642781242728233,\n",
              "  0.03912176564335823,\n",
              "  0.033863525837659836,\n",
              "  0.03202168270945549],\n",
              " 'val_accuracy': [0.9568106532096863,\n",
              "  0.9508305788040161,\n",
              "  0.9667773842811584,\n",
              "  0.9641196131706238,\n",
              "  0.9554817080497742,\n",
              "  0.9574750661849976],\n",
              " 'val_loss': [0.14759914577007294,\n",
              "  0.1878010779619217,\n",
              "  0.1572505235671997,\n",
              "  0.16975408792495728,\n",
              "  0.15485325455665588,\n",
              "  0.16284485161304474]}"
            ]
          },
          "metadata": {
            "tags": []
          },
          "execution_count": 38
        }
      ]
    },
    {
      "cell_type": "code",
      "metadata": {
        "id": "rk1bbn8zhj3c",
        "colab": {
          "base_uri": "https://localhost:8080/",
          "height": 497
        },
        "outputId": "2c6af30d-2155-4450-8ec1-583f1e074d02"
      },
      "source": [
        "acc = history_unfreeze_l2.history['accuracy']\n",
        "val_acc = history_unfreeze_l2.history['val_accuracy']\n",
        "\n",
        "loss = history_unfreeze_l2.history['loss']\n",
        "val_loss = history_unfreeze_l2.history['val_loss']\n",
        "\n",
        "epochs_range = range(len(acc))\n",
        "\n",
        "plt.figure(figsize=(8, 8))\n",
        "# plt.subplot(1, 2, 1)\n",
        "plt.plot(epochs_range, acc, label='Training')\n",
        "plt.plot(epochs_range, val_acc, label='Validation')\n",
        "plt.legend(loc='best')\n",
        "plt.xlabel('Number of epochs')\n",
        "plt.ylabel('Accuracy')\n",
        "plt.savefig('accuracy_unfreeze_l2.png', dpi=300)\n",
        "plt.show()\n",
        "\n",
        "# plt.subplot(1, 2, 2)"
      ],
      "execution_count": null,
      "outputs": [
        {
          "output_type": "display_data",
          "data": {
            "image/png": "[encoded data removed]",
            "text/plain": [
              "<Figure size 576x576 with 1 Axes>"
            ]
          },
          "metadata": {
            "tags": [],
            "needs_background": "light"
          }
        }
      ]
    },
    {
      "cell_type": "code",
      "metadata": {
        "id": "uBvmRDjahveF",
        "colab": {
          "base_uri": "https://localhost:8080/",
          "height": 497
        },
        "outputId": "b1ebd943-ccf2-46fd-b63d-f09e941a85b5"
      },
      "source": [
        "plt.figure(figsize=(8, 8))\n",
        "plt.plot(epochs_range, loss, label='Training')\n",
        "plt.plot(epochs_range, val_loss, label='Validation')\n",
        "plt.legend(loc='best')\n",
        "plt.xlabel('Number of epochs')\n",
        "plt.ylabel('Loss')\n",
        "plt.savefig('loss_unfreeze_l2.png', dpi=300)\n",
        "plt.show()"
      ],
      "execution_count": null,
      "outputs": [
        {
          "output_type": "display_data",
          "data": {
            "image/png": "[encoded data removed]",
            "text/plain": [
              "<Figure size 576x576 with 1 Axes>"
            ]
          },
          "metadata": {
            "tags": [],
            "needs_background": "light"
          }
        }
      ]
    },
    {
      "cell_type": "code",
      "metadata": {
        "id": "VROUVgIZK1dP"
      },
      "source": [
        "classification = tf.keras.models.load_model('covid_classification.h5')  ## load best model"
      ],
      "execution_count": null,
      "outputs": []
    },
    {
      "cell_type": "code",
      "metadata": {
        "id": "p4tkx561K1ay"
      },
      "source": [
        "classification.layers[6].trainable = True\n",
        "classification.layers[7].trainable = True\n",
        "classification.layers[8].trainable = True\n",
        "classification.layers[9].trainable = True"
      ],
      "execution_count": null,
      "outputs": []
    },
    {
      "cell_type": "code",
      "metadata": {
        "id": "q9gxaSPZK1YU"
      },
      "source": [
        "classification.compile(optimizer=tf.keras.optimizers.Adam(learning_rate=5e-5), loss='categorical_crossentropy', metrics=['accuracy'])"
      ],
      "execution_count": null,
      "outputs": []
    },
    {
      "cell_type": "code",
      "metadata": {
        "id": "hwKsMZo1K1Vw",
        "colab": {
          "base_uri": "https://localhost:8080/"
        },
        "outputId": "4ef65572-b294-4147-ceb0-eef2357655aa"
      },
      "source": [
        "history_unfreeze_l6 = classification.fit(train_generator,\n",
        "                              epochs=epochs,\n",
        "                              validation_data=valid_generator,\n",
        "                              callbacks=[early_stopping_cb, checkpoint_cb])"
      ],
      "execution_count": null,
      "outputs": [
        {
          "output_type": "stream",
          "text": [
            "Epoch 1/20\n",
            "507/507 [==============================] - 59s 104ms/step - loss: 0.0264 - accuracy: 0.9914 - val_loss: 0.1321 - val_accuracy: 0.9575\n",
            "Epoch 2/20\n",
            "507/507 [==============================] - 52s 103ms/step - loss: 0.0135 - accuracy: 0.9956 - val_loss: 0.1581 - val_accuracy: 0.9628\n",
            "Epoch 3/20\n",
            "507/507 [==============================] - 54s 106ms/step - loss: 0.0081 - accuracy: 0.9968 - val_loss: 0.1676 - val_accuracy: 0.9555\n",
            "Epoch 4/20\n",
            "507/507 [==============================] - 51s 101ms/step - loss: 0.0033 - accuracy: 0.9993 - val_loss: 0.1689 - val_accuracy: 0.9628\n",
            "Epoch 5/20\n",
            "507/507 [==============================] - 51s 101ms/step - loss: 9.6445e-04 - accuracy: 1.0000 - val_loss: 0.1876 - val_accuracy: 0.9601\n",
            "Epoch 6/20\n",
            "507/507 [==============================] - 51s 100ms/step - loss: 2.8631e-04 - accuracy: 1.0000 - val_loss: 0.1921 - val_accuracy: 0.9615\n"
          ],
          "name": "stdout"
        }
      ]
    },
    {
      "cell_type": "code",
      "metadata": {
        "id": "-gE3FuBIK1Td",
        "colab": {
          "base_uri": "https://localhost:8080/"
        },
        "outputId": "c0e53887-bf95-4de2-feb2-5ffc1961f6b5"
      },
      "source": [
        "history_unfreeze_l6.history"
      ],
      "execution_count": null,
      "outputs": [
        {
          "output_type": "execute_result",
          "data": {
            "text/plain": [
              "{'accuracy': [0.9913548231124878,\n",
              "  0.9955539107322693,\n",
              "  0.9967889189720154,\n",
              "  0.9992589950561523,\n",
              "  1.0,\n",
              "  1.0],\n",
              " 'loss': [0.02636817656457424,\n",
              "  0.01354555319994688,\n",
              "  0.008148415014147758,\n",
              "  0.0033066519536077976,\n",
              "  0.000964451115578413,\n",
              "  0.0002863139088731259],\n",
              " 'val_accuracy': [0.9574750661849976,\n",
              "  0.9627906680107117,\n",
              "  0.9554817080497742,\n",
              "  0.9627906680107117,\n",
              "  0.960132896900177,\n",
              "  0.9614617824554443],\n",
              " 'val_loss': [0.13210856914520264,\n",
              "  0.15812285244464874,\n",
              "  0.16764503717422485,\n",
              "  0.16894441843032837,\n",
              "  0.18756666779518127,\n",
              "  0.1920904666185379]}"
            ]
          },
          "metadata": {
            "tags": []
          },
          "execution_count": 45
        }
      ]
    },
    {
      "cell_type": "code",
      "metadata": {
        "id": "2S8CB1ptK1RK",
        "colab": {
          "base_uri": "https://localhost:8080/",
          "height": 497
        },
        "outputId": "b3cc27ce-68e8-4ba9-eee5-ba98bb6c2099"
      },
      "source": [
        "acc = history_unfreeze_l6.history['accuracy']\n",
        "val_acc = history_unfreeze_l6.history['val_accuracy']\n",
        "\n",
        "loss = history_unfreeze_l6.history['loss']\n",
        "val_loss = history_unfreeze_l6.history['val_loss']\n",
        "\n",
        "epochs_range = range(len(acc))\n",
        "\n",
        "plt.figure(figsize=(8, 8))\n",
        "# plt.subplot(1, 2, 1)\n",
        "plt.plot(epochs_range, acc, label='Training')\n",
        "plt.plot(epochs_range, val_acc, label='Validation')\n",
        "plt.legend(loc='best')\n",
        "plt.xlabel('Number of epochs')\n",
        "plt.ylabel('Accuracy')\n",
        "plt.savefig('accuracy_unfreeze_l6.png', dpi=300)\n",
        "plt.show()\n",
        "\n",
        "# plt.subplot(1, 2, 2)"
      ],
      "execution_count": null,
      "outputs": [
        {
          "output_type": "display_data",
          "data": {
            "image/png": "[encoded data removed]",
            "text/plain": [
              "<Figure size 576x576 with 1 Axes>"
            ]
          },
          "metadata": {
            "tags": [],
            "needs_background": "light"
          }
        }
      ]
    },
    {
      "cell_type": "code",
      "metadata": {
        "id": "P6zYvCZlK1O9",
        "colab": {
          "base_uri": "https://localhost:8080/",
          "height": 497
        },
        "outputId": "370d36c6-2c3d-4091-9646-bf28d30cce72"
      },
      "source": [
        "plt.figure(figsize=(8, 8))\n",
        "plt.plot(epochs_range, loss, label='Training')\n",
        "plt.plot(epochs_range, val_loss, label='Validation')\n",
        "plt.legend(loc='best')\n",
        "plt.xlabel('Number of epochs')\n",
        "plt.ylabel('Loss')\n",
        "plt.savefig('loss_unfreeze_l6.png', dpi=300)\n",
        "plt.show()"
      ],
      "execution_count": null,
      "outputs": [
        {
          "output_type": "display_data",
          "data": {
            "image/png": "[encoded data removed]",
            "text/plain": [
              "<Figure size 576x576 with 1 Axes>"
            ]
          },
          "metadata": {
            "tags": [],
            "needs_background": "light"
          }
        }
      ]
    },
    {
      "cell_type": "code",
      "metadata": {
        "id": "BG0NzSHnK1Mo"
      },
      "source": [
        "classification = tf.keras.models.load_model('covid_classification.h5')  ## load best model"
      ],
      "execution_count": null,
      "outputs": []
    },
    {
      "cell_type": "code",
      "metadata": {
        "id": "uhavqcX5K1Jd"
      },
      "source": [
        "for i in classification.layers:\n",
        "  i.trainable=True"
      ],
      "execution_count": null,
      "outputs": []
    },
    {
      "cell_type": "code",
      "metadata": {
        "id": "1f1LmFhJK1Gu"
      },
      "source": [
        "classification.compile(optimizer=tf.keras.optimizers.Adam(learning_rate=1e-5), loss='categorical_crossentropy', metrics=['accuracy'])"
      ],
      "execution_count": null,
      "outputs": []
    },
    {
      "cell_type": "code",
      "metadata": {
        "id": "VCYAHBRZMVbL",
        "colab": {
          "base_uri": "https://localhost:8080/"
        },
        "outputId": "515edb26-4725-4d0f-bba8-ed4e11eb3458"
      },
      "source": [
        "history_unfreeze_all = classification.fit(train_generator,\n",
        "                              epochs=epochs,\n",
        "                              validation_data=valid_generator,\n",
        "                              callbacks=[early_stopping_cb, checkpoint_cb])"
      ],
      "execution_count": null,
      "outputs": [
        {
          "output_type": "stream",
          "text": [
            "Epoch 1/20\n",
            "507/507 [==============================] - 75s 138ms/step - loss: 0.0248 - accuracy: 0.9932 - val_loss: 0.1398 - val_accuracy: 0.9548\n",
            "Epoch 2/20\n",
            "507/507 [==============================] - 68s 134ms/step - loss: 0.0137 - accuracy: 0.9963 - val_loss: 0.1378 - val_accuracy: 0.9615\n",
            "Epoch 3/20\n",
            "507/507 [==============================] - 68s 133ms/step - loss: 0.0085 - accuracy: 0.9980 - val_loss: 0.1484 - val_accuracy: 0.9601\n",
            "Epoch 4/20\n",
            "507/507 [==============================] - 67s 133ms/step - loss: 0.0046 - accuracy: 0.9995 - val_loss: 0.1432 - val_accuracy: 0.9628\n",
            "Epoch 5/20\n",
            "507/507 [==============================] - 68s 133ms/step - loss: 0.0028 - accuracy: 0.9999 - val_loss: 0.1472 - val_accuracy: 0.9661\n",
            "Epoch 6/20\n",
            "507/507 [==============================] - 67s 132ms/step - loss: 0.0015 - accuracy: 1.0000 - val_loss: 0.1498 - val_accuracy: 0.9648\n",
            "Epoch 7/20\n",
            "507/507 [==============================] - 69s 135ms/step - loss: 9.6284e-04 - accuracy: 1.0000 - val_loss: 0.1595 - val_accuracy: 0.9628\n"
          ],
          "name": "stdout"
        }
      ]
    },
    {
      "cell_type": "code",
      "metadata": {
        "id": "koPb5mNaMVWQ",
        "colab": {
          "base_uri": "https://localhost:8080/"
        },
        "outputId": "483913e7-18eb-4de5-8f88-7054c5a59f21"
      },
      "source": [
        "history_unfreeze_all.history"
      ],
      "execution_count": null,
      "outputs": [
        {
          "output_type": "execute_result",
          "data": {
            "text/plain": [
              "{'accuracy': [0.9932073354721069,\n",
              "  0.9962949156761169,\n",
              "  0.9980239868164062,\n",
              "  0.9995059967041016,\n",
              "  0.9998764991760254,\n",
              "  1.0,\n",
              "  1.0],\n",
              " 'loss': [0.02481984533369541,\n",
              "  0.013728447258472443,\n",
              "  0.00851959828287363,\n",
              "  0.004649192560464144,\n",
              "  0.0028221909888088703,\n",
              "  0.001510972622781992,\n",
              "  0.000962842081207782],\n",
              " 'val_accuracy': [0.9548172950744629,\n",
              "  0.9614617824554443,\n",
              "  0.960132896900177,\n",
              "  0.9627906680107117,\n",
              "  0.9661129713058472,\n",
              "  0.9647840261459351,\n",
              "  0.9627906680107117],\n",
              " 'val_loss': [0.13979457318782806,\n",
              "  0.13776402175426483,\n",
              "  0.14835436642169952,\n",
              "  0.14319224655628204,\n",
              "  0.14720386266708374,\n",
              "  0.14975373446941376,\n",
              "  0.1595383733510971]}"
            ]
          },
          "metadata": {
            "tags": []
          },
          "execution_count": 52
        }
      ]
    },
    {
      "cell_type": "code",
      "metadata": {
        "id": "ZcE36N_qMh3l",
        "colab": {
          "base_uri": "https://localhost:8080/",
          "height": 497
        },
        "outputId": "5b92b7c6-2419-4f75-d053-4b3ca64e839c"
      },
      "source": [
        "acc = history_unfreeze_all.history['accuracy']\n",
        "val_acc = history_unfreeze_all.history['val_accuracy']\n",
        "\n",
        "loss = history_unfreeze_all.history['loss']\n",
        "val_loss = history_unfreeze_all.history['val_loss']\n",
        "\n",
        "epochs_range = range(len(acc))\n",
        "\n",
        "plt.figure(figsize=(8, 8))\n",
        "# plt.subplot(1, 2, 1)\n",
        "plt.plot(epochs_range, acc, label='Training')\n",
        "plt.plot(epochs_range, val_acc, label='Validation')\n",
        "plt.legend(loc='best')\n",
        "plt.xlabel('Number of epochs')\n",
        "plt.ylabel('Accuracy')\n",
        "plt.savefig('accuracy_unfreeze_all.png', dpi=300)\n",
        "plt.show()\n",
        "\n",
        "# plt.subplot(1, 2, 2)"
      ],
      "execution_count": null,
      "outputs": [
        {
          "output_type": "display_data",
          "data": {
            "image/png": "[encoded data removed]",
            "text/plain": [
              "<Figure size 576x576 with 1 Axes>"
            ]
          },
          "metadata": {
            "tags": [],
            "needs_background": "light"
          }
        }
      ]
    },
    {
      "cell_type": "code",
      "metadata": {
        "id": "4YXxjJpqMh0G",
        "colab": {
          "base_uri": "https://localhost:8080/",
          "height": 497
        },
        "outputId": "14a8d646-74ae-488d-85db-8f4c824af897"
      },
      "source": [
        "plt.figure(figsize=(8, 8))\n",
        "plt.plot(epochs_range, loss, label='Training')\n",
        "plt.plot(epochs_range, val_loss, label='Validation')\n",
        "plt.legend(loc='best')\n",
        "plt.xlabel('Number of epochs')\n",
        "plt.ylabel('Loss')\n",
        "plt.savefig('loss_unfreeze_all.png', dpi=300)\n",
        "plt.show()"
      ],
      "execution_count": null,
      "outputs": [
        {
          "output_type": "display_data",
          "data": {
            "image/png": "[encoded data removed]",
            "text/plain": [
              "<Figure size 576x576 with 1 Axes>"
            ]
          },
          "metadata": {
            "tags": [],
            "needs_background": "light"
          }
        }
      ]
    },
    {
      "cell_type": "code",
      "metadata": {
        "id": "e-53b-MyMVN3"
      },
      "source": [
        "classification = tf.keras.models.load_model('covid_classification.h5')  ## load best model"
      ],
      "execution_count": null,
      "outputs": []
    },
    {
      "cell_type": "code",
      "metadata": {
        "id": "s3ymWt4dhz4s"
      },
      "source": [
        "train_loss = history.history['loss']+history_unfreeze_l2.history['loss']+history_unfreeze_l6.history['loss']+history_unfreeze_all.history['loss']"
      ],
      "execution_count": null,
      "outputs": []
    },
    {
      "cell_type": "code",
      "metadata": {
        "id": "aYEaTf1mhzw3"
      },
      "source": [
        "train_acc = history.history['accuracy']+history_unfreeze_l2.history['accuracy']+history_unfreeze_l6.history['accuracy']+history_unfreeze_all.history['accuracy']"
      ],
      "execution_count": null,
      "outputs": []
    },
    {
      "cell_type": "code",
      "metadata": {
        "id": "Kh9A8jm-hziy"
      },
      "source": [
        "val_loss = history.history['val_loss']+history_unfreeze_l2.history['val_loss']+history_unfreeze_l6.history['val_loss']+history_unfreeze_all.history['val_loss']"
      ],
      "execution_count": null,
      "outputs": []
    },
    {
      "cell_type": "code",
      "metadata": {
        "id": "E5QelmLsiWRs"
      },
      "source": [
        "val_acc = history.history['val_accuracy']+history_unfreeze_l2.history['val_accuracy']+history_unfreeze_l6.history['val_accuracy']+history_unfreeze_all.history['val_accuracy']"
      ],
      "execution_count": null,
      "outputs": []
    },
    {
      "cell_type": "code",
      "metadata": {
        "id": "Vgl-v-ToihCB",
        "colab": {
          "base_uri": "https://localhost:8080/",
          "height": 497
        },
        "outputId": "50cc1fc7-5b2b-4fa4-d289-83afb795c7f8"
      },
      "source": [
        "epochs_range = range(len(train_loss))\n",
        "\n",
        "plt.figure(figsize=(8, 8))\n",
        "# plt.subplot(1, 2, 1)\n",
        "plt.plot(epochs_range, train_acc, label='Training')\n",
        "plt.plot(epochs_range, val_acc, label='Validation')\n",
        "plt.legend(loc='best')\n",
        "plt.xlabel('Number of epochs')\n",
        "plt.ylabel('Accuracy')\n",
        "plt.savefig('accuracy_overall.png', dpi=300)\n",
        "plt.show()"
      ],
      "execution_count": null,
      "outputs": [
        {
          "output_type": "display_data",
          "data": {
            "image/png": "[encoded data removed]",
            "text/plain": [
              "<Figure size 576x576 with 1 Axes>"
            ]
          },
          "metadata": {
            "tags": [],
            "needs_background": "light"
          }
        }
      ]
    },
    {
      "cell_type": "code",
      "metadata": {
        "id": "rtyVjzoei38M",
        "colab": {
          "base_uri": "https://localhost:8080/",
          "height": 497
        },
        "outputId": "91fd6384-fb53-4b5e-f19e-0b6cb1584c80"
      },
      "source": [
        "plt.figure(figsize=(8, 8))\n",
        "plt.plot(epochs_range, train_loss, label='Training')\n",
        "plt.plot(epochs_range, val_loss, label='Validation')\n",
        "plt.legend(loc='best')\n",
        "plt.xlabel('Number of epochs')\n",
        "plt.ylabel('Loss')\n",
        "plt.savefig('loss_overall.png', dpi=300)\n",
        "plt.show()"
      ],
      "execution_count": null,
      "outputs": [
        {
          "output_type": "display_data",
          "data": {
            "image/png": "[encoded data removed]",
            "text/plain": [
              "<Figure size 576x576 with 1 Axes>"
            ]
          },
          "metadata": {
            "tags": [],
            "needs_background": "light"
          }
        }
      ]
    },
    {
      "cell_type": "markdown",
      "metadata": {
        "id": "Fuq48LrKihkQ"
      },
      "source": [
        "# TESTING "
      ]
    },
    {
      "cell_type": "code",
      "metadata": {
        "id": "EEHtqflU5OfA",
        "colab": {
          "base_uri": "https://localhost:8080/"
        },
        "outputId": "7a673d94-7c24-4d4a-c262-3b8b85f045a5"
      },
      "source": [
        "TESING_DIR = 'split_data/test/'\n",
        "test_datagen = tf.keras.preprocessing.image.ImageDataGenerator(rescale=1 / 255.0)\n",
        "test_generator = test_datagen.flow_from_directory(TESING_DIR,\n",
        "                                                    target_size=(224, 224),\n",
        "                                                    class_mode='categorical',\n",
        "                                                    shuffle=False,\n",
        "                                                    batch_size=32)"
      ],
      "execution_count": null,
      "outputs": [
        {
          "output_type": "stream",
          "text": [
            "Found 1507 images belonging to 3 classes.\n"
          ],
          "name": "stdout"
        }
      ]
    },
    {
      "cell_type": "code",
      "metadata": {
        "id": "UgmQVpEQL2_r"
      },
      "source": [
        "predictions = classification.predict(test_generator)"
      ],
      "execution_count": null,
      "outputs": []
    },
    {
      "cell_type": "code",
      "metadata": {
        "colab": {
          "base_uri": "https://localhost:8080/"
        },
        "id": "bgQiwU9uMTbb",
        "outputId": "e7027e76-cbc9-4ee4-ad83-b493eb7d164f"
      },
      "source": [
        "predictions.shape"
      ],
      "execution_count": null,
      "outputs": [
        {
          "output_type": "execute_result",
          "data": {
            "text/plain": [
              "(1507, 3)"
            ]
          },
          "metadata": {
            "tags": []
          },
          "execution_count": 64
        }
      ]
    },
    {
      "cell_type": "code",
      "metadata": {
        "colab": {
          "base_uri": "https://localhost:8080/"
        },
        "id": "Gdn76SBCL23y",
        "outputId": "c01afa65-18cd-431e-8ad9-6a40473b2912"
      },
      "source": [
        "predicted_classes = np.argmax(predictions, axis=-1)\n",
        "min(predicted_classes),max(predicted_classes)  ## must be 0,2"
      ],
      "execution_count": null,
      "outputs": [
        {
          "output_type": "execute_result",
          "data": {
            "text/plain": [
              "(0, 2)"
            ]
          },
          "metadata": {
            "tags": []
          },
          "execution_count": 65
        }
      ]
    },
    {
      "cell_type": "code",
      "metadata": {
        "colab": {
          "base_uri": "https://localhost:8080/"
        },
        "id": "NMchV7tmL2hp",
        "outputId": "5d91df42-03b6-4cb0-f567-272cb8d6702e"
      },
      "source": [
        "test_generator.class_indices"
      ],
      "execution_count": null,
      "outputs": [
        {
          "output_type": "execute_result",
          "data": {
            "text/plain": [
              "{'COVID': 0, 'NORMAL': 1, 'PNEUMONIA': 2}"
            ]
          },
          "metadata": {
            "tags": []
          },
          "execution_count": 66
        }
      ]
    },
    {
      "cell_type": "code",
      "metadata": {
        "colab": {
          "base_uri": "https://localhost:8080/"
        },
        "id": "vi46if6sM5uZ",
        "outputId": "c69f9a53-4b8a-4995-cdad-e77aeb7dfe12"
      },
      "source": [
        "test_generator.classes"
      ],
      "execution_count": null,
      "outputs": [
        {
          "output_type": "execute_result",
          "data": {
            "text/plain": [
              "array([0, 0, 0, ..., 2, 2, 2], dtype=int32)"
            ]
          },
          "metadata": {
            "tags": []
          },
          "execution_count": 67
        }
      ]
    },
    {
      "cell_type": "code",
      "metadata": {
        "id": "LpvOBZ5JL2w1"
      },
      "source": [
        "labels = test_generator.classes"
      ],
      "execution_count": null,
      "outputs": []
    },
    {
      "cell_type": "code",
      "metadata": {
        "colab": {
          "base_uri": "https://localhost:8080/"
        },
        "id": "-LVhXM1mK3nt",
        "outputId": "830acb5c-cd48-4869-84f6-52bc57f5c647"
      },
      "source": [
        "class_names = list(test_generator.class_indices.keys())\n",
        "class_names"
      ],
      "execution_count": null,
      "outputs": [
        {
          "output_type": "execute_result",
          "data": {
            "text/plain": [
              "['COVID', 'NORMAL', 'PNEUMONIA']"
            ]
          },
          "metadata": {
            "tags": []
          },
          "execution_count": 69
        }
      ]
    },
    {
      "cell_type": "code",
      "metadata": {
        "colab": {
          "base_uri": "https://localhost:8080/"
        },
        "id": "U4vQOFTAK3jk",
        "outputId": "db39ac3a-8da2-48b0-ea77-f95d869a2de1"
      },
      "source": [
        "classification_report = metrics.classification_report(labels, predicted_classes, target_names=class_names)\n",
        "print(classification_report)"
      ],
      "execution_count": null,
      "outputs": [
        {
          "output_type": "stream",
          "text": [
            "              precision    recall  f1-score   support\n",
            "\n",
            "       COVID       0.97      0.93      0.95       503\n",
            "      NORMAL       0.94      0.97      0.95       502\n",
            "   PNEUMONIA       0.98      0.99      0.99       502\n",
            "\n",
            "    accuracy                           0.96      1507\n",
            "   macro avg       0.96      0.96      0.96      1507\n",
            "weighted avg       0.96      0.96      0.96      1507\n",
            "\n"
          ],
          "name": "stdout"
        }
      ]
    },
    {
      "cell_type": "code",
      "metadata": {
        "colab": {
          "base_uri": "https://localhost:8080/"
        },
        "id": "4QsP2_ySPBpZ",
        "outputId": "32db1b27-25a5-469e-9d25-a89273daf4b7"
      },
      "source": [
        "cm_test = metrics.confusion_matrix(labels, predicted_classes)\n",
        "cm_test"
      ],
      "execution_count": null,
      "outputs": [
        {
          "output_type": "execute_result",
          "data": {
            "text/plain": [
              "array([[470,  31,   2],\n",
              "       [  9, 487,   6],\n",
              "       [  5,   2, 495]])"
            ]
          },
          "metadata": {
            "tags": []
          },
          "execution_count": 71
        }
      ]
    },
    {
      "cell_type": "code",
      "metadata": {
        "id": "728Zs_S7d2vf"
      },
      "source": [
        "def make_confusion_matrix(cf,\n",
        "                          group_names=None,\n",
        "                          categories='auto',\n",
        "                          count=True,\n",
        "                          percent=True,\n",
        "                          cbar=True,\n",
        "                          xyticks=True,\n",
        "                          xyplotlabels=True,\n",
        "                          sum_stats=True,\n",
        "                          figsize=None,\n",
        "                          cmap='YlGnBu',\n",
        "                          title=None,\n",
        "                          save_dir=None):\n",
        "    \n",
        "    # CODE TO GENERATE TEXT INSIDE EACH SQUARE\n",
        "    blanks = ['' for i in range(cf.size)]\n",
        "\n",
        "    if group_names and len(group_names)==cf.size:\n",
        "        group_labels = [\"{}\\n\".format(value) for value in group_names]\n",
        "    else:\n",
        "        group_labels = blanks\n",
        "\n",
        "    if count:\n",
        "        group_counts = [\"{0:0.0f}\\n\".format(value) for value in cf.flatten()]\n",
        "    else:\n",
        "        group_counts = blanks\n",
        "\n",
        "    if percent:\n",
        "        group_percentages = [\"{0:.2%}\".format(value) for value in cf.flatten()/np.sum(cf)]\n",
        "    else:\n",
        "        group_percentages = blanks\n",
        "\n",
        "    box_labels = [f\"{v1}{v2}{v3}\".strip() for v1, v2, v3 in zip(group_labels,group_counts,group_percentages)]\n",
        "    box_labels = np.asarray(box_labels).reshape(cf.shape[0],cf.shape[1])\n",
        "\n",
        "\n",
        "    # CODE TO GENERATE SUMMARY STATISTICS & TEXT FOR SUMMARY STATS\n",
        "    if sum_stats:\n",
        "        #Accuracy is sum of diagonal divided by total observations\n",
        "        accuracy  = np.trace(cf) / float(np.sum(cf))\n",
        "\n",
        "        #if it is a binary confusion matrix, show some more stats\n",
        "        if len(cf)==2:\n",
        "            #Metrics for Binary Confusion Matrices\n",
        "            precision = cf[1,1] / sum(cf[:,1])\n",
        "            recall    = cf[1,1] / sum(cf[1,:])\n",
        "            f1_score  = 2*precision*recall / (precision + recall)\n",
        "            stats_text = \"\\n\\nAccuracy={:0.3f}\\nPrecision={:0.3f}\\nRecall={:0.3f}\\nF1 Score={:0.3f}\".format(\n",
        "                accuracy,precision,recall,f1_score)\n",
        "        else:\n",
        "            stats_text = \"\\n\\nAccuracy={:0.3f}\".format(accuracy)\n",
        "    else:\n",
        "        stats_text = \"\"\n",
        "\n",
        "\n",
        "    # SET FIGURE PARAMETERS ACCORDING TO OTHER ARGUMENTS\n",
        "    if figsize==None:\n",
        "        #Get default figure size if not set\n",
        "        figsize = plt.rcParams.get('figure.figsize')\n",
        "\n",
        "    if xyticks==False:\n",
        "        #Do not show categories if xyticks is False\n",
        "        categories=False\n",
        "\n",
        "\n",
        "    # MAKE THE HEATMAP VISUALIZATION\n",
        "    plt.figure(figsize=figsize)\n",
        "    hmap = sns.heatmap(cf,annot=box_labels,fmt=\"\",cmap=cmap,cbar=cbar,xticklabels=categories,yticklabels=categories)\n",
        "    hmap.yaxis.set_ticklabels(hmap.yaxis.get_ticklabels(), rotation=0, ha='right')\n",
        "    hmap.xaxis.set_ticklabels(hmap.xaxis.get_ticklabels(), rotation=90, ha='right')\n",
        "\n",
        "    if xyplotlabels:\n",
        "        plt.ylabel('True label')\n",
        "        plt.xlabel('Predicted label' + stats_text)\n",
        "    else:\n",
        "        plt.xlabel(stats_text)\n",
        "    \n",
        "    if title:\n",
        "        plt.title(title)\n",
        "    if save_dir:\n",
        "      plt.savefig(save_dir, dpi=300)"
      ],
      "execution_count": null,
      "outputs": []
    },
    {
      "cell_type": "code",
      "metadata": {
        "id": "4qunfwb6eAMu",
        "colab": {
          "base_uri": "https://localhost:8080/",
          "height": 439
        },
        "outputId": "2cf58f48-fbe7-4660-ce9d-e7607f73583c"
      },
      "source": [
        "make_confusion_matrix(cm_test, figsize=(8,6), cbar=False, categories=class_names, save_dir='cm.png', sum_stats=False)"
      ],
      "execution_count": null,
      "outputs": [
        {
          "output_type": "display_data",
          "data": {
            "image/png": "[encoded data removed]",
            "text/plain": [
              "<Figure size 576x432 with 1 Axes>"
            ]
          },
          "metadata": {
            "tags": [],
            "needs_background": "light"
          }
        }
      ]
    },
    {
      "cell_type": "code",
      "metadata": {
        "id": "gcLm9Va8UPZH",
        "colab": {
          "base_uri": "https://localhost:8080/",
          "height": 547
        },
        "outputId": "2fd36040-65a3-487a-d5b4-76d3d65c482a"
      },
      "source": [
        "from sklearn.preprocessing import LabelBinarizer\n",
        "from sklearn.metrics import roc_curve, auc, roc_auc_score\n",
        "\n",
        "\n",
        "# set plot figure size\n",
        "fig, c_ax = plt.subplots(1,1, figsize = (12, 8))\n",
        "\n",
        "# function for scoring roc auc score for multi-class\n",
        "def multiclass_roc_auc_score(y_test, y_pred, average=\"macro\"):\n",
        "    lb = LabelBinarizer()\n",
        "    lb.fit(y_test)\n",
        "    y_test = lb.transform(y_test)\n",
        "    y_pred = lb.transform(y_pred)\n",
        "\n",
        "    for (idx, c_label) in enumerate(class_names):\n",
        "        fpr, tpr, thresholds = roc_curve(y_test[:,idx].astype(int), y_pred[:,idx])\n",
        "        c_ax.plot(fpr, tpr, label = '%s (AUC:%0.2f)'  % (c_label, auc(fpr, tpr)))\n",
        "    c_ax.plot(fpr, fpr, '--', label = 'Random Guessing')\n",
        "    return roc_auc_score(y_test, y_pred, average=average)\n",
        "\n",
        "\n",
        "print(f'ROC AUC score: {multiclass_roc_auc_score(labels, predicted_classes)} \\n')\n",
        "\n",
        "c_ax.legend()\n",
        "c_ax.set_title('ROC Analysis')\n",
        "c_ax.set_xlabel('False Positive Rate')\n",
        "c_ax.set_ylabel('True Positive Rate')\n",
        "plt.savefig('roc.png', dpi=300)\n",
        "plt.show()\n"
      ],
      "execution_count": null,
      "outputs": [
        {
          "output_type": "stream",
          "text": [
            "ROC AUC score: 0.9726381156612813 \n",
            "\n"
          ],
          "name": "stdout"
        },
        {
          "output_type": "display_data",
          "data": {
            "image/png": "[encoded data removed]",
            "text/plain": [
              "<Figure size 864x576 with 1 Axes>"
            ]
          },
          "metadata": {
            "tags": [],
            "needs_background": "light"
          }
        }
      ]
    },
    {
      "cell_type": "code",
      "metadata": {
        "id": "aAdA0zfPXe5S",
        "colab": {
          "base_uri": "https://localhost:8080/"
        },
        "outputId": "855b7f4e-7c23-442f-cd15-a649aee73d66"
      },
      "source": [
        "print(f'metric name : [COVID, NORMAL, PNEUMONIA]')\n",
        "FP = cm_test.sum(axis=0) - np.diag(cm_test) \n",
        "FN = cm_test.sum(axis=1) - np.diag(cm_test)\n",
        "TP = np.diag(cm_test)\n",
        "TN = cm_test.sum() - (FP + FN + TP)\n",
        "FP = FP.astype(float)\n",
        "FN = FN.astype(float)\n",
        "TP = TP.astype(float)\n",
        "TN = TN.astype(float)\n",
        "print(f'False Positives: {FP}')\n",
        "print(f'False Negatives: {FN}')\n",
        "print(f'True Positives: {TP}')\n",
        "print(f'True Negatives: {TN}')\n",
        "\n",
        "# Sensitivity, hit rate, recall, or true positive rate\n",
        "TPR = TP/(TP+FN)\n",
        "print(f'Sensitivity, hit rate, recall, or true positive rate : {TPR}')\n",
        "# Specificity or true negative rate\n",
        "TNR = TN/(TN+FP) \n",
        "print(f'Specificity or true negative rate : {TNR}')\n",
        "# Precision or positive predictive value\n",
        "PPV = TP/(TP+FP)\n",
        "print(f'Precision or positive predictive value : {PPV}')\n",
        "# Negative predictive value\n",
        "NPV = TN/(TN+FN)\n",
        "print(f'Negative predictive value : {NPV}')\n",
        "# Fall out or false positive rate\n",
        "FPR = FP/(FP+TN)\n",
        "print(f'Fall out or false positive rate : {FPR}')\n",
        "# False negative rate\n",
        "FNR = FN/(TP+FN)\n",
        "print(f'False negative rate : {FNR}')\n",
        "# False discovery rate\n",
        "FDR = FP/(TP+FP)\n",
        "print(f'False discovery rate : {FDR}')\n",
        "# Overall accuracy for each class\n",
        "ACC = (TP+TN)/(TP+FP+FN+TN)\n",
        "print(f'Overall accuracy for each class : {ACC}')"
      ],
      "execution_count": null,
      "outputs": [
        {
          "output_type": "stream",
          "text": [
            "metric name : [COVID, NORMAL, PNEUMONIA]\n",
            "False Positives: [14. 33.  8.]\n",
            "False Negatives: [33. 15.  7.]\n",
            "True Positives: [470. 487. 495.]\n",
            "True Negatives: [990. 972. 997.]\n",
            "Sensitivity, hit rate, recall, or true positive rate : [0.93439364 0.97011952 0.98605578]\n",
            "Specificity or true negative rate : [0.98605578 0.96716418 0.9920398 ]\n",
            "Precision or positive predictive value : [0.97107438 0.93653846 0.98409543]\n",
            "Negative predictive value : [0.96774194 0.98480243 0.99302789]\n",
            "Fall out or false positive rate : [0.01394422 0.03283582 0.0079602 ]\n",
            "False negative rate : [0.06560636 0.02988048 0.01394422]\n",
            "False discovery rate : [0.02892562 0.06346154 0.01590457]\n",
            "Overall accuracy for each class : [0.96881221 0.96814864 0.99004645]\n"
          ],
          "name": "stdout"
        }
      ]
    },
    {
      "cell_type": "code",
      "metadata": {
        "colab": {
          "base_uri": "https://localhost:8080/"
        },
        "id": "CvYAa43FXezg",
        "outputId": "d994ce8c-e558-48b4-b91c-ed2e0d755d34"
      },
      "source": [
        "sum(ACC)/3"
      ],
      "execution_count": null,
      "outputs": [
        {
          "output_type": "execute_result",
          "data": {
            "text/plain": [
              "0.9756690997566909"
            ]
          },
          "metadata": {
            "tags": []
          },
          "execution_count": 76
        }
      ]
    },
    {
      "cell_type": "code",
      "metadata": {
        "id": "tv-uaufmoRK5"
      },
      "source": [
        ""
      ],
      "execution_count": null,
      "outputs": []
    },
    {
      "cell_type": "code",
      "metadata": {
        "id": "TJMYL-aRn3XN"
      },
      "source": [
        ""
      ],
      "execution_count": null,
      "outputs": []
    }
  ]
}